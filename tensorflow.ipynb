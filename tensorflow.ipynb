{
 "cells": [
  {
   "cell_type": "code",
   "execution_count": 1,
   "metadata": {
    "scrolled": true
   },
   "outputs": [
    {
     "name": "stdout",
     "output_type": "stream",
     "text": [
      "Collecting tensorflow\n",
      "  Downloading tensorflow-1.2.0rc2-cp36-cp36m-win_amd64.whl (21.2MB)\n",
      "Collecting backports.weakref==1.0rc1 (from tensorflow)\n",
      "  Downloading backports.weakref-1.0rc1-py3-none-any.whl\n",
      "Requirement already satisfied: six>=1.10.0 in c:\\users\\joshua.chen\\appdata\\local\\continuum\\anaconda3\\lib\\site-packages (from tensorflow)\n",
      "Requirement already satisfied: numpy>=1.11.0 in c:\\users\\joshua.chen\\appdata\\local\\continuum\\anaconda3\\lib\\site-packages (from tensorflow)\n",
      "Collecting protobuf>=3.2.0 (from tensorflow)\n",
      "  Downloading protobuf-3.3.0.tar.gz (271kB)\n",
      "Requirement already satisfied: wheel>=0.26 in c:\\users\\joshua.chen\\appdata\\local\\continuum\\anaconda3\\lib\\site-packages (from tensorflow)\n",
      "Collecting html5lib==0.9999999 (from tensorflow)\n",
      "  Downloading html5lib-0.9999999.tar.gz (889kB)\n",
      "Requirement already satisfied: werkzeug>=0.11.10 in c:\\users\\joshua.chen\\appdata\\local\\continuum\\anaconda3\\lib\\site-packages (from tensorflow)\n",
      "Requirement already satisfied: bleach==1.5.0 in c:\\users\\joshua.chen\\appdata\\local\\continuum\\anaconda3\\lib\\site-packages (from tensorflow)\n",
      "Collecting markdown==2.2.0 (from tensorflow)\n",
      "  Downloading Markdown-2.2.0.tar.gz (236kB)\n",
      "Requirement already satisfied: setuptools in c:\\users\\joshua.chen\\appdata\\local\\continuum\\anaconda3\\lib\\site-packages\\setuptools-27.2.0-py3.6.egg (from protobuf>=3.2.0->tensorflow)\n",
      "Building wheels for collected packages: protobuf, html5lib, markdown\n",
      "  Running setup.py bdist_wheel for protobuf: started\n",
      "  Running setup.py bdist_wheel for protobuf: finished with status 'done'\n",
      "  Stored in directory: C:\\Users\\joshua.chen\\AppData\\Local\\pip\\Cache\\wheels\\1b\\42\\a0\\4c7343df5b629ec9c75655468dce7652b28026896b0209ba55\n",
      "  Running setup.py bdist_wheel for html5lib: started\n",
      "  Running setup.py bdist_wheel for html5lib: finished with status 'done'\n",
      "  Stored in directory: C:\\Users\\joshua.chen\\AppData\\Local\\pip\\Cache\\wheels\\6f\\85\\6c\\56b8e1292c6214c4eb73b9dda50f53e8e977bf65989373c962\n",
      "  Running setup.py bdist_wheel for markdown: started\n",
      "  Running setup.py bdist_wheel for markdown: finished with status 'done'\n",
      "  Stored in directory: C:\\Users\\joshua.chen\\AppData\\Local\\pip\\Cache\\wheels\\b9\\4f\\6c\\f4c1c5207c1d0eeaaf7005f7f736620c6ded6617c9d9b94096\n",
      "Successfully built protobuf html5lib markdown\n",
      "Installing collected packages: backports.weakref, protobuf, html5lib, markdown, tensorflow\n",
      "  Found existing installation: html5lib 0.999\n",
      "    Uninstalling html5lib-0.999:\n",
      "      Successfully uninstalled html5lib-0.999\n",
      "Successfully installed backports.weakref-1.0rc1 html5lib-0.9999999 markdown-2.2.0 protobuf-3.3.0 tensorflow-1.2.0rc2\n"
     ]
    },
    {
     "name": "stderr",
     "output_type": "stream",
     "text": [
      "    DEPRECATION: Uninstalling a distutils installed project (html5lib) has been deprecated and will be removed in a future version. This is due to the fact that uninstalling a distutils project will only partially uninstall the project.\n"
     ]
    }
   ],
   "source": [
    "!pip install tensorflow\n"
   ]
  },
  {
   "cell_type": "code",
   "execution_count": 1,
   "metadata": {
    "collapsed": true
   },
   "outputs": [],
   "source": [
    "import numpy as np\n",
    "import tensorflow as tf\n",
    "import matplotlib.pyplot as plt"
   ]
  },
  {
   "cell_type": "markdown",
   "metadata": {},
   "source": [
    "# tf core tutorial"
   ]
  },
  {
   "cell_type": "code",
   "execution_count": 30,
   "metadata": {},
   "outputs": [
    {
     "name": "stdout",
     "output_type": "stream",
     "text": [
      "Tensor(\"Const_34:0\", shape=(), dtype=float32) Tensor(\"Const_35:0\", shape=(), dtype=float32)\n",
      "[3.0, 4.0]\n",
      "node3 is : Tensor(\"Add_13:0\", shape=(), dtype=float32)\n",
      "sess.run(node3):  7.0\n",
      "7.5\n",
      "[ 3.  7.]\n",
      "421.875\n",
      "[ 0.          0.30000001  0.60000002  0.90000004]\n",
      "23.66\n",
      "[array([-1.], dtype=float32), array([ 1.], dtype=float32)]\n",
      "0.0\n"
     ]
    }
   ],
   "source": [
    "node1 = tf.constant(3.0, dtype=tf.float32)\n",
    "node2 = tf.constant(4.0) # also tf.float32 implicitly\n",
    "#並沒有如想像的印出 3.0,4.0，只有當賦值(evaluate)後才會出現3.0,4.0\n",
    "print(node1, node2)\n",
    "#Tensor(\"Const:0\", shape=(), dtype=float32) Tensor(\"Const_1:0\", shape=(), dtype=float32)\n",
    "#session include control and state of tf runtime\n",
    "sess = tf.Session()\n",
    "print(sess.run([node1, node2]))\n",
    "#operaton is also node\n",
    "node3 = tf.add(node1,node2)\n",
    "print(\"node3 is :\",node3)\n",
    "print(\"sess.run(node3): \",sess.run(node3))\n",
    "#placeholder 一開始沒有值，只有當計算時才會給值進去\n",
    "a = tf.placeholder(tf.float32)\n",
    "b = tf.placeholder(tf.float32)\n",
    "#有點類似lambda概念\n",
    "# + provides a shortcut for tf.add(a, b)\n",
    "adder_node = a+b\n",
    "print(sess.run(adder_node, {a: 3, b:4.5}))\n",
    "print(sess.run(adder_node, {a: [1,3], b: [2, 4]}))\n",
    "#可以一層層疊上去，這樣的設計是因為希望在ML的model裡能夠take arbitrary(任意的) inputs\n",
    "add_and_triple = adder_node ** 3\n",
    "print(sess.run(add_and_triple, {a: 3, b:4.5}))\n",
    "#Variables讓我們能夠在訓練模型下，持續調整參數，讓我們達到相同inputs但卻有不同的outputs\n",
    "W = tf.Variable([.3], dtype=tf.float32)\n",
    "b = tf.Variable([-.3], dtype=tf.float32)\n",
    "x = tf.placeholder(tf.float32)\n",
    "linear_model = W * x + b\n",
    "#與constant不同的是，constant一開始就被初始化了，Variables並沒有，所以要呼叫一個initialize function\n",
    "init = tf.global_variables_initializer()\n",
    "sess.run(init)\n",
    "#賦值時一定要是dict型別\n",
    "print(sess.run(linear_model,{x:[1,2,3,4]}))\n",
    "#為了評估模型的正確性，需要一個y placeholder\n",
    "y = tf.placeholder(tf.float32)\n",
    "squared_deltas = tf.square(linear_model - y)\n",
    "#加總所有的誤差平方\n",
    "loss = tf.reduce_sum(squared_deltas)\n",
    "print(sess.run(loss, {x:[1,2,3,4], y:[0,-1,-2,-3]}))\n",
    "#從新指派新的值給W,b\n",
    "fixW = tf.assign(W, [-1.])\n",
    "fixb = tf.assign(b, [1.])\n",
    "sess.run([fixW, fixb])\n",
    "print(sess.run(loss, {x:[1,2,3,4], y:[0,-1,-2,-3]}))\n"
   ]
  },
  {
   "cell_type": "markdown",
   "metadata": {},
   "source": [
    "# train.api"
   ]
  },
  {
   "cell_type": "code",
   "execution_count": 31,
   "metadata": {},
   "outputs": [
    {
     "name": "stdout",
     "output_type": "stream",
     "text": [
      "[array([-0.9999969], dtype=float32), array([ 0.99999082], dtype=float32)]\n",
      "W: [-0.9999969] b: [ 0.99999082] loss: 5.69997e-11\n"
     ]
    }
   ],
   "source": [
    "#這邊使用gradient decent方法來最小化loss function\n",
    "optimizer = tf.train.GradientDescentOptimizer(0.01)\n",
    "train = optimizer.minimize(loss)\n",
    "sess.run(init) # reset values to incorrect defaults. 若不初始化會得到剛被指派的變數W=-1,b=1\n",
    "#x:[1,2,3,4],y:[0,-1,-2,-3]is training data\n",
    "for i in range(1000):\n",
    "    sess.run(train, {x:[1,2,3,4], y:[0,-1,-2,-3]})\n",
    "\n",
    "print(sess.run([W, b]))\n",
    "curr_W, curr_b, curr_loss = sess.run([W, b, loss], {x:[1,2,3,4], y:[0,-1,-2,-3]})\n",
    "print(\"W: %s b: %s loss: %s\"%(curr_W, curr_b, curr_loss))"
   ]
  },
  {
   "cell_type": "markdown",
   "metadata": {},
   "source": [
    "# tf.contrib.learn ==> high-level"
   ]
  },
  {
   "cell_type": "code",
   "execution_count": 35,
   "metadata": {
    "scrolled": true
   },
   "outputs": [
    {
     "name": "stdout",
     "output_type": "stream",
     "text": [
      "INFO:tensorflow:Using default config.\n",
      "WARNING:tensorflow:Using temporary folder as model directory: C:\\Users\\JOSHUA~1.CHE\\AppData\\Local\\Temp\\tmp3gnm5m0m\n",
      "INFO:tensorflow:Using config: {'_task_type': None, '_task_id': 0, '_cluster_spec': <tensorflow.python.training.server_lib.ClusterSpec object at 0x00000269B6DCDDD8>, '_master': '', '_num_ps_replicas': 0, '_num_worker_replicas': 0, '_environment': 'local', '_is_chief': True, '_evaluation_master': '', '_tf_config': gpu_options {\n",
      "  per_process_gpu_memory_fraction: 1\n",
      "}\n",
      ", '_tf_random_seed': None, '_save_summary_steps': 100, '_save_checkpoints_secs': 600, '_session_config': None, '_save_checkpoints_steps': None, '_keep_checkpoint_max': 5, '_keep_checkpoint_every_n_hours': 10000, '_model_dir': 'C:\\\\Users\\\\JOSHUA~1.CHE\\\\AppData\\\\Local\\\\Temp\\\\tmp3gnm5m0m'}\n",
      "WARNING:tensorflow:From C:\\Users\\joshua.chen\\AppData\\Local\\Continuum\\Anaconda3\\lib\\site-packages\\tensorflow\\contrib\\learn\\python\\learn\\estimators\\head.py:625: scalar_summary (from tensorflow.python.ops.logging_ops) is deprecated and will be removed after 2016-11-30.\n",
      "Instructions for updating:\n",
      "Please switch to tf.summary.scalar. Note that tf.summary.scalar uses the node name instead of the tag. This means that TensorFlow will automatically de-duplicate summary names based on the scope they are created in. Also, passing a tensor or list of tags to a scalar summary op is no longer supported.\n",
      "INFO:tensorflow:Create CheckpointSaverHook.\n",
      "INFO:tensorflow:Saving checkpoints for 1 into C:\\Users\\JOSHUA~1.CHE\\AppData\\Local\\Temp\\tmp3gnm5m0m\\model.ckpt.\n",
      "INFO:tensorflow:loss = 1.25, step = 1\n",
      "INFO:tensorflow:global_step/sec: 847.44\n",
      "INFO:tensorflow:loss = 0.0330949, step = 101 (0.125 sec)\n",
      "INFO:tensorflow:global_step/sec: 862.094\n",
      "INFO:tensorflow:loss = 0.00545467, step = 201 (0.110 sec)\n",
      "INFO:tensorflow:global_step/sec: 868.98\n",
      "INFO:tensorflow:loss = 0.000224949, step = 301 (0.115 sec)\n",
      "INFO:tensorflow:global_step/sec: 877.181\n",
      "INFO:tensorflow:loss = 0.000118668, step = 401 (0.112 sec)\n",
      "INFO:tensorflow:global_step/sec: 952.357\n",
      "INFO:tensorflow:loss = 1.1998e-05, step = 501 (0.108 sec)\n",
      "INFO:tensorflow:global_step/sec: 999.979\n",
      "INFO:tensorflow:loss = 3.35462e-06, step = 601 (0.099 sec)\n",
      "INFO:tensorflow:global_step/sec: 934.549\n",
      "INFO:tensorflow:loss = 5.77568e-07, step = 701 (0.107 sec)\n",
      "INFO:tensorflow:global_step/sec: 952.374\n",
      "INFO:tensorflow:loss = 7.43297e-08, step = 801 (0.104 sec)\n",
      "INFO:tensorflow:global_step/sec: 1190.44\n",
      "INFO:tensorflow:loss = 8.6177e-09, step = 901 (0.084 sec)\n",
      "INFO:tensorflow:Saving checkpoints for 1000 into C:\\Users\\JOSHUA~1.CHE\\AppData\\Local\\Temp\\tmp3gnm5m0m\\model.ckpt.\n",
      "INFO:tensorflow:Loss for final step: 1.19821e-09.\n",
      "WARNING:tensorflow:From C:\\Users\\joshua.chen\\AppData\\Local\\Continuum\\Anaconda3\\lib\\site-packages\\tensorflow\\contrib\\learn\\python\\learn\\estimators\\head.py:625: scalar_summary (from tensorflow.python.ops.logging_ops) is deprecated and will be removed after 2016-11-30.\n",
      "Instructions for updating:\n",
      "Please switch to tf.summary.scalar. Note that tf.summary.scalar uses the node name instead of the tag. This means that TensorFlow will automatically de-duplicate summary names based on the scope they are created in. Also, passing a tensor or list of tags to a scalar summary op is no longer supported.\n",
      "INFO:tensorflow:Starting evaluation at 2017-08-16-03:16:08\n",
      "INFO:tensorflow:Restoring parameters from C:\\Users\\JOSHUA~1.CHE\\AppData\\Local\\Temp\\tmp3gnm5m0m\\model.ckpt-1000\n",
      "INFO:tensorflow:Finished evaluation at 2017-08-16-03:16:09\n",
      "INFO:tensorflow:Saving dict for global step 1000: global_step = 1000, loss = 1.31667e-09\n",
      "WARNING:tensorflow:From C:\\Users\\joshua.chen\\AppData\\Local\\Continuum\\Anaconda3\\lib\\site-packages\\tensorflow\\contrib\\learn\\python\\learn\\estimators\\head.py:625: scalar_summary (from tensorflow.python.ops.logging_ops) is deprecated and will be removed after 2016-11-30.\n",
      "Instructions for updating:\n",
      "Please switch to tf.summary.scalar. Note that tf.summary.scalar uses the node name instead of the tag. This means that TensorFlow will automatically de-duplicate summary names based on the scope they are created in. Also, passing a tensor or list of tags to a scalar summary op is no longer supported.\n",
      "INFO:tensorflow:Starting evaluation at 2017-08-16-03:16:09\n",
      "INFO:tensorflow:Restoring parameters from C:\\Users\\JOSHUA~1.CHE\\AppData\\Local\\Temp\\tmp3gnm5m0m\\model.ckpt-1000\n",
      "INFO:tensorflow:Finished evaluation at 2017-08-16-03:16:10\n",
      "INFO:tensorflow:Saving dict for global step 1000: global_step = 1000, loss = 0.00252726\n",
      "train loss: {'loss': 1.3166699e-09, 'global_step': 1000}\n",
      "eval loss: {'loss': 0.0025272602, 'global_step': 1000}\n"
     ]
    }
   ],
   "source": [
    "#1.running training loops\n",
    "#2.running evaluation loops\n",
    "#3.managing data sets\n",
    "#4.managing feeding\n",
    "features = [tf.contrib.layers.real_valued_column(\"x\", dimension=1)]\n",
    "estimator = tf.contrib.learn.LinearRegressor(feature_columns=features)\n",
    "x_train = np.array([1., 2., 3., 4.])\n",
    "y_train = np.array([0., -1., -2., -3.])\n",
    "x_eval = np.array([2., 5., 8., 1.])\n",
    "y_eval = np.array([-1.01, -4.1, -7, 0.])\n",
    "input_fn = tf.contrib.learn.io.numpy_input_fn({\"x\":x_train}, y_train,batch_size=4,num_epochs=1000)\n",
    "eval_input_fn = tf.contrib.learn.io.numpy_input_fn({\"x\":x_eval}, y_eval, batch_size=4, num_epochs=1000)\n",
    "estimator.fit(input_fn=input_fn, steps=1000)\n",
    "train_loss = estimator.evaluate(input_fn=input_fn)\n",
    "eval_loss = estimator.evaluate(input_fn=eval_input_fn)\n",
    "print(\"train loss: %r\"% train_loss)\n",
    "print(\"eval loss: %r\"% eval_loss)"
   ]
  },
  {
   "cell_type": "code",
   "execution_count": null,
   "metadata": {
    "collapsed": true
   },
   "outputs": [],
   "source": [
    "#custom model\n",
    "#use tf.contrib.learn.Estimator \n",
    "#tf.contrib.learn.LinearRegressor is a sub-class of tf.contrib.learn.Estimator\n",
    "def model(features, labels, mode):\n",
    "    # Build a linear model and predict values\n",
    "    W = tf.get_variable(\"W\", [1], dtype=tf.float64)\n",
    "    b = tf.get_variable(\"b\", [1], dtype=tf.float64)\n",
    "    y = W*features['x'] + b\n",
    "    # Loss sub-graph\n",
    "    loss = tf.reduce_sum(tf.square(y - labels))\n",
    "    # Training sub-graph\n",
    "    global_step = tf.train.get_global_step()\n",
    "    optimizer = tf.train.GradientDescentOptimizer(0.01)\n",
    "    train = tf.group(optimizer.minimize(loss),\n",
    "                   tf.assign_add(global_step, 1))\n",
    "    # ModelFnOps connects subgraphs we built to the\n",
    "    # appropriate functionality.\n",
    "    return tf.contrib.learn.ModelFnOps(\n",
    "      mode=mode, predictions=y,\n",
    "      loss=loss,\n",
    "      train_op=train)"
   ]
  },
  {
   "cell_type": "markdown",
   "metadata": {},
   "source": [
    "# 下載MNIST資料集"
   ]
  },
  {
   "cell_type": "code",
   "execution_count": 2,
   "metadata": {},
   "outputs": [
    {
     "name": "stdout",
     "output_type": "stream",
     "text": [
      "Successfully downloaded train-images-idx3-ubyte.gz 9912422 bytes.\n",
      "Extracting MNIST_data/train-images-idx3-ubyte.gz\n",
      "Successfully downloaded train-labels-idx1-ubyte.gz 28881 bytes.\n",
      "Extracting MNIST_data/train-labels-idx1-ubyte.gz\n",
      "Successfully downloaded t10k-images-idx3-ubyte.gz 1648877 bytes.\n",
      "Extracting MNIST_data/t10k-images-idx3-ubyte.gz\n",
      "Successfully downloaded t10k-labels-idx1-ubyte.gz 4542 bytes.\n",
      "Extracting MNIST_data/t10k-labels-idx1-ubyte.gz\n"
     ]
    }
   ],
   "source": [
    "from tensorflow.examples.tutorials.mnist import input_data\n",
    "mnist = input_data.read_data_sets(\"MNIST_data/\", one_hot=True)"
   ]
  },
  {
   "cell_type": "code",
   "execution_count": 40,
   "metadata": {},
   "outputs": [
    {
     "name": "stdout",
     "output_type": "stream",
     "text": [
      "<class 'tensorflow.contrib.learn.python.learn.datasets.base.Datasets'>\n",
      "55000\n",
      "5000\n",
      "10000\n"
     ]
    }
   ],
   "source": [
    "\n",
    "print (type(mnist))\n",
    "print (mnist.train.num_examples)\n",
    "print (mnist.validation.num_examples)\n",
    "print (mnist.test.num_examples)"
   ]
  },
  {
   "cell_type": "code",
   "execution_count": 4,
   "metadata": {},
   "outputs": [
    {
     "name": "stdout",
     "output_type": "stream",
     "text": [
      " train_img 的 type : <class 'numpy.ndarray'>\n",
      " train_img 的 dimension : (55000, 784)\n",
      " train_label 的 type : [[ 0.  0.  0. ...,  1.  0.  0.]\n",
      " [ 0.  0.  0. ...,  0.  0.  0.]\n",
      " [ 0.  0.  0. ...,  0.  0.  0.]\n",
      " ..., \n",
      " [ 0.  0.  0. ...,  0.  0.  0.]\n",
      " [ 0.  0.  0. ...,  0.  0.  0.]\n",
      " [ 0.  0.  0. ...,  0.  1.  0.]]\n",
      " train_label 的 dimension : (55000, 10)\n",
      " test_img 的 type : <class 'numpy.ndarray'>\n",
      " test_img 的 dimension : (10000, 784)\n",
      " test_label 的 type : <class 'numpy.ndarray'>\n",
      " test_label 的 dimension : (10000, 10)\n"
     ]
    }
   ],
   "source": [
    "train_img = mnist.train.images\n",
    "train_label = mnist.train.labels\n",
    "test_img = mnist.test.images\n",
    "test_label = mnist.test.labels\n",
    "#image的shape為784，因為是28*28像素，label的shape是10代表0~9\n",
    "print(\" train_img 的 type : {}\" .format(type(train_img)))\n",
    "#train_img每張圖的格式為(1,784)\n",
    "print(\" train_img 的 dimension : {}\" .format(train_img.shape))\n",
    "print(\" train_label 的 type : %s\" % (train_label))\n",
    "print(\" train_label 的 dimension : %s\" % (train_label.shape,))\n",
    "print(\" test_img 的 type : %s\" % (type(test_img)))\n",
    "print(\" test_img 的 dimension : %s\" % (test_img.shape,))\n",
    "print(\" test_label 的 type : %s\" % (type(test_label)))\n",
    "print(\" test_label 的 dimension : %s\" % (test_label.shape,))"
   ]
  },
  {
   "cell_type": "code",
   "execution_count": 8,
   "metadata": {
    "scrolled": true
   },
   "outputs": [
    {
     "data": {
      "image/png": "[encoded data removed]",
      "text/plain": [
       "<matplotlib.figure.Figure at 0x269b6742f28>"
      ]
     },
     "metadata": {},
     "output_type": "display_data"
    },
    {
     "data": {
      "image/png": "[encoded data removed]",
      "text/plain": [
       "<matplotlib.figure.Figure at 0x269b67d0898>"
      ]
     },
     "metadata": {},
     "output_type": "display_data"
    },
    {
     "data": {
      "image/png": "[encoded data removed]",
      "text/plain": [
       "<matplotlib.figure.Figure at 0x269b68330f0>"
      ]
     },
     "metadata": {},
     "output_type": "display_data"
    }
   ],
   "source": [
    "#查看圖片長的樣子\n",
    "nsample = 1\n",
    "randidx = np.random.randint(train_img.shape[0], size=nsample)\n",
    "for i in [0, 1, 2]:\n",
    "    #i是代表第幾張圖\n",
    "    curr_img   = np.reshape(train_img[i, :], (28, 28)) # 28 by 28 matrix \n",
    "    #curr_label是該圖的標籤，train_label的形式為[0,0,0,1,0,0,0,0,0,0]，argmax可以找到該list中最大值的index所以是3\n",
    "    curr_label = np.argmax(train_label[i, :] ) # Label\n",
    "    plt.matshow(curr_img, cmap=plt.get_cmap('gray'))\n",
    "    plt.title(\"\" + str(i + 1) + \"th Training Data \" \n",
    "              + \"Label is \" + str(curr_label))\n",
    "plt.show()    "
   ]
  },
  {
   "cell_type": "code",
   "execution_count": 65,
   "metadata": {
    "scrolled": true
   },
   "outputs": [
    {
     "name": "stdout",
     "output_type": "stream",
     "text": [
      "0.8851\n",
      "(7, 7)\n",
      "(2, 2)\n",
      "(1, 1)\n",
      "(0, 0)\n",
      "(4, 4)\n",
      "(1, 1)\n",
      "(4, 4)\n",
      "(9, 9)\n",
      "(6, 5)\n",
      "(9, 9)\n"
     ]
    }
   ],
   "source": [
    "\n",
    "x = tf.placeholder(tf.float32, [None, 784])\n",
    "W = tf.Variable(tf.zeros([784, 10]))\n",
    "b = tf.Variable(tf.zeros([10]))\n",
    "#y是預測的資料\n",
    "y = tf.matmul(x, W) + b\n",
    "\n",
    "#為了訓練模型，需要告訴model哪種結果是好的，壞的結果以cost、loss function\n",
    "#此處使用cross-entropy方式來定義loss\n",
    "y_ = tf.placeholder(tf.float32, [None, 10])\n",
    "#cross_entropy = tf.reduce_mean(-tf.reduce_sum(y_ * tf.log(y), reduction_indices=[1]))\n",
    "#softmax_cross_entropy_with_logits logits參數是預測資料，labels是實際資料\n",
    "cross_entropy = tf.nn.softmax_cross_entropy_with_logits(logits = y,labels = y_)\n",
    "train_step = tf.train.GradientDescentOptimizer(0.5).minimize(cross_entropy)\n",
    "init = tf.global_variables_initializer()\n",
    "sess = tf.Session()\n",
    "sess.run(init)\n",
    "\n",
    "#隨機取mnist的100筆資料來訓練\n",
    "for i in range(1000):\n",
    "    batch_xs, batch_ys = mnist.train.next_batch(100)\n",
    "    sess.run(train_step, {x: batch_xs, y_: batch_ys})\n",
    "# print(x[1])    \n",
    "# for i in [0,1,2]:\n",
    "#     curr_img   = np.reshape(x[i, :], (28, 28))\n",
    "#     curr_label = np.argmax(y[i, :] ) # Label\n",
    "#     plt.matshow(curr_img, cmap=plt.get_cmap('gray'))\n",
    "#     plt.title(\"\" + str(i + 1) + \"th Training Data \" \n",
    "#               + \"Label is \" + str(curr_label))\n",
    "#print boolean for each equation    \n",
    "#y是預測的結果，y_是實際結果\n",
    "correct_prediction = tf.equal(tf.argmax(y,1), tf.argmax(y_,1))\n",
    "accuracy = tf.reduce_mean(tf.cast(correct_prediction, tf.float32))\n",
    "#print出準確度\n",
    "print(sess.run(accuracy, feed_dict={x: mnist.test.images, y_: mnist.test.labels}))\n",
    "#print預測結果和實際結果\n",
    "for i in range(10):\n",
    "    print(sess.run((tf.argmax(y[i,:]),tf.argmax(y_[i,:])),feed_dict={x: mnist.test.images, y_: mnist.test.labels}))\n",
    "  "
   ]
  },
  {
   "cell_type": "markdown",
   "metadata": {},
   "source": [
    "# improving the accuracy for MNIST by CNN"
   ]
  },
  {
   "cell_type": "code",
   "execution_count": null,
   "metadata": {},
   "outputs": [
    {
     "name": "stdout",
     "output_type": "stream",
     "text": [
      "step 0, training accuracy 0.2\n"
     ]
    }
   ],
   "source": [
    "#numpy的矩陣運算會以python以外的語言運算(高效)，但每次運算都要轉換成別種語言會有很多overhead(額外支出)，尤其是在GPU和分散式架構上\n",
    "#tf也是以python以外的預言來運算，但是是一次運算一個階段，所以可減少overhead，類似描述一個tf的流程圖\n",
    "import tensorflow as tf\n",
    "sess = tf.InteractiveSession()\n",
    "def weight_variable(shape):\n",
    "    initial = tf.truncated_normal(shape, stddev=0.1)\n",
    "    return tf.Variable(initial)\n",
    "def bias_variable(shape):\n",
    "    initial = tf.constant(0.1, shape=shape)\n",
    "    return tf.Variable(initial)\n",
    "\n",
    "def conv2d(x, W):\n",
    "    return tf.nn.conv2d(x, W, strides=[1, 1, 1, 1], padding = 'SAME')\n",
    "def max_pool_2x2(x):\n",
    "    return tf.nn.max_pool(x, ksize=[1,2,2,1], strides=[1,2,2,1], padding = 'SAME')\n",
    "W_conv1 = weight_variable([5, 5, 1, 32])\n",
    "b_conv1 = bias_variable([32])\n",
    "x_image = tf.reshape(x, [-1, 28, 28, 1])\n",
    "h_conv1 = tf.nn.relu(conv2d(x_image, W_conv1) + b_conv1)\n",
    "h_pool1 = max_pool_2x2(h_conv1)\n",
    "\n",
    "W_conv2 = weight_variable([5, 5, 32, 64])\n",
    "b_conv2 = bias_variable([64])\n",
    "h_conv2 = tf.nn.relu(conv2d(h_pool1, W_conv2) + b_conv2)\n",
    "h_pool2 = max_pool_2x2(h_conv2)\n",
    "\n",
    "W_fc1 = weight_variable([7 * 7 * 64, 1024])\n",
    "b_fc1 = bias_variable([1024])\n",
    "\n",
    "h_pool2_flat = tf.reshape(h_pool2, [-1, 7 * 7 * 64])\n",
    "h_fc1 = tf.nn.relu(tf.matmul(h_pool2_flat, W_fc1) + b_fc1)\n",
    "#dropout\n",
    "keep_prob = tf.placeholder(tf.float32)\n",
    "h_fc1_drop = tf.nn.dropout(h_fc1, keep_prob)\n",
    "\n",
    "W_fc2 = weight_variable([1024, 10])\n",
    "b_fc2 = bias_variable([10])\n",
    "\n",
    "y_conv = tf.matmul(h_fc1_drop, W_fc2) + b_fc2\n",
    "\n",
    "cross_entropy = tf.reduce_mean(tf.nn.softmax_cross_entropy_with_logits(logits = y_conv, labels = y_))\n",
    "train_step = tf.train.AdamOptimizer(1e-4).minimize(cross_entropy)\n",
    "correct_prediction = tf.equal(tf.argmax(y_conv,1), tf.argmax(y_,1))\n",
    "accuracy = tf.reduce_mean(tf.cast(correct_prediction, tf.float32))\n",
    "sess.run(tf.global_variables_initializer())\n",
    "#跑20000次才夠\n",
    "for i in range(200):\n",
    "    batch = mnist.train.next_batch(50)\n",
    "    if i%100 == 0:\n",
    "        train_accuracy = accuracy.eval(feed_dict={\n",
    "        x:batch[0], y_: batch[1], keep_prob: 1.0})\n",
    "        print(\"step %d, training accuracy %g\"%(i, train_accuracy))\n",
    "    train_step.run(feed_dict={x: batch[0], y_: batch[1], keep_prob: 0.5})\n",
    "\n",
    "print(\"test accuracy %g\"%accuracy.eval(feed_dict={\n",
    "    x: mnist.test.images, y_: mnist.test.labels, keep_prob: 1.0}))"
   ]
  }
 ],
 "metadata": {
  "kernelspec": {
   "display_name": "Python 3",
   "language": "python",
   "name": "python3"
  },
  "language_info": {
   "codemirror_mode": {
    "name": "ipython",
    "version": 3
   },
   "file_extension": ".py",
   "mimetype": "text/x-python",
   "name": "python",
   "nbconvert_exporter": "python",
   "pygments_lexer": "ipython3",
   "version": "3.6.1"
  }
 },
 "nbformat": 4,
 "nbformat_minor": 2
}
