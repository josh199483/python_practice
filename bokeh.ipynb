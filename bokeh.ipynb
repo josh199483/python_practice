{
 "cells": [
  {
   "cell_type": "code",
   "execution_count": 13,
   "metadata": {
    "collapsed": true
   },
   "outputs": [],
   "source": [
    "from bokeh.charts import Scatter,output_file,show\n",
    "import pandas as pd\n",
    "\n",
    "df = pd.DataFrame(columns=['X','Y'])\n",
    "df['X']=[1,2,3,4,5]\n",
    "df['Y']=[5,6,4,5,3]\n",
    "\n",
    "p = Scatter(df,x='X',y='Y',title='test',xlabel='Day',ylabel='Temp',logo=None,tools='')\n",
    "show(p)"
   ]
  },
  {
   "cell_type": "code",
   "execution_count": 12,
   "metadata": {},
   "outputs": [],
   "source": [
    "from bokeh.plotting import figure,output_file,show\n",
    "p=figure(plot_width=500,plot_height=400)\n",
    "p.title.text='good'\n",
    "p.title.text_color='Orange'\n",
    "p.title.text_font='times'\n",
    "p.title.text_font_style='italic'\n",
    "p.yaxis.minor_tick_line_color='blue'\n",
    "p.xaxis.axis_label='times'\n",
    "p.yaxis.axis_label='value'\n",
    "\n",
    "p.circle([1,2,3,4,5],[5,6,5,5,3],size=[i*2 for i in [5,8,12,15,20]],color='red',alpha=0.5)\n",
    "# output_file('test.html')\n",
    "show(p)"
   ]
  },
  {
   "cell_type": "code",
   "execution_count": 24,
   "metadata": {
    "scrolled": true
   },
   "outputs": [],
   "source": [
    "from bokeh.plotting import figure,output_file,show\n",
    "import pandas as pd\n",
    "#parse_dates要加\n",
    "df=pd.read_csv('adbe.csv',parse_dates=['Date'])\n",
    "p=figure(plot_width=500,plot_height=250,x_axis_type='datetime',responsive=True)\n",
    "p.line(df['Date'],df['Close'],color='orange',alpha=0.5)\n",
    "show(p)"
   ]
  }
 ],
 "metadata": {
  "kernelspec": {
   "display_name": "Python 3",
   "language": "python",
   "name": "python3"
  },
  "language_info": {
   "codemirror_mode": {
    "name": "ipython",
    "version": 3
   },
   "file_extension": ".py",
   "mimetype": "text/x-python",
   "name": "python",
   "nbconvert_exporter": "python",
   "pygments_lexer": "ipython3",
   "version": "3.6.1"
  }
 },
 "nbformat": 4,
 "nbformat_minor": 2
}
