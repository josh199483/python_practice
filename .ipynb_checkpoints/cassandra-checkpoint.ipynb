{
 "cells": [
  {
   "cell_type": "code",
   "execution_count": 5,
   "metadata": {},
   "outputs": [
    {
     "name": "stdout",
     "output_type": "stream",
     "text": [
      "Collecting cassandra-driver\n",
      "  Using cached cassandra-driver-3.10.tar.gz\n",
      "Requirement already satisfied: six>=1.9 in c:\\users\\joshua.chen\\appdata\\local\\continuum\\anaconda3\\lib\\site-packages (from cassandra-driver)\n",
      "Skipping bdist_wheel for cassandra-driver, due to binaries being disabled for it.\n",
      "Installing collected packages: cassandra-driver\n",
      "  Running setup.py install for cassandra-driver: started\n",
      "    Running setup.py install for cassandra-driver: finished with status 'done'\n",
      "Successfully installed cassandra-driver-3.10\n"
     ]
    },
    {
     "name": "stderr",
     "output_type": "stream",
     "text": [
      "C:\\Users\\joshua.chen\\AppData\\Local\\Continuum\\Anaconda3\\lib\\site-packages\\pip\\commands\\install.py:194: UserWarning: Disabling all use of wheels due to the use of --build-options / --global-options / --install-options.\n",
      "  cmdoptions.check_install_build_global(options)\n"
     ]
    }
   ],
   "source": [
    "!pip install cassandra-driver --install-option=\"--no-cython\""
   ]
  },
  {
   "cell_type": "code",
   "execution_count": 7,
   "metadata": {},
   "outputs": [],
   "source": [
    "from cassandra.cluster import Cluster\n",
    "cluster = Cluster()\n",
    "session = cluster.connect()"
   ]
  },
  {
   "cell_type": "code",
   "execution_count": null,
   "metadata": {
    "collapsed": true
   },
   "outputs": [],
   "source": []
  }
 ],
 "metadata": {
  "kernelspec": {
   "display_name": "Python 3",
   "language": "python",
   "name": "python3"
  },
  "language_info": {
   "codemirror_mode": {
    "name": "ipython",
    "version": 3
   },
   "file_extension": ".py",
   "mimetype": "text/x-python",
   "name": "python",
   "nbconvert_exporter": "python",
   "pygments_lexer": "ipython3",
   "version": "3.6.1"
  }
 },
 "nbformat": 4,
 "nbformat_minor": 2
}
