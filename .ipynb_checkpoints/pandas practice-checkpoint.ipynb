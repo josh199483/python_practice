{
 "cells": [
  {
   "cell_type": "code",
   "execution_count": 10,
   "metadata": {
    "collapsed": true
   },
   "outputs": [],
   "source": [
    "import pandas as pd\n",
    "import numpy as np"
   ]
  },
  {
   "cell_type": "markdown",
   "metadata": {},
   "source": [
    "# part 1"
   ]
  },
  {
   "cell_type": "code",
   "execution_count": 3,
   "metadata": {},
   "outputs": [
    {
     "data": {
      "text/plain": [
       "0     1.0\n",
       "1     3.0\n",
       "2     6.0\n",
       "3     NaN\n",
       "4    44.0\n",
       "5     1.0\n",
       "dtype: float64"
      ]
     },
     "execution_count": 3,
     "metadata": {},
     "output_type": "execute_result"
    }
   ],
   "source": [
    "s=pd.Series([1,3,6,np.nan,44,1])\n",
    "s"
   ]
  },
  {
   "cell_type": "code",
   "execution_count": 4,
   "metadata": {},
   "outputs": [
    {
     "data": {
      "text/plain": [
       "DatetimeIndex(['2016-01-01', '2016-01-02', '2016-01-03', '2016-01-04',\n",
       "               '2016-01-05', '2016-01-06'],\n",
       "              dtype='datetime64[ns]', freq='D')"
      ]
     },
     "execution_count": 4,
     "metadata": {},
     "output_type": "execute_result"
    }
   ],
   "source": [
    "dates=pd.date_range('20160101',periods=6)\n",
    "dates"
   ]
  },
  {
   "cell_type": "code",
   "execution_count": 5,
   "metadata": {},
   "outputs": [
    {
     "data": {
      "text/html": [
       "<div>\n",
       "<table border=\"1\" class=\"dataframe\">\n",
       "  <thead>\n",
       "    <tr style=\"text-align: right;\">\n",
       "      <th></th>\n",
       "      <th>a</th>\n",
       "      <th>b</th>\n",
       "      <th>c</th>\n",
       "      <th>d</th>\n",
       "    </tr>\n",
       "  </thead>\n",
       "  <tbody>\n",
       "    <tr>\n",
       "      <th>2016-01-01</th>\n",
       "      <td>0.681622</td>\n",
       "      <td>1.124639</td>\n",
       "      <td>-1.085033</td>\n",
       "      <td>-0.953179</td>\n",
       "    </tr>\n",
       "    <tr>\n",
       "      <th>2016-01-02</th>\n",
       "      <td>1.779922</td>\n",
       "      <td>-1.160952</td>\n",
       "      <td>-0.180553</td>\n",
       "      <td>-0.622143</td>\n",
       "    </tr>\n",
       "    <tr>\n",
       "      <th>2016-01-03</th>\n",
       "      <td>-0.311326</td>\n",
       "      <td>-0.020990</td>\n",
       "      <td>0.338925</td>\n",
       "      <td>0.432369</td>\n",
       "    </tr>\n",
       "    <tr>\n",
       "      <th>2016-01-04</th>\n",
       "      <td>-0.336162</td>\n",
       "      <td>1.039892</td>\n",
       "      <td>0.036162</td>\n",
       "      <td>-0.394659</td>\n",
       "    </tr>\n",
       "    <tr>\n",
       "      <th>2016-01-05</th>\n",
       "      <td>-1.562272</td>\n",
       "      <td>-0.405259</td>\n",
       "      <td>-2.646705</td>\n",
       "      <td>1.500391</td>\n",
       "    </tr>\n",
       "    <tr>\n",
       "      <th>2016-01-06</th>\n",
       "      <td>-1.138028</td>\n",
       "      <td>0.403150</td>\n",
       "      <td>-0.498111</td>\n",
       "      <td>-1.033521</td>\n",
       "    </tr>\n",
       "  </tbody>\n",
       "</table>\n",
       "</div>"
      ],
      "text/plain": [
       "                   a         b         c         d\n",
       "2016-01-01  0.681622  1.124639 -1.085033 -0.953179\n",
       "2016-01-02  1.779922 -1.160952 -0.180553 -0.622143\n",
       "2016-01-03 -0.311326 -0.020990  0.338925  0.432369\n",
       "2016-01-04 -0.336162  1.039892  0.036162 -0.394659\n",
       "2016-01-05 -1.562272 -0.405259 -2.646705  1.500391\n",
       "2016-01-06 -1.138028  0.403150 -0.498111 -1.033521"
      ]
     },
     "execution_count": 5,
     "metadata": {},
     "output_type": "execute_result"
    }
   ],
   "source": [
    "df=pd.DataFrame(np.random.randn(6,4),index=dates,columns=['a','b','c','d'])    #index是那列的title，columns則是那行的title\n",
    "df"
   ]
  },
  {
   "cell_type": "code",
   "execution_count": 9,
   "metadata": {},
   "outputs": [
    {
     "data": {
      "text/plain": [
       "a    float64\n",
       "b    float64\n",
       "c    float64\n",
       "d    float64\n",
       "dtype: object"
      ]
     },
     "execution_count": 9,
     "metadata": {},
     "output_type": "execute_result"
    }
   ],
   "source": [
    "df.dtypes"
   ]
  },
  {
   "cell_type": "code",
   "execution_count": 11,
   "metadata": {},
   "outputs": [
    {
     "name": "stdout",
     "output_type": "stream",
     "text": [
      "DatetimeIndex(['2016-01-01', '2016-01-02', '2016-01-03', '2016-01-04',\n",
      "               '2016-01-05', '2016-01-06'],\n",
      "              dtype='datetime64[ns]', freq='D')\n"
     ]
    }
   ],
   "source": [
    "print(df.index)"
   ]
  },
  {
   "cell_type": "code",
   "execution_count": 12,
   "metadata": {},
   "outputs": [
    {
     "name": "stdout",
     "output_type": "stream",
     "text": [
      "Index(['a', 'b', 'c', 'd'], dtype='object')\n"
     ]
    }
   ],
   "source": [
    "print(df.columns)"
   ]
  },
  {
   "cell_type": "code",
   "execution_count": 6,
   "metadata": {},
   "outputs": [
    {
     "data": {
      "text/html": [
       "<div>\n",
       "<table border=\"1\" class=\"dataframe\">\n",
       "  <thead>\n",
       "    <tr style=\"text-align: right;\">\n",
       "      <th></th>\n",
       "      <th>0</th>\n",
       "      <th>1</th>\n",
       "      <th>2</th>\n",
       "      <th>3</th>\n",
       "    </tr>\n",
       "  </thead>\n",
       "  <tbody>\n",
       "    <tr>\n",
       "      <th>0</th>\n",
       "      <td>0</td>\n",
       "      <td>1</td>\n",
       "      <td>2</td>\n",
       "      <td>3</td>\n",
       "    </tr>\n",
       "    <tr>\n",
       "      <th>1</th>\n",
       "      <td>4</td>\n",
       "      <td>5</td>\n",
       "      <td>6</td>\n",
       "      <td>7</td>\n",
       "    </tr>\n",
       "    <tr>\n",
       "      <th>2</th>\n",
       "      <td>8</td>\n",
       "      <td>9</td>\n",
       "      <td>10</td>\n",
       "      <td>11</td>\n",
       "    </tr>\n",
       "  </tbody>\n",
       "</table>\n",
       "</div>"
      ],
      "text/plain": [
       "   0  1   2   3\n",
       "0  0  1   2   3\n",
       "1  4  5   6   7\n",
       "2  8  9  10  11"
      ]
     },
     "execution_count": 6,
     "metadata": {},
     "output_type": "execute_result"
    }
   ],
   "source": [
    "df1=pd.DataFrame(np.arange(12).reshape((3,4)))\n",
    "df1"
   ]
  },
  {
   "cell_type": "code",
   "execution_count": 19,
   "metadata": {},
   "outputs": [
    {
     "data": {
      "text/html": [
       "<div>\n",
       "<table border=\"1\" class=\"dataframe\">\n",
       "  <thead>\n",
       "    <tr style=\"text-align: right;\">\n",
       "      <th></th>\n",
       "      <th>A</th>\n",
       "      <th>B</th>\n",
       "      <th>C</th>\n",
       "      <th>D</th>\n",
       "      <th>E</th>\n",
       "      <th>F</th>\n",
       "    </tr>\n",
       "  </thead>\n",
       "  <tbody>\n",
       "    <tr>\n",
       "      <th>0</th>\n",
       "      <td>1</td>\n",
       "      <td>2016-01-01</td>\n",
       "      <td>1.0</td>\n",
       "      <td>3</td>\n",
       "      <td>train</td>\n",
       "      <td>foo</td>\n",
       "    </tr>\n",
       "    <tr>\n",
       "      <th>1</th>\n",
       "      <td>1</td>\n",
       "      <td>2016-01-01</td>\n",
       "      <td>1.0</td>\n",
       "      <td>3</td>\n",
       "      <td>test</td>\n",
       "      <td>foo</td>\n",
       "    </tr>\n",
       "    <tr>\n",
       "      <th>2</th>\n",
       "      <td>1</td>\n",
       "      <td>2016-01-01</td>\n",
       "      <td>1.0</td>\n",
       "      <td>3</td>\n",
       "      <td>train</td>\n",
       "      <td>foo</td>\n",
       "    </tr>\n",
       "    <tr>\n",
       "      <th>3</th>\n",
       "      <td>1</td>\n",
       "      <td>2016-01-01</td>\n",
       "      <td>1.0</td>\n",
       "      <td>3</td>\n",
       "      <td>test</td>\n",
       "      <td>foo</td>\n",
       "    </tr>\n",
       "  </tbody>\n",
       "</table>\n",
       "</div>"
      ],
      "text/plain": [
       "   A          B    C  D      E    F\n",
       "0  1 2016-01-01  1.0  3  train  foo\n",
       "1  1 2016-01-01  1.0  3   test  foo\n",
       "2  1 2016-01-01  1.0  3  train  foo\n",
       "3  1 2016-01-01  1.0  3   test  foo"
      ]
     },
     "execution_count": 19,
     "metadata": {},
     "output_type": "execute_result"
    }
   ],
   "source": [
    "df2=pd.DataFrame({'A':1,\n",
    "                 'B':pd.Timestamp('20160101'),\n",
    "                 'C':pd.Series(1,index=list(range(4)),dtype='float32'),\n",
    "                 'D':np.array([3]*4,dtype='int32'),\n",
    "                 'E':pd.Categorical(['train','test','train','test']),\n",
    "                 'F':'foo'})\n",
    "#print(df2)\n",
    "df2\n"
   ]
  },
  {
   "cell_type": "code",
   "execution_count": 20,
   "metadata": {},
   "outputs": [
    {
     "data": {
      "text/plain": [
       "array([[1, Timestamp('2016-01-01 00:00:00'), 1.0, 3, 'train', 'foo'],\n",
       "       [1, Timestamp('2016-01-01 00:00:00'), 1.0, 3, 'test', 'foo'],\n",
       "       [1, Timestamp('2016-01-01 00:00:00'), 1.0, 3, 'train', 'foo'],\n",
       "       [1, Timestamp('2016-01-01 00:00:00'), 1.0, 3, 'test', 'foo']], dtype=object)"
      ]
     },
     "execution_count": 20,
     "metadata": {},
     "output_type": "execute_result"
    }
   ],
   "source": [
    "df2.values"
   ]
  },
  {
   "cell_type": "code",
   "execution_count": 21,
   "metadata": {},
   "outputs": [
    {
     "data": {
      "text/html": [
       "<div>\n",
       "<table border=\"1\" class=\"dataframe\">\n",
       "  <thead>\n",
       "    <tr style=\"text-align: right;\">\n",
       "      <th></th>\n",
       "      <th>A</th>\n",
       "      <th>C</th>\n",
       "      <th>D</th>\n",
       "    </tr>\n",
       "  </thead>\n",
       "  <tbody>\n",
       "    <tr>\n",
       "      <th>count</th>\n",
       "      <td>4.0</td>\n",
       "      <td>4.0</td>\n",
       "      <td>4.0</td>\n",
       "    </tr>\n",
       "    <tr>\n",
       "      <th>mean</th>\n",
       "      <td>1.0</td>\n",
       "      <td>1.0</td>\n",
       "      <td>3.0</td>\n",
       "    </tr>\n",
       "    <tr>\n",
       "      <th>std</th>\n",
       "      <td>0.0</td>\n",
       "      <td>0.0</td>\n",
       "      <td>0.0</td>\n",
       "    </tr>\n",
       "    <tr>\n",
       "      <th>min</th>\n",
       "      <td>1.0</td>\n",
       "      <td>1.0</td>\n",
       "      <td>3.0</td>\n",
       "    </tr>\n",
       "    <tr>\n",
       "      <th>25%</th>\n",
       "      <td>1.0</td>\n",
       "      <td>1.0</td>\n",
       "      <td>3.0</td>\n",
       "    </tr>\n",
       "    <tr>\n",
       "      <th>50%</th>\n",
       "      <td>1.0</td>\n",
       "      <td>1.0</td>\n",
       "      <td>3.0</td>\n",
       "    </tr>\n",
       "    <tr>\n",
       "      <th>75%</th>\n",
       "      <td>1.0</td>\n",
       "      <td>1.0</td>\n",
       "      <td>3.0</td>\n",
       "    </tr>\n",
       "    <tr>\n",
       "      <th>max</th>\n",
       "      <td>1.0</td>\n",
       "      <td>1.0</td>\n",
       "      <td>3.0</td>\n",
       "    </tr>\n",
       "  </tbody>\n",
       "</table>\n",
       "</div>"
      ],
      "text/plain": [
       "         A    C    D\n",
       "count  4.0  4.0  4.0\n",
       "mean   1.0  1.0  3.0\n",
       "std    0.0  0.0  0.0\n",
       "min    1.0  1.0  3.0\n",
       "25%    1.0  1.0  3.0\n",
       "50%    1.0  1.0  3.0\n",
       "75%    1.0  1.0  3.0\n",
       "max    1.0  1.0  3.0"
      ]
     },
     "execution_count": 21,
     "metadata": {},
     "output_type": "execute_result"
    }
   ],
   "source": [
    "df2.describe()     #只能顯示數字類的，字串等其他型態不行"
   ]
  },
  {
   "cell_type": "code",
   "execution_count": 22,
   "metadata": {},
   "outputs": [
    {
     "data": {
      "text/html": [
       "<div>\n",
       "<table border=\"1\" class=\"dataframe\">\n",
       "  <thead>\n",
       "    <tr style=\"text-align: right;\">\n",
       "      <th></th>\n",
       "      <th>0</th>\n",
       "      <th>1</th>\n",
       "      <th>2</th>\n",
       "      <th>3</th>\n",
       "    </tr>\n",
       "  </thead>\n",
       "  <tbody>\n",
       "    <tr>\n",
       "      <th>A</th>\n",
       "      <td>1</td>\n",
       "      <td>1</td>\n",
       "      <td>1</td>\n",
       "      <td>1</td>\n",
       "    </tr>\n",
       "    <tr>\n",
       "      <th>B</th>\n",
       "      <td>2016-01-01 00:00:00</td>\n",
       "      <td>2016-01-01 00:00:00</td>\n",
       "      <td>2016-01-01 00:00:00</td>\n",
       "      <td>2016-01-01 00:00:00</td>\n",
       "    </tr>\n",
       "    <tr>\n",
       "      <th>C</th>\n",
       "      <td>1</td>\n",
       "      <td>1</td>\n",
       "      <td>1</td>\n",
       "      <td>1</td>\n",
       "    </tr>\n",
       "    <tr>\n",
       "      <th>D</th>\n",
       "      <td>3</td>\n",
       "      <td>3</td>\n",
       "      <td>3</td>\n",
       "      <td>3</td>\n",
       "    </tr>\n",
       "    <tr>\n",
       "      <th>E</th>\n",
       "      <td>train</td>\n",
       "      <td>test</td>\n",
       "      <td>train</td>\n",
       "      <td>test</td>\n",
       "    </tr>\n",
       "    <tr>\n",
       "      <th>F</th>\n",
       "      <td>foo</td>\n",
       "      <td>foo</td>\n",
       "      <td>foo</td>\n",
       "      <td>foo</td>\n",
       "    </tr>\n",
       "  </tbody>\n",
       "</table>\n",
       "</div>"
      ],
      "text/plain": [
       "                     0                    1                    2  \\\n",
       "A                    1                    1                    1   \n",
       "B  2016-01-01 00:00:00  2016-01-01 00:00:00  2016-01-01 00:00:00   \n",
       "C                    1                    1                    1   \n",
       "D                    3                    3                    3   \n",
       "E                train                 test                train   \n",
       "F                  foo                  foo                  foo   \n",
       "\n",
       "                     3  \n",
       "A                    1  \n",
       "B  2016-01-01 00:00:00  \n",
       "C                    1  \n",
       "D                    3  \n",
       "E                 test  \n",
       "F                  foo  "
      ]
     },
     "execution_count": 22,
     "metadata": {},
     "output_type": "execute_result"
    }
   ],
   "source": [
    "df2.T     #列跟行transpose"
   ]
  },
  {
   "cell_type": "code",
   "execution_count": 23,
   "metadata": {},
   "outputs": [
    {
     "data": {
      "text/html": [
       "<div>\n",
       "<table border=\"1\" class=\"dataframe\">\n",
       "  <thead>\n",
       "    <tr style=\"text-align: right;\">\n",
       "      <th></th>\n",
       "      <th>F</th>\n",
       "      <th>E</th>\n",
       "      <th>D</th>\n",
       "      <th>C</th>\n",
       "      <th>B</th>\n",
       "      <th>A</th>\n",
       "    </tr>\n",
       "  </thead>\n",
       "  <tbody>\n",
       "    <tr>\n",
       "      <th>0</th>\n",
       "      <td>foo</td>\n",
       "      <td>train</td>\n",
       "      <td>3</td>\n",
       "      <td>1.0</td>\n",
       "      <td>2016-01-01</td>\n",
       "      <td>1</td>\n",
       "    </tr>\n",
       "    <tr>\n",
       "      <th>1</th>\n",
       "      <td>foo</td>\n",
       "      <td>test</td>\n",
       "      <td>3</td>\n",
       "      <td>1.0</td>\n",
       "      <td>2016-01-01</td>\n",
       "      <td>1</td>\n",
       "    </tr>\n",
       "    <tr>\n",
       "      <th>2</th>\n",
       "      <td>foo</td>\n",
       "      <td>train</td>\n",
       "      <td>3</td>\n",
       "      <td>1.0</td>\n",
       "      <td>2016-01-01</td>\n",
       "      <td>1</td>\n",
       "    </tr>\n",
       "    <tr>\n",
       "      <th>3</th>\n",
       "      <td>foo</td>\n",
       "      <td>test</td>\n",
       "      <td>3</td>\n",
       "      <td>1.0</td>\n",
       "      <td>2016-01-01</td>\n",
       "      <td>1</td>\n",
       "    </tr>\n",
       "  </tbody>\n",
       "</table>\n",
       "</div>"
      ],
      "text/plain": [
       "     F      E  D    C          B  A\n",
       "0  foo  train  3  1.0 2016-01-01  1\n",
       "1  foo   test  3  1.0 2016-01-01  1\n",
       "2  foo  train  3  1.0 2016-01-01  1\n",
       "3  foo   test  3  1.0 2016-01-01  1"
      ]
     },
     "execution_count": 23,
     "metadata": {},
     "output_type": "execute_result"
    }
   ],
   "source": [
    "df2.sort_index(axis=1,ascending=False)"
   ]
  },
  {
   "cell_type": "code",
   "execution_count": 24,
   "metadata": {},
   "outputs": [
    {
     "data": {
      "text/html": [
       "<div>\n",
       "<table border=\"1\" class=\"dataframe\">\n",
       "  <thead>\n",
       "    <tr style=\"text-align: right;\">\n",
       "      <th></th>\n",
       "      <th>A</th>\n",
       "      <th>B</th>\n",
       "      <th>C</th>\n",
       "      <th>D</th>\n",
       "      <th>E</th>\n",
       "      <th>F</th>\n",
       "    </tr>\n",
       "  </thead>\n",
       "  <tbody>\n",
       "    <tr>\n",
       "      <th>3</th>\n",
       "      <td>1</td>\n",
       "      <td>2016-01-01</td>\n",
       "      <td>1.0</td>\n",
       "      <td>3</td>\n",
       "      <td>test</td>\n",
       "      <td>foo</td>\n",
       "    </tr>\n",
       "    <tr>\n",
       "      <th>2</th>\n",
       "      <td>1</td>\n",
       "      <td>2016-01-01</td>\n",
       "      <td>1.0</td>\n",
       "      <td>3</td>\n",
       "      <td>train</td>\n",
       "      <td>foo</td>\n",
       "    </tr>\n",
       "    <tr>\n",
       "      <th>1</th>\n",
       "      <td>1</td>\n",
       "      <td>2016-01-01</td>\n",
       "      <td>1.0</td>\n",
       "      <td>3</td>\n",
       "      <td>test</td>\n",
       "      <td>foo</td>\n",
       "    </tr>\n",
       "    <tr>\n",
       "      <th>0</th>\n",
       "      <td>1</td>\n",
       "      <td>2016-01-01</td>\n",
       "      <td>1.0</td>\n",
       "      <td>3</td>\n",
       "      <td>train</td>\n",
       "      <td>foo</td>\n",
       "    </tr>\n",
       "  </tbody>\n",
       "</table>\n",
       "</div>"
      ],
      "text/plain": [
       "   A          B    C  D      E    F\n",
       "3  1 2016-01-01  1.0  3   test  foo\n",
       "2  1 2016-01-01  1.0  3  train  foo\n",
       "1  1 2016-01-01  1.0  3   test  foo\n",
       "0  1 2016-01-01  1.0  3  train  foo"
      ]
     },
     "execution_count": 24,
     "metadata": {},
     "output_type": "execute_result"
    }
   ],
   "source": [
    "df2.sort_index(axis=0,ascending=False)"
   ]
  },
  {
   "cell_type": "code",
   "execution_count": 25,
   "metadata": {
    "scrolled": true
   },
   "outputs": [
    {
     "data": {
      "text/html": [
       "<div>\n",
       "<table border=\"1\" class=\"dataframe\">\n",
       "  <thead>\n",
       "    <tr style=\"text-align: right;\">\n",
       "      <th></th>\n",
       "      <th>A</th>\n",
       "      <th>B</th>\n",
       "      <th>C</th>\n",
       "      <th>D</th>\n",
       "      <th>E</th>\n",
       "      <th>F</th>\n",
       "    </tr>\n",
       "  </thead>\n",
       "  <tbody>\n",
       "    <tr>\n",
       "      <th>1</th>\n",
       "      <td>1</td>\n",
       "      <td>2016-01-01</td>\n",
       "      <td>1.0</td>\n",
       "      <td>3</td>\n",
       "      <td>test</td>\n",
       "      <td>foo</td>\n",
       "    </tr>\n",
       "    <tr>\n",
       "      <th>3</th>\n",
       "      <td>1</td>\n",
       "      <td>2016-01-01</td>\n",
       "      <td>1.0</td>\n",
       "      <td>3</td>\n",
       "      <td>test</td>\n",
       "      <td>foo</td>\n",
       "    </tr>\n",
       "    <tr>\n",
       "      <th>0</th>\n",
       "      <td>1</td>\n",
       "      <td>2016-01-01</td>\n",
       "      <td>1.0</td>\n",
       "      <td>3</td>\n",
       "      <td>train</td>\n",
       "      <td>foo</td>\n",
       "    </tr>\n",
       "    <tr>\n",
       "      <th>2</th>\n",
       "      <td>1</td>\n",
       "      <td>2016-01-01</td>\n",
       "      <td>1.0</td>\n",
       "      <td>3</td>\n",
       "      <td>train</td>\n",
       "      <td>foo</td>\n",
       "    </tr>\n",
       "  </tbody>\n",
       "</table>\n",
       "</div>"
      ],
      "text/plain": [
       "   A          B    C  D      E    F\n",
       "1  1 2016-01-01  1.0  3   test  foo\n",
       "3  1 2016-01-01  1.0  3   test  foo\n",
       "0  1 2016-01-01  1.0  3  train  foo\n",
       "2  1 2016-01-01  1.0  3  train  foo"
      ]
     },
     "execution_count": 25,
     "metadata": {},
     "output_type": "execute_result"
    }
   ],
   "source": [
    "df2.sort_values(by='E')"
   ]
  },
  {
   "cell_type": "markdown",
   "metadata": {},
   "source": [
    "# part 2"
   ]
  },
  {
   "cell_type": "code",
   "execution_count": 6,
   "metadata": {},
   "outputs": [
    {
     "name": "stdout",
     "output_type": "stream",
     "text": [
      "             A   B   C   D\n",
      "2016-01-01   0   1   2   3\n",
      "2016-01-02   4   5   6   7\n",
      "2016-01-03   8   9  10  11\n",
      "2016-01-04  12  13  14  15\n",
      "2016-01-05  16  17  18  19\n",
      "2016-01-06  20  21  22  23\n"
     ]
    }
   ],
   "source": [
    "dates=pd.date_range('20160101',periods=6)\n",
    "df=pd.DataFrame(np.arange(24).reshape((6,4)),index=dates,columns=['A','B','C','D'])\n",
    "print(df)        "
   ]
  },
  {
   "cell_type": "code",
   "execution_count": 5,
   "metadata": {},
   "outputs": [
    {
     "name": "stdout",
     "output_type": "stream",
     "text": [
      "2016-01-01     0\n",
      "2016-01-02     4\n",
      "2016-01-03     8\n",
      "2016-01-04    12\n",
      "2016-01-05    16\n",
      "2016-01-06    20\n",
      "Freq: D, Name: A, dtype: int32 2016-01-01     0\n",
      "2016-01-02     4\n",
      "2016-01-03     8\n",
      "2016-01-04    12\n",
      "2016-01-05    16\n",
      "2016-01-06    20\n",
      "Freq: D, Name: A, dtype: int32\n"
     ]
    }
   ],
   "source": [
    "print(df['A'],df.A)     #排版的問題 ， 兩者是相等的"
   ]
  },
  {
   "cell_type": "code",
   "execution_count": 4,
   "metadata": {},
   "outputs": [
    {
     "name": "stdout",
     "output_type": "stream",
     "text": [
      "            A  B   C   D\n",
      "2016-01-01  0  1   2   3\n",
      "2016-01-02  4  5   6   7\n",
      "2016-01-03  8  9  10  11              A   B   C   D\n",
      "2016-01-02   4   5   6   7\n",
      "2016-01-03   8   9  10  11\n",
      "2016-01-04  12  13  14  15\n"
     ]
    }
   ],
   "source": [
    "print(df[0:3],df['20160102':'20160104'])    #排版的問題 ，兩者是相等的"
   ]
  },
  {
   "cell_type": "markdown",
   "metadata": {},
   "source": [
    "# select by label:loc"
   ]
  },
  {
   "cell_type": "code",
   "execution_count": 7,
   "metadata": {},
   "outputs": [
    {
     "name": "stdout",
     "output_type": "stream",
     "text": [
      "A    4\n",
      "B    5\n",
      "C    6\n",
      "D    7\n",
      "Name: 2016-01-02 00:00:00, dtype: int32\n"
     ]
    }
   ],
   "source": [
    "print(df.loc['20160102'])"
   ]
  },
  {
   "cell_type": "code",
   "execution_count": 8,
   "metadata": {},
   "outputs": [
    {
     "name": "stdout",
     "output_type": "stream",
     "text": [
      "             A   B\n",
      "2016-01-01   0   1\n",
      "2016-01-02   4   5\n",
      "2016-01-03   8   9\n",
      "2016-01-04  12  13\n",
      "2016-01-05  16  17\n",
      "2016-01-06  20  21\n"
     ]
    }
   ],
   "source": [
    "print(df.loc[:,['A','B']])"
   ]
  },
  {
   "cell_type": "code",
   "execution_count": 9,
   "metadata": {},
   "outputs": [
    {
     "name": "stdout",
     "output_type": "stream",
     "text": [
      "A    4\n",
      "B    5\n",
      "Name: 2016-01-02 00:00:00, dtype: int32\n"
     ]
    }
   ],
   "source": [
    "print(df.loc['20160102',['A','B']])"
   ]
  },
  {
   "cell_type": "markdown",
   "metadata": {},
   "source": [
    "# select by position : iloc"
   ]
  },
  {
   "cell_type": "code",
   "execution_count": 10,
   "metadata": {},
   "outputs": [
    {
     "name": "stdout",
     "output_type": "stream",
     "text": [
      "13\n"
     ]
    }
   ],
   "source": [
    "print(df.iloc[3,1])    #第3+1列第1+1行(index從0算起)"
   ]
  },
  {
   "cell_type": "code",
   "execution_count": 11,
   "metadata": {},
   "outputs": [
    {
     "name": "stdout",
     "output_type": "stream",
     "text": [
      "             B   C\n",
      "2016-01-04  13  14\n",
      "2016-01-05  17  18\n"
     ]
    }
   ],
   "source": [
    "print(df.iloc[3:5,1:3])    "
   ]
  },
  {
   "cell_type": "code",
   "execution_count": 12,
   "metadata": {},
   "outputs": [
    {
     "name": "stdout",
     "output_type": "stream",
     "text": [
      "             B   C\n",
      "2016-01-02   5   6\n",
      "2016-01-04  13  14\n",
      "2016-01-06  21  22\n"
     ]
    }
   ],
   "source": [
    "print(df.iloc[[1,3,5],1:3])    "
   ]
  },
  {
   "cell_type": "markdown",
   "metadata": {},
   "source": [
    "# mixed selection"
   ]
  },
  {
   "cell_type": "code",
   "execution_count": 13,
   "metadata": {},
   "outputs": [
    {
     "name": "stdout",
     "output_type": "stream",
     "text": [
      "            A   C\n",
      "2016-01-01  0   2\n",
      "2016-01-02  4   6\n",
      "2016-01-03  8  10\n"
     ]
    }
   ],
   "source": [
    "print(df.ix[:3,['A','C']])     #index and name"
   ]
  },
  {
   "cell_type": "markdown",
   "metadata": {},
   "source": [
    "# boolean indexing"
   ]
  },
  {
   "cell_type": "code",
   "execution_count": 14,
   "metadata": {},
   "outputs": [
    {
     "name": "stdout",
     "output_type": "stream",
     "text": [
      "             A   B   C   D\n",
      "2016-01-04  12  13  14  15\n",
      "2016-01-05  16  17  18  19\n",
      "2016-01-06  20  21  22  23\n"
     ]
    }
   ],
   "source": [
    "print(df[df.A>8])"
   ]
  },
  {
   "cell_type": "markdown",
   "metadata": {},
   "source": [
    "# 指定值"
   ]
  },
  {
   "cell_type": "code",
   "execution_count": 17,
   "metadata": {},
   "outputs": [
    {
     "name": "stdout",
     "output_type": "stream",
     "text": [
      "            A     B    C  D\n",
      "2016-01-01  0  2222    2  3\n",
      "2016-01-02  0     0    0  0\n",
      "2016-01-03  0     0  111  0\n",
      "2016-01-04  0     0    0  0\n",
      "2016-01-05  0     0    0  0\n",
      "2016-01-06  0     0    0  0\n"
     ]
    }
   ],
   "source": [
    "df.iloc[2,2]=111\n",
    "df.loc['20160101','B']=2222\n",
    "df[df.A>0]=0   #A那行大於0之後的整個陣列都指定為0\n",
    "#df.A[df.A>4]=0    #只改A那行大於4的值都指定為0 \n",
    "print(df)"
   ]
  },
  {
   "cell_type": "code",
   "execution_count": 18,
   "metadata": {},
   "outputs": [
    {
     "name": "stdout",
     "output_type": "stream",
     "text": [
      "            A     B    C  D   F\n",
      "2016-01-01  0  2222    2  3 NaN\n",
      "2016-01-02  0     0    0  0 NaN\n",
      "2016-01-03  0     0  111  0 NaN\n",
      "2016-01-04  0     0    0  0 NaN\n",
      "2016-01-05  0     0    0  0 NaN\n",
      "2016-01-06  0     0    0  0 NaN\n"
     ]
    }
   ],
   "source": [
    "df['F']=np.nan\n",
    "print(df)"
   ]
  },
  {
   "cell_type": "code",
   "execution_count": 20,
   "metadata": {},
   "outputs": [
    {
     "name": "stdout",
     "output_type": "stream",
     "text": [
      "            A     B    C  D   F  E\n",
      "2016-01-01  0  2222    2  3 NaN  1\n",
      "2016-01-02  0     0    0  0 NaN  2\n",
      "2016-01-03  0     0  111  0 NaN  3\n",
      "2016-01-04  0     0    0  0 NaN  4\n",
      "2016-01-05  0     0    0  0 NaN  5\n",
      "2016-01-06  0     0    0  0 NaN  6\n"
     ]
    }
   ],
   "source": [
    "df['E']=pd.Series([1,2,3,4,5,6],index=pd.date_range('20160101',periods=6))\n",
    "print(df)"
   ]
  },
  {
   "cell_type": "markdown",
   "metadata": {},
   "source": [
    "# part 3"
   ]
  },
  {
   "cell_type": "code",
   "execution_count": 9,
   "metadata": {},
   "outputs": [
    {
     "name": "stdout",
     "output_type": "stream",
     "text": [
      "             A     B     C   D\n",
      "2016-01-01   0   NaN   2.0   3\n",
      "2016-01-02   4   5.0   NaN   7\n",
      "2016-01-03   8   9.0  10.0  11\n",
      "2016-01-04  12  13.0  14.0  15\n",
      "2016-01-05  16  17.0  18.0  19\n",
      "2016-01-06  20  21.0  22.0  23\n"
     ]
    }
   ],
   "source": [
    "dates=pd.date_range('20160101',periods=6)\n",
    "df=pd.DataFrame(np.arange(24).reshape((6,4)),index=dates,columns=['A','B','C','D'])\n",
    "df.iloc[0,1]=np.nan\n",
    "df.iloc[1,2]=np.nan\n",
    "print(df)"
   ]
  },
  {
   "cell_type": "code",
   "execution_count": 5,
   "metadata": {},
   "outputs": [
    {
     "name": "stdout",
     "output_type": "stream",
     "text": [
      "             A     B     C   D\n",
      "2016-01-03   8   9.0  10.0  11\n",
      "2016-01-04  12  13.0  14.0  15\n",
      "2016-01-05  16  17.0  18.0  19\n",
      "2016-01-06  20  21.0  22.0  23\n"
     ]
    }
   ],
   "source": [
    "print(df.dropna(axis=0,how='any'))   #只要那列有一個值是nan則丟掉整列  \n",
    "                                     #how={'any','all'} 那列都是nan時才丟掉整列"
   ]
  },
  {
   "cell_type": "code",
   "execution_count": 6,
   "metadata": {},
   "outputs": [
    {
     "name": "stdout",
     "output_type": "stream",
     "text": [
      "             A   D\n",
      "2016-01-01   0   3\n",
      "2016-01-02   4   7\n",
      "2016-01-03   8  11\n",
      "2016-01-04  12  15\n",
      "2016-01-05  16  19\n",
      "2016-01-06  20  23\n"
     ]
    }
   ],
   "source": [
    "print(df.dropna(axis=1,how='any'))   #只要那column有一個值是nan則丟掉整個column "
   ]
  },
  {
   "cell_type": "code",
   "execution_count": 8,
   "metadata": {},
   "outputs": [
    {
     "name": "stdout",
     "output_type": "stream",
     "text": [
      "             A     B     C   D\n",
      "2016-01-01   0   0.0   2.0   3\n",
      "2016-01-02   4   5.0   0.0   7\n",
      "2016-01-03   8   9.0  10.0  11\n",
      "2016-01-04  12  13.0  14.0  15\n",
      "2016-01-05  16  17.0  18.0  19\n",
      "2016-01-06  20  21.0  22.0  23\n"
     ]
    }
   ],
   "source": [
    "print(df.fillna(value=0))     #把nan都填為0"
   ]
  },
  {
   "cell_type": "code",
   "execution_count": 10,
   "metadata": {},
   "outputs": [
    {
     "name": "stdout",
     "output_type": "stream",
     "text": [
      "                A      B      C      D\n",
      "2016-01-01  False   True  False  False\n",
      "2016-01-02  False  False   True  False\n",
      "2016-01-03  False  False  False  False\n",
      "2016-01-04  False  False  False  False\n",
      "2016-01-05  False  False  False  False\n",
      "2016-01-06  False  False  False  False\n"
     ]
    }
   ],
   "source": [
    "print(df.isnull())"
   ]
  },
  {
   "cell_type": "code",
   "execution_count": 11,
   "metadata": {},
   "outputs": [
    {
     "name": "stdout",
     "output_type": "stream",
     "text": [
      "True\n"
     ]
    }
   ],
   "source": [
    "print(np.any(df.isnull()==True))      #當資料過多時無法判別裏頭到底有無null值，可使用numpy的any方法"
   ]
  },
  {
   "cell_type": "markdown",
   "metadata": {},
   "source": [
    "# concatenateing"
   ]
  },
  {
   "cell_type": "code",
   "execution_count": 4,
   "metadata": {},
   "outputs": [
    {
     "name": "stdout",
     "output_type": "stream",
     "text": [
      "     A    B    C    D\n",
      "0  0.0  0.0  0.0  0.0\n",
      "1  0.0  0.0  0.0  0.0\n",
      "2  0.0  0.0  0.0  0.0\n",
      "     A    B    C    D\n",
      "0  1.0  1.0  1.0  1.0\n",
      "1  1.0  1.0  1.0  1.0\n",
      "2  1.0  1.0  1.0  1.0\n",
      "     A    B    C    D\n",
      "0  2.0  2.0  2.0  2.0\n",
      "1  2.0  2.0  2.0  2.0\n",
      "2  2.0  2.0  2.0  2.0\n"
     ]
    }
   ],
   "source": [
    "df1=pd.DataFrame(np.ones((3,4))*0,columns=['A','B','C','D'])\n",
    "df2=pd.DataFrame(np.ones((3,4))*1,columns=['A','B','C','D'])\n",
    "df3=pd.DataFrame(np.ones((3,4))*2,columns=['A','B','C','D'])\n",
    "print(df1)\n",
    "print(df2)\n",
    "print(df3)"
   ]
  },
  {
   "cell_type": "code",
   "execution_count": 6,
   "metadata": {},
   "outputs": [
    {
     "name": "stdout",
     "output_type": "stream",
     "text": [
      "     A    B    C    D\n",
      "0  0.0  0.0  0.0  0.0\n",
      "1  0.0  0.0  0.0  0.0\n",
      "2  0.0  0.0  0.0  0.0\n",
      "0  1.0  1.0  1.0  1.0\n",
      "1  1.0  1.0  1.0  1.0\n",
      "2  1.0  1.0  1.0  1.0\n",
      "0  2.0  2.0  2.0  2.0\n",
      "1  2.0  2.0  2.0  2.0\n",
      "2  2.0  2.0  2.0  2.0\n"
     ]
    }
   ],
   "source": [
    "res=pd.concat([df1,df2,df3],axis=0)\n",
    "print(res)"
   ]
  },
  {
   "cell_type": "code",
   "execution_count": 7,
   "metadata": {},
   "outputs": [
    {
     "name": "stdout",
     "output_type": "stream",
     "text": [
      "     A    B    C    D\n",
      "0  0.0  0.0  0.0  0.0\n",
      "1  0.0  0.0  0.0  0.0\n",
      "2  0.0  0.0  0.0  0.0\n",
      "3  1.0  1.0  1.0  1.0\n",
      "4  1.0  1.0  1.0  1.0\n",
      "5  1.0  1.0  1.0  1.0\n",
      "6  2.0  2.0  2.0  2.0\n",
      "7  2.0  2.0  2.0  2.0\n",
      "8  2.0  2.0  2.0  2.0\n"
     ]
    }
   ],
   "source": [
    "res1=pd.concat([df1,df2,df3],axis=0,ignore_index=True)     #index 新的index\n",
    "print(res1)"
   ]
  },
  {
   "cell_type": "markdown",
   "metadata": {},
   "source": [
    "# join['inner','outer']"
   ]
  },
  {
   "cell_type": "code",
   "execution_count": 8,
   "metadata": {},
   "outputs": [
    {
     "name": "stdout",
     "output_type": "stream",
     "text": [
      "     A    B    C    D\n",
      "1  0.0  0.0  0.0  0.0\n",
      "2  0.0  0.0  0.0  0.0\n",
      "3  0.0  0.0  0.0  0.0\n",
      "     B    C    D    E\n",
      "2  1.0  1.0  1.0  1.0\n",
      "3  1.0  1.0  1.0  1.0\n",
      "4  1.0  1.0  1.0  1.0\n"
     ]
    }
   ],
   "source": [
    "df4=pd.DataFrame(np.ones((3,4))*0,columns=['A','B','C','D'],index=[1,2,3])\n",
    "df5=pd.DataFrame(np.ones((3,4))*1,columns=['B','C','D','E'],index=[2,3,4])\n",
    "print(df4)\n",
    "print(df5)"
   ]
  },
  {
   "cell_type": "code",
   "execution_count": 10,
   "metadata": {},
   "outputs": [
    {
     "name": "stdout",
     "output_type": "stream",
     "text": [
      "     A    B    C    D    E\n",
      "1  0.0  0.0  0.0  0.0  NaN\n",
      "2  0.0  0.0  0.0  0.0  NaN\n",
      "3  0.0  0.0  0.0  0.0  NaN\n",
      "2  NaN  1.0  1.0  1.0  1.0\n",
      "3  NaN  1.0  1.0  1.0  1.0\n",
      "4  NaN  1.0  1.0  1.0  1.0\n"
     ]
    }
   ],
   "source": [
    "res1=pd.concat([df4,df5])   #join default outer，彼此沒有的欄位會自動生成null值\n",
    "print(res1)"
   ]
  },
  {
   "cell_type": "code",
   "execution_count": 12,
   "metadata": {},
   "outputs": [
    {
     "name": "stdout",
     "output_type": "stream",
     "text": [
      "     B    C    D\n",
      "0  0.0  0.0  0.0\n",
      "1  0.0  0.0  0.0\n",
      "2  0.0  0.0  0.0\n",
      "3  1.0  1.0  1.0\n",
      "4  1.0  1.0  1.0\n",
      "5  1.0  1.0  1.0\n"
     ]
    }
   ],
   "source": [
    "res2=pd.concat([df4,df5],join='inner',ignore_index=True)   #join= 'inner'，將彼此沒有的欄位自動刪\n",
    "print(res2)"
   ]
  },
  {
   "cell_type": "markdown",
   "metadata": {},
   "source": [
    "# join axes"
   ]
  },
  {
   "cell_type": "code",
   "execution_count": 13,
   "metadata": {},
   "outputs": [
    {
     "name": "stdout",
     "output_type": "stream",
     "text": [
      "     A    B    C    D    B    C    D    E\n",
      "1  0.0  0.0  0.0  0.0  NaN  NaN  NaN  NaN\n",
      "2  0.0  0.0  0.0  0.0  1.0  1.0  1.0  1.0\n",
      "3  0.0  0.0  0.0  0.0  1.0  1.0  1.0  1.0\n",
      "4  NaN  NaN  NaN  NaN  1.0  1.0  1.0  1.0\n"
     ]
    }
   ],
   "source": [
    "res3=pd.concat([df4,df5],axis=1)\n",
    "print(res3)"
   ]
  },
  {
   "cell_type": "code",
   "execution_count": 14,
   "metadata": {},
   "outputs": [
    {
     "name": "stdout",
     "output_type": "stream",
     "text": [
      "     A    B    C    D    B    C    D    E\n",
      "1  0.0  0.0  0.0  0.0  NaN  NaN  NaN  NaN\n",
      "2  0.0  0.0  0.0  0.0  1.0  1.0  1.0  1.0\n",
      "3  0.0  0.0  0.0  0.0  1.0  1.0  1.0  1.0\n"
     ]
    }
   ],
   "source": [
    "res4=pd.concat([df4,df5],axis=1,join_axes=[df4.index])    #以df4的index為基準\n",
    "print(res4)"
   ]
  },
  {
   "cell_type": "markdown",
   "metadata": {},
   "source": [
    "# append"
   ]
  },
  {
   "cell_type": "code",
   "execution_count": 16,
   "metadata": {},
   "outputs": [
    {
     "name": "stdout",
     "output_type": "stream",
     "text": [
      "     A    B    C    D\n",
      "0  0.0  0.0  0.0  0.0\n",
      "1  0.0  0.0  0.0  0.0\n",
      "2  0.0  0.0  0.0  0.0\n",
      "3  1.0  2.0  3.0  4.0\n"
     ]
    }
   ],
   "source": [
    "df1=pd.DataFrame(np.ones((3,4))*0,columns=['A','B','C','D'])\n",
    "df2=pd.DataFrame(np.ones((3,4))*1,columns=['A','B','C','D'])\n",
    "df3=pd.DataFrame(np.ones((3,4))*2,columns=['A','B','C','D'])\n",
    "\n",
    "#res=df1.append([df2,df3])\n",
    "#print(res)\n",
    "s1=pd.Series([1,2,3,4],index=['A','B','C','D'])\n",
    "res=df1.append(s1,ignore_index=True)\n",
    "print(res)"
   ]
  },
  {
   "cell_type": "markdown",
   "metadata": {},
   "source": [
    "# part 4"
   ]
  },
  {
   "cell_type": "markdown",
   "metadata": {},
   "source": [
    "# merging two df by key"
   ]
  },
  {
   "cell_type": "code",
   "execution_count": 17,
   "metadata": {},
   "outputs": [
    {
     "name": "stdout",
     "output_type": "stream",
     "text": [
      "    A   B key\n",
      "0  a0  b0  k0\n",
      "1  a1  b1  k1\n",
      "2  a2  b2  k2\n",
      "3  a3  b3  k3\n",
      "    C   D key\n",
      "0  c0  d0  k0\n",
      "1  c1  d1  k1\n",
      "2  c2  d2  k2\n",
      "3  c3  d3  k3\n"
     ]
    }
   ],
   "source": [
    "left=pd.DataFrame({'key':['k0','k1','k2','k3'],\n",
    "                  'A':['a0','a1','a2','a3'],\n",
    "                  'B':['b0','b1','b2','b3']})\n",
    "right=pd.DataFrame({'key':['k0','k1','k2','k3'],\n",
    "                  'C':['c0','c1','c2','c3'],\n",
    "                  'D':['d0','d1','d2','d3']})\n",
    "print(left)\n",
    "print(right)"
   ]
  },
  {
   "cell_type": "code",
   "execution_count": 19,
   "metadata": {},
   "outputs": [
    {
     "name": "stdout",
     "output_type": "stream",
     "text": [
      "    A   B key   C   D\n",
      "0  a0  b0  k0  c0  d0\n",
      "1  a1  b1  k1  c1  d1\n",
      "2  a2  b2  k2  c2  d2\n",
      "3  a3  b3  k3  c3  d3\n"
     ]
    }
   ],
   "source": [
    "result=pd.merge(left,right,on='key')    #on='key'可省略\n",
    "print(result)"
   ]
  },
  {
   "cell_type": "code",
   "execution_count": 24,
   "metadata": {},
   "outputs": [
    {
     "name": "stdout",
     "output_type": "stream",
     "text": [
      "    A   B key1 key2   C   D\n",
      "0  a0  b0   k0   k0  c0  d0\n",
      "1  a2  b2   k1   k0  c1  d1\n",
      "2  a2  b2   k1   k0  c2  d2\n"
     ]
    }
   ],
   "source": [
    "left1=pd.DataFrame({'key1':['k0','k0','k1','k2'],\n",
    "                    'key2':['k0','k1','k0','k1'],\n",
    "                    'A':['a0','a1','a2','a3'],\n",
    "                    'B':['b0','b1','b2','b3']})\n",
    "right1=pd.DataFrame({'key1':['k0','k1','k1','k2'],\n",
    "                     'key2':['k0','k0','k0','k0'],\n",
    "                     'C':['c0','c1','c2','c3'],\n",
    "                     'D':['d0','d1','d2','d3']})\n",
    "result1=pd.merge(left1,right1,on=['key1','key2'],how='inner')    #default inner   #how='inner','outer','right','left'\n",
    "print(result1)"
   ]
  },
  {
   "cell_type": "code",
   "execution_count": 25,
   "metadata": {},
   "outputs": [
    {
     "name": "stdout",
     "output_type": "stream",
     "text": [
      "    A   B key1 key2    C    D\n",
      "0  a0  b0   k0   k0   c0   d0\n",
      "1  a1  b1   k0   k1  NaN  NaN\n",
      "2  a2  b2   k1   k0   c1   d1\n",
      "3  a2  b2   k1   k0   c2   d2\n",
      "4  a3  b3   k2   k1  NaN  NaN\n"
     ]
    }
   ],
   "source": [
    "result1=pd.merge(left1,right1,on=['key1','key2'],how='left')    #default inner   #how='inner','outer','right','left'\n",
    "print(result1)"
   ]
  },
  {
   "cell_type": "markdown",
   "metadata": {},
   "source": [
    "# indicator"
   ]
  },
  {
   "cell_type": "code",
   "execution_count": 2,
   "metadata": {},
   "outputs": [
    {
     "name": "stdout",
     "output_type": "stream",
     "text": [
      "   col1 col_left\n",
      "0     0        a\n",
      "1     1        b\n",
      "   col1  col_right\n",
      "0     1          2\n",
      "1     2          2\n",
      "2     2          2\n"
     ]
    }
   ],
   "source": [
    "df1=pd.DataFrame({'col1':[0,1],'col_left':['a','b']})\n",
    "df2=pd.DataFrame({'col1':[1,2,2],'col_right':[2,2,2]})\n",
    "print(df1)\n",
    "print(df2)"
   ]
  },
  {
   "cell_type": "code",
   "execution_count": 5,
   "metadata": {},
   "outputs": [
    {
     "name": "stdout",
     "output_type": "stream",
     "text": [
      "   col1 col_left  col_right indicator_col\n",
      "0   0.0        a        NaN     left_only\n",
      "1   1.0        b        2.0          both\n",
      "2   2.0      NaN        2.0    right_only\n",
      "3   2.0      NaN        2.0    right_only\n"
     ]
    }
   ],
   "source": [
    "#res=pd.merge(df1,df2,on='col1',how='outer',indicator=True)   #indicator 告訴你是如何合併的\n",
    "res=pd.merge(df1,df2,on='col1',how='outer',indicator='indicator_col')   #幫indicator那欄取名\n",
    "print(res)"
   ]
  },
  {
   "cell_type": "code",
   "execution_count": 7,
   "metadata": {},
   "outputs": [
    {
     "name": "stdout",
     "output_type": "stream",
     "text": [
      "     A   B   C   D\n",
      "k0  a0  b0  c0  d0\n",
      "k1  a1  b1  c1  d1\n",
      "k2  a2  b2  c2  d2\n"
     ]
    }
   ],
   "source": [
    "left=pd.DataFrame({'A':['a0','a1','a2'],\n",
    "                  'B':['b0','b1','b2']},\n",
    "                 index=['k0','k1','k2'])\n",
    "right=pd.DataFrame({\n",
    "                  'C':['c0','c1','c2'],\n",
    "                  'D':['d0','d1','d2']},\n",
    "                  index=['k0','k1','k2'])\n",
    "res=pd.merge(left,right,left_index=True,right_index=True,how='outer')\n",
    "print(res)"
   ]
  },
  {
   "cell_type": "code",
   "execution_count": 9,
   "metadata": {},
   "outputs": [
    {
     "name": "stdout",
     "output_type": "stream",
     "text": [
      "   age   k\n",
      "0    1  k0\n",
      "1    2  k1\n",
      "2    3  k2\n",
      "   age   k\n",
      "0    1  k0\n",
      "1    2  k0\n",
      "2    3  k3\n",
      "   age_boy   k  age_girl\n",
      "0        1  k0         1\n",
      "1        1  k0         2\n"
     ]
    }
   ],
   "source": [
    "boys=pd.DataFrame({'k':['k0','k1','k2'],'age':[1,2,3]})\n",
    "girls=pd.DataFrame({'k':['k0','k0','k3'],'age':[1,2,3]})\n",
    "print(boys)\n",
    "print(girls)\n",
    "res=pd.merge(boys,girls,on='k',suffixes=['_boy','_girl'],how='inner')    #suffixes增加附加的字\n",
    "print(res)"
   ]
  },
  {
   "cell_type": "markdown",
   "metadata": {},
   "source": [
    "# plot  part5"
   ]
  },
  {
   "cell_type": "code",
   "execution_count": 11,
   "metadata": {
    "collapsed": true
   },
   "outputs": [],
   "source": [
    "import matplotlib.pyplot as plt"
   ]
  },
  {
   "cell_type": "code",
   "execution_count": 17,
   "metadata": {},
   "outputs": [
    {
     "name": "stdout",
     "output_type": "stream",
     "text": [
      "          A         B         C         D\n",
      "0  0.871523 -0.346135  0.564528 -1.623388\n",
      "1  1.770642  0.642468 -0.334033 -2.065846\n",
      "2  1.889751 -0.569421  0.538666 -1.475075\n",
      "3  0.701996 -0.283262  1.585377 -1.904745\n",
      "4  2.574392 -0.666273  1.871369 -1.020893\n"
     ]
    },
    {
     "data": {
      "image/png": "[encoded data removed]",
      "text/plain": [
       "<matplotlib.figure.Figure at 0x4dba350>"
      ]
     },
     "metadata": {},
     "output_type": "display_data"
    }
   ],
   "source": [
    "data=pd.Series(np.random.randn(1000),index=np.arange(1000))\n",
    "data=data.cumsum()\n",
    "\n",
    "\n",
    "data=pd.DataFrame(np.random.randn(1000,4),      #4組數據\n",
    "                 index=np.arange(1000),\n",
    "                 columns=list(\"ABCD\"))\n",
    "data=data.cumsum()       #累積起來\n",
    "print(data.head())\n",
    "data.plot()\n",
    "plt.show()"
   ]
  },
  {
   "cell_type": "markdown",
   "metadata": {},
   "source": [
    "# plot methods"
   ]
  },
  {
   "cell_type": "code",
   "execution_count": null,
   "metadata": {
    "collapsed": true
   },
   "outputs": [],
   "source": [
    "# 'bar','hist','scatter','box','area'...... "
   ]
  },
  {
   "cell_type": "code",
   "execution_count": 16,
   "metadata": {
    "scrolled": true
   },
   "outputs": [
    {
     "data": {
      "image/png": "[encoded data removed]",
      "text/plain": [
       "<matplotlib.figure.Figure at 0x822ef90>"
      ]
     },
     "metadata": {},
     "output_type": "display_data"
    }
   ],
   "source": [
    "ax=data.plot.scatter(x='A',y='B',color='DarkBlue',label='Class1')\n",
    "ax=data.plot.scatter(x='A',y='C',color='DarkGreen',label='Class2',ax=ax)\n",
    "plt.show()"
   ]
  },
  {
   "cell_type": "markdown",
   "metadata": {},
   "source": [
    "# 10 Minutes to pandas"
   ]
  },
  {
   "cell_type": "code",
   "execution_count": 2,
   "metadata": {
    "collapsed": true
   },
   "outputs": [],
   "source": [
    "import numpy as np\n",
    "import pandas as pd\n",
    "import matplotlib.pyplot as plt"
   ]
  },
  {
   "cell_type": "code",
   "execution_count": 2,
   "metadata": {},
   "outputs": [
    {
     "data": {
      "text/plain": [
       "0    1.0\n",
       "1    3.0\n",
       "2    5.0\n",
       "3    NaN\n",
       "4    6.0\n",
       "5    8.0\n",
       "dtype: float64"
      ]
     },
     "execution_count": 2,
     "metadata": {},
     "output_type": "execute_result"
    }
   ],
   "source": [
    "s = pd.Series([1,3,5,np.nan,6,8])\n",
    "s"
   ]
  },
  {
   "cell_type": "code",
   "execution_count": 14,
   "metadata": {
    "scrolled": true
   },
   "outputs": [
    {
     "name": "stdout",
     "output_type": "stream",
     "text": [
      "                   A         B         C         D\n",
      "2013-01-01 -1.068125  0.853466  0.217950  1.440306\n",
      "2013-01-02  1.277556  0.438205 -0.138451 -0.246496\n",
      "2013-01-03  0.647331 -0.580660 -0.763407  0.385600\n",
      "2013-01-04 -0.420586  0.617155  1.098930  1.775687\n",
      "2013-01-05  0.737010  0.671626  0.185310 -0.757335\n",
      "              A         B         C         D\n",
      "count  6.000000  6.000000  6.000000  6.000000\n",
      "mean   0.153648  0.346365  0.281951  0.104501\n",
      "std    0.875632  0.524574  0.721882  1.402064\n",
      "min   -1.068125 -0.580660 -0.763407 -1.970759\n",
      "25%   -0.378265  0.168349 -0.057511 -0.629625\n",
      "50%    0.198016  0.527680  0.201630  0.069552\n",
      "75%    0.714590  0.658008  0.873018  1.176630\n",
      "max    1.277556  0.853466  1.098930  1.775687\n",
      "   2013-01-01  2013-01-02  2013-01-03  2013-01-04  2013-01-05  2013-01-06\n",
      "A   -1.068125    1.277556    0.647331   -0.420586    0.737010   -0.251299\n",
      "B    0.853466    0.438205   -0.580660    0.617155    0.671626    0.078397\n",
      "C    0.217950   -0.138451   -0.763407    1.098930    0.185310    1.091374\n",
      "D    1.440306   -0.246496    0.385600    1.775687   -0.757335   -1.970759\n",
      "                   D         C         B         A\n",
      "2013-01-01  1.440306  0.217950  0.853466 -1.068125\n",
      "2013-01-02 -0.246496 -0.138451  0.438205  1.277556\n",
      "2013-01-03  0.385600 -0.763407 -0.580660  0.647331\n",
      "2013-01-04  1.775687  1.098930  0.617155 -0.420586\n",
      "2013-01-05 -0.757335  0.185310  0.671626  0.737010\n",
      "2013-01-06 -1.970759  1.091374  0.078397 -0.251299\n"
     ]
    }
   ],
   "source": [
    "dates = pd.date_range('20130101', periods=6)\n",
    "df = pd.DataFrame(np.random.randn(6,4), index=dates, columns=list('ABCD'))\n",
    "print(df.head())\n",
    "print(df.describe())\n",
    "print(df.T)\n",
    "print(df.sort_index(axis=1, ascending=False))"
   ]
  },
  {
   "cell_type": "code",
   "execution_count": 21,
   "metadata": {
    "scrolled": true
   },
   "outputs": [
    {
     "name": "stdout",
     "output_type": "stream",
     "text": [
      "2013-01-01   -1.068125\n",
      "2013-01-02    1.277556\n",
      "2013-01-03    0.647331\n",
      "2013-01-04   -0.420586\n",
      "2013-01-05    0.737010\n",
      "2013-01-06   -0.251299\n",
      "Freq: D, Name: A, dtype: float64\n",
      "                   A         B         C         D\n",
      "2013-01-01 -1.068125  0.853466  0.217950  1.440306\n",
      "2013-01-02  1.277556  0.438205 -0.138451 -0.246496\n",
      "2013-01-03  0.647331 -0.580660 -0.763407  0.385600\n",
      "                   A         B         C         D\n",
      "2013-01-02  1.277556  0.438205 -0.138451 -0.246496\n",
      "2013-01-03  0.647331 -0.580660 -0.763407  0.385600\n",
      "2013-01-04 -0.420586  0.617155  1.098930  1.775687\n",
      "                   A         B\n",
      "2013-01-01 -1.068125  0.853466\n",
      "2013-01-02  1.277556  0.438205\n",
      "2013-01-03  0.647331 -0.580660\n",
      "2013-01-04 -0.420586  0.617155\n",
      "2013-01-05  0.737010  0.671626\n",
      "2013-01-06 -0.251299  0.078397\n",
      "                   B        C\n",
      "2013-01-04  0.617155  1.09893\n",
      "2013-01-05  0.671626  0.18531\n"
     ]
    }
   ],
   "source": [
    "print(df['A'])\n",
    "print(df[0:3])\n",
    "print(df['20130102':'20130104'])\n",
    "#以labels來取值\n",
    "print(df.loc[:,['A','B']])\n",
    "#以index來取值\n",
    "print(df.iloc[3:5,1:3])"
   ]
  },
  {
   "cell_type": "code",
   "execution_count": 25,
   "metadata": {},
   "outputs": [
    {
     "name": "stdout",
     "output_type": "stream",
     "text": [
      "                   A         B         C         D\n",
      "2013-01-02  1.277556  0.438205 -0.138451 -0.246496\n",
      "2013-01-03  0.647331 -0.580660 -0.763407  0.385600\n",
      "2013-01-05  0.737010  0.671626  0.185310 -0.757335\n",
      "                   A         B         C         D\n",
      "2013-01-01       NaN  0.853466  0.217950  1.440306\n",
      "2013-01-02  1.277556  0.438205       NaN       NaN\n",
      "2013-01-03  0.647331       NaN       NaN  0.385600\n",
      "2013-01-04       NaN  0.617155  1.098930  1.775687\n",
      "2013-01-05  0.737010  0.671626  0.185310       NaN\n",
      "2013-01-06       NaN  0.078397  1.091374       NaN\n",
      "                   A         B         C         D  E\n",
      "2013-01-01 -1.068125  0.853466  0.217950  1.440306  1\n",
      "2013-01-02  1.277556  0.438205 -0.138451 -0.246496  2\n",
      "2013-01-03  0.647331 -0.580660 -0.763407  0.385600  3\n",
      "2013-01-04 -0.420586  0.617155  1.098930  1.775687  3\n",
      "2013-01-05  0.737010  0.671626  0.185310 -0.757335  2\n",
      "2013-01-06 -0.251299  0.078397  1.091374 -1.970759  1\n",
      "                   A         B         C         D  E\n",
      "2013-01-02  1.277556  0.438205 -0.138451 -0.246496  2\n",
      "2013-01-03  0.647331 -0.580660 -0.763407  0.385600  3\n",
      "2013-01-04 -0.420586  0.617155  1.098930  1.775687  3\n",
      "2013-01-05  0.737010  0.671626  0.185310 -0.757335  2\n"
     ]
    }
   ],
   "source": [
    "#以條件來取值\n",
    "print(df[df.A>0])\n",
    "print(df[df>0])\n",
    "df2 = df.copy()\n",
    "df2['E'] = [\"1\",\"2\",\"3\",\"3\",\"2\",\"1\"]\n",
    "print(df2)\n",
    "print(df2[df2['E'].isin(['2','3'])])\n"
   ]
  },
  {
   "cell_type": "code",
   "execution_count": 27,
   "metadata": {},
   "outputs": [
    {
     "name": "stdout",
     "output_type": "stream",
     "text": [
      "                   A         B         C  D    F\n",
      "2013-01-01  0.000000  0.000000  0.217950  5  NaN\n",
      "2013-01-02  1.277556  0.438205 -0.138451  5  1.0\n",
      "2013-01-03  0.647331 -0.580660 -0.763407  5  2.0\n",
      "2013-01-04 -0.420586  0.617155  1.098930  5  3.0\n",
      "2013-01-05  0.737010  0.671626  0.185310  5  4.0\n",
      "2013-01-06 -0.251299  0.078397  1.091374  5  5.0\n",
      "                   A         B         C  D    F\n",
      "2013-01-01  0.000000  0.000000 -0.217950 -5  NaN\n",
      "2013-01-02 -1.277556 -0.438205 -0.138451 -5 -1.0\n",
      "2013-01-03 -0.647331 -0.580660 -0.763407 -5 -2.0\n",
      "2013-01-04 -0.420586 -0.617155 -1.098930 -5 -3.0\n",
      "2013-01-05 -0.737010 -0.671626 -0.185310 -5 -4.0\n",
      "2013-01-06 -0.251299 -0.078397 -1.091374 -5 -5.0\n"
     ]
    }
   ],
   "source": [
    "s1 = pd.Series([1,2,3,4,5,6], index=pd.date_range('20130102', periods=6))\n",
    "df['F'] = s1\n",
    "df.at[dates[0],'A'] = 0\n",
    "df.iat[0,1] = 0\n",
    "df.loc[:,'D'] = np.array([5] * len(df))\n",
    "print(df)\n",
    "df2 = df.copy()\n",
    "#大於0的都變成負數\n",
    "df2[df2 > 0] = -df2\n",
    "print(df2)"
   ]
  },
  {
   "cell_type": "code",
   "execution_count": 32,
   "metadata": {},
   "outputs": [
    {
     "name": "stdout",
     "output_type": "stream",
     "text": [
      "                   A         B         C  D    F    E\n",
      "2013-01-01  0.000000  0.000000  0.217950  5  NaN  1.0\n",
      "2013-01-02  1.277556  0.438205 -0.138451  5  1.0  1.0\n",
      "2013-01-03  0.647331 -0.580660 -0.763407  5  2.0  NaN\n",
      "2013-01-04 -0.420586  0.617155  1.098930  5  3.0  NaN\n",
      "                   A         B         C  D    F    E\n",
      "2013-01-02  1.277556  0.438205 -0.138451  5  1.0  1.0\n",
      "                   A         B         C  D    F    E\n",
      "2013-01-01  0.000000  0.000000  0.217950  5  5.0  1.0\n",
      "2013-01-02  1.277556  0.438205 -0.138451  5  1.0  1.0\n",
      "2013-01-03  0.647331 -0.580660 -0.763407  5  2.0  5.0\n",
      "2013-01-04 -0.420586  0.617155  1.098930  5  3.0  5.0\n",
      "                A      B      C      D      F      E\n",
      "2013-01-01  False  False  False  False   True  False\n",
      "2013-01-02  False  False  False  False  False  False\n",
      "2013-01-03  False  False  False  False  False   True\n",
      "2013-01-04  False  False  False  False  False   True\n"
     ]
    }
   ],
   "source": [
    "df1 = df.reindex(index=dates[0:4], columns=list(df.columns) + ['E'])\n",
    "df1.loc[dates[0]:dates[1],'E'] = 1\n",
    "print(df1)\n",
    "#把欄位有nan的都刪除\n",
    "print(df1.dropna(how='any'))\n",
    "#把nan欄位的值都改成5\n",
    "print(df1.fillna(value=5))\n",
    "print(pd.isnull(df1))"
   ]
  },
  {
   "cell_type": "code",
   "execution_count": 41,
   "metadata": {
    "scrolled": true
   },
   "outputs": [
    {
     "name": "stdout",
     "output_type": "stream",
     "text": [
      "A    0.331669\n",
      "B    0.204120\n",
      "C    0.281951\n",
      "D    5.000000\n",
      "F    3.000000\n",
      "dtype: float64\n",
      "2013-01-01    1.304488\n",
      "2013-01-02    1.515462\n",
      "2013-01-03    1.260653\n",
      "2013-01-04    1.859100\n",
      "2013-01-05    2.118789\n",
      "2013-01-06    2.183694\n",
      "Freq: D, dtype: float64\n",
      "2013-01-01    NaN\n",
      "2013-01-02    NaN\n",
      "2013-01-03    1.0\n",
      "2013-01-04    3.0\n",
      "2013-01-05    5.0\n",
      "2013-01-06    NaN\n",
      "Freq: D, dtype: float64\n",
      "                   A         B         C    D    F\n",
      "2013-01-01       NaN       NaN       NaN  NaN  NaN\n",
      "2013-01-02       NaN       NaN       NaN  NaN  NaN\n",
      "2013-01-03 -0.352669 -1.580660 -1.763407  4.0  1.0\n",
      "2013-01-04 -3.420586 -2.382845 -1.901070  2.0  0.0\n",
      "2013-01-05 -4.262990 -4.328374 -4.814690  0.0 -1.0\n",
      "2013-01-06       NaN       NaN       NaN  NaN  NaN\n"
     ]
    }
   ],
   "source": [
    "#compute each column's mean excluding nan\n",
    "print(df.mean())\n",
    "print(df.mean(1)) #compute each row's mean \n",
    "#移動兩個位置，補成nan\n",
    "s = pd.Series([1,3,5,np.nan,6,8], index=dates).shift(2)\n",
    "print(s)\n",
    "#?????\n",
    "print(df.sub(s, axis='index'))\n",
    "#"
   ]
  },
  {
   "cell_type": "code",
   "execution_count": 46,
   "metadata": {
    "scrolled": true
   },
   "outputs": [
    {
     "name": "stdout",
     "output_type": "stream",
     "text": [
      "                   A         B         C   D     F\n",
      "2013-01-01  0.000000  0.000000  0.217950   5   NaN\n",
      "2013-01-02  1.277556  0.438205  0.079499  10   1.0\n",
      "2013-01-03  1.924887 -0.142455 -0.683908  15   3.0\n",
      "2013-01-04  1.504300  0.474700  0.415022  20   6.0\n",
      "2013-01-05  2.241310  1.146326  0.600331  25  10.0\n",
      "2013-01-06  1.990011  1.224723  1.691706  30  15.0\n",
      "A    1.698142\n",
      "B    1.252286\n",
      "C    1.862337\n",
      "D    0.000000\n",
      "F    4.000000\n",
      "dtype: float64\n",
      "0    2\n",
      "1    5\n",
      "2    6\n",
      "3    4\n",
      "4    4\n",
      "5    0\n",
      "6    6\n",
      "7    1\n",
      "8    3\n",
      "9    4\n",
      "dtype: int32\n",
      "4    3\n",
      "6    2\n",
      "5    1\n",
      "3    1\n",
      "2    1\n",
      "1    1\n",
      "0    1\n",
      "dtype: int64\n",
      "0       A\n",
      "1       B\n",
      "2       C\n",
      "3    Aaba\n",
      "4    Baca\n",
      "5     NaN\n",
      "6    CABA\n",
      "7     dog\n",
      "8     cat\n",
      "dtype: object\n",
      "0       a\n",
      "1       b\n",
      "2       c\n",
      "3    aaba\n",
      "4    baca\n",
      "5     NaN\n",
      "6    caba\n",
      "7     dog\n",
      "8     cat\n",
      "dtype: object\n"
     ]
    }
   ],
   "source": [
    "#可使用apply，對df做函數迴圈操作(累計加總)，以columns為基準\n",
    "print(df.apply(np.cumsum))\n",
    "print(df.apply(lambda x: x.max() - x.min()))\n",
    "s = pd.Series(np.random.randint(0, 7, size=10))\n",
    "print(s)\n",
    "print(s.value_counts())\n",
    "s = pd.Series(['A', 'B', 'C', 'Aaba', 'Baca', np.nan, 'CABA', 'dog', 'cat'])\n",
    "print(s)\n",
    "print(s.str.lower())\n",
    "\n"
   ]
  },
  {
   "cell_type": "code",
   "execution_count": 48,
   "metadata": {
    "scrolled": true
   },
   "outputs": [
    {
     "name": "stdout",
     "output_type": "stream",
     "text": [
      "          0         1         2         3\n",
      "0 -0.075999  0.831980  1.503303 -0.690905\n",
      "1 -0.836981 -0.095382 -0.344825 -0.021444\n",
      "2 -1.313406  1.543931  0.335837 -0.162897\n",
      "3 -0.307473 -1.892657 -1.452174  0.862135\n",
      "4  0.770066 -0.045006 -0.669734  0.328431\n",
      "5  1.807174  0.074017  0.177917  0.976205\n",
      "6 -1.117969  2.135472 -0.627343  0.591905\n",
      "7  0.155463 -2.351392 -0.852871  0.364668\n",
      "8 -1.961780 -0.154827  0.010761  0.542822\n",
      "9  0.301548  0.221014  0.541203 -2.031395\n",
      "          0         1         2         3\n",
      "0 -0.075999  0.831980  1.503303 -0.690905\n",
      "1 -0.836981 -0.095382 -0.344825 -0.021444\n",
      "2 -1.313406  1.543931  0.335837 -0.162897\n",
      "3 -0.307473 -1.892657 -1.452174  0.862135\n",
      "4  0.770066 -0.045006 -0.669734  0.328431\n",
      "5  1.807174  0.074017  0.177917  0.976205\n",
      "6 -1.117969  2.135472 -0.627343  0.591905\n",
      "7  0.155463 -2.351392 -0.852871  0.364668\n",
      "8 -1.961780 -0.154827  0.010761  0.542822\n",
      "9  0.301548  0.221014  0.541203 -2.031395\n"
     ]
    }
   ],
   "source": [
    "#merge ==> concat\n",
    "df = pd.DataFrame(np.random.randn(10, 4))\n",
    "print(df)\n",
    "pieces = [df[:3], df[3:7], df[7:]]\n",
    "print(pd.concat(pieces))\n"
   ]
  },
  {
   "cell_type": "code",
   "execution_count": 54,
   "metadata": {
    "scrolled": true
   },
   "outputs": [
    {
     "name": "stdout",
     "output_type": "stream",
     "text": [
      "   key  lval  rval\n",
      "0  foo     1     4\n",
      "1  foo     1     5\n",
      "2  foo     2     4\n",
      "3  foo     2     5\n",
      "   key  lval\n",
      "0  foo     1\n",
      "1  bar     2\n",
      "   key  rval\n",
      "0  foo     4\n",
      "1  bar     5\n",
      "   key  lval  rval\n",
      "0  foo     1     4\n",
      "1  bar     2     5\n",
      "          A         B         C         D\n",
      "0 -2.294528  0.853247  1.785834 -0.758559\n",
      "1  0.525219 -0.649519 -0.218147 -0.859384\n",
      "2 -0.676690  0.853485 -0.713471  0.476694\n",
      "3  0.457775 -0.313128  0.589619 -0.562648\n",
      "4  3.226637  1.256600  1.002670 -0.426428\n",
      "5  0.332625 -1.103143 -1.168736  1.856227\n",
      "6 -0.223701  0.520726  0.660317  0.878237\n",
      "7 -0.613054 -1.207141  0.382331  0.930484\n",
      "          A         B         C         D\n",
      "0 -2.294528  0.853247  1.785834 -0.758559\n",
      "1  0.525219 -0.649519 -0.218147 -0.859384\n",
      "2 -0.676690  0.853485 -0.713471  0.476694\n",
      "3  0.457775 -0.313128  0.589619 -0.562648\n",
      "4  3.226637  1.256600  1.002670 -0.426428\n",
      "5  0.332625 -1.103143 -1.168736  1.856227\n",
      "6 -0.223701  0.520726  0.660317  0.878237\n",
      "7 -0.613054 -1.207141  0.382331  0.930484\n",
      "8  0.457775 -0.313128  0.589619 -0.562648\n"
     ]
    }
   ],
   "source": [
    "#merge ==> join\n",
    "left = pd.DataFrame({'key': ['foo', 'foo'], 'lval': [1, 2]})\n",
    "right = pd.DataFrame({'key': ['foo', 'foo'], 'rval': [4, 5]})\n",
    "print(pd.merge(left, right, on='key'))\n",
    "left = pd.DataFrame({'key': ['foo', 'bar'], 'lval': [1, 2]})\n",
    "right = pd.DataFrame({'key': ['foo', 'bar'], 'rval': [4, 5]})\n",
    "print(left)\n",
    "print(right)\n",
    "print(pd.merge(left,right,on='key'))\n",
    "#merge ==> append\n",
    "df = pd.DataFrame(np.random.randn(8, 4), columns=['A','B','C','D'])\n",
    "print(df)\n",
    "s = df.iloc[3]\n",
    "#append after the last record\n",
    "print(df.append(s, ignore_index=True))\n"
   ]
  },
  {
   "cell_type": "code",
   "execution_count": 57,
   "metadata": {
    "scrolled": true
   },
   "outputs": [
    {
     "name": "stdout",
     "output_type": "stream",
     "text": [
      "     A      B         C         D\n",
      "0  foo    one -0.669135 -0.557044\n",
      "1  bar    one  3.032534  1.155534\n",
      "2  foo    two  0.514698 -0.954785\n",
      "3  bar  three -0.313275  1.514783\n",
      "4  foo    two -0.683321  0.230636\n",
      "5  bar    two  0.247653 -1.004070\n",
      "6  foo    one  0.234990  0.707067\n",
      "7  foo  three  0.786256  3.035211\n",
      "            C         D\n",
      "A                      \n",
      "bar  2.966911  1.666247\n",
      "foo  0.183488  2.461086\n",
      "                  C         D\n",
      "A   B                        \n",
      "bar one    3.032534  1.155534\n",
      "    three -0.313275  1.514783\n",
      "    two    0.247653 -1.004070\n",
      "foo one   -0.434145  0.150023\n",
      "    three  0.786256  3.035211\n",
      "    two   -0.168623 -0.724149\n"
     ]
    }
   ],
   "source": [
    "#grouping\n",
    "df = pd.DataFrame({'A' : ['foo', 'bar', 'foo', 'bar',\n",
    "                          'foo', 'bar', 'foo', 'foo'],\n",
    "                       'B' : ['one', 'one', 'two', 'three',\n",
    "                              'two', 'two', 'one', 'three'],\n",
    "                       'C' : np.random.randn(8),\n",
    "                       'D' : np.random.randn(8)})\n",
    "print(df)\n",
    "print(df.groupby('A').sum())\n",
    "print(df.groupby(['A','B']).sum())"
   ]
  },
  {
   "cell_type": "code",
   "execution_count": 68,
   "metadata": {
    "scrolled": true
   },
   "outputs": [
    {
     "name": "stdout",
     "output_type": "stream",
     "text": [
      "[('bar', 'one'), ('bar', 'two'), ('baz', 'one'), ('baz', 'two'), ('foo', 'one'), ('foo', 'two'), ('qux', 'one'), ('qux', 'two')]\n",
      "                     A         B\n",
      "first second                    \n",
      "bar   one    -0.831128 -0.102599\n",
      "      two     0.190203 -0.317266\n",
      "baz   one     1.404888 -0.924534\n",
      "      two    -0.218658  0.534100\n",
      "foo   one    -0.006887 -0.749563\n",
      "      two    -2.754323  1.285583\n",
      "qux   one    -1.493341  1.139568\n",
      "      two     0.231066 -0.019303\n",
      "first  second   \n",
      "bar    one     A   -0.831128\n",
      "               B   -0.102599\n",
      "       two     A    0.190203\n",
      "               B   -0.317266\n",
      "baz    one     A    1.404888\n",
      "               B   -0.924534\n",
      "       two     A   -0.218658\n",
      "               B    0.534100\n",
      "dtype: float64\n",
      "                     A         B\n",
      "first second                    \n",
      "bar   one    -0.831128 -0.102599\n",
      "      two     0.190203 -0.317266\n",
      "baz   one     1.404888 -0.924534\n",
      "      two    -0.218658  0.534100\n",
      "second        one       two\n",
      "first                      \n",
      "bar   A -0.831128  0.190203\n",
      "      B -0.102599 -0.317266\n",
      "baz   A  1.404888 -0.218658\n",
      "      B -0.924534  0.534100\n",
      "first          bar       baz\n",
      "second                      \n",
      "one    A -0.831128  1.404888\n",
      "       B -0.102599 -0.924534\n",
      "two    A  0.190203 -0.218658\n",
      "       B -0.317266  0.534100\n"
     ]
    }
   ],
   "source": [
    "#reshaping ==> stack\n",
    "tuples = list(zip(*[['bar', 'bar', 'baz', 'baz',\n",
    "                        'foo', 'foo', 'qux', 'qux'],\n",
    "                        ['one', 'two', 'one', 'two',\n",
    "                         'one', 'two', 'one', 'two']]))\n",
    "print(tuples)\n",
    "index = pd.MultiIndex.from_tuples(tuples, names=['first', 'second'])\n",
    "df = pd.DataFrame(np.random.randn(8, 2), index=index, columns=['A', 'B'])\n",
    "print(df)\n",
    "df2 = df[:4]\n",
    "stacked = df2.stack()\n",
    "print(stacked)\n",
    "print(stacked.unstack())\n",
    "print(stacked.unstack(1))\n",
    "print(stacked.unstack(0))"
   ]
  },
  {
   "cell_type": "code",
   "execution_count": 70,
   "metadata": {
    "scrolled": true
   },
   "outputs": [
    {
     "name": "stdout",
     "output_type": "stream",
     "text": [
      "        A  B    C         D         E\n",
      "0     one  A  foo -0.731855 -1.057637\n",
      "1     one  B  foo  0.470172  0.324009\n",
      "2     two  C  foo  0.337016  0.407434\n",
      "3   three  A  bar  1.228800 -0.721236\n",
      "4     one  B  bar -0.171777  1.169355\n",
      "5     one  C  bar -0.446726  0.872597\n",
      "6     two  A  foo -1.212892 -1.094955\n",
      "7   three  B  foo -1.163740 -0.642994\n",
      "8     one  C  foo  0.201875  0.670896\n",
      "9     one  A  bar -0.492258 -0.665673\n",
      "10    two  B  bar  0.323163 -0.243407\n",
      "11  three  C  bar -0.847523  2.000352\n",
      "C             bar       foo\n",
      "A     B                    \n",
      "one   A -0.492258 -0.731855\n",
      "      B -0.171777  0.470172\n",
      "      C -0.446726  0.201875\n",
      "three A  1.228800       NaN\n",
      "      B       NaN -1.163740\n",
      "      C -0.847523       NaN\n",
      "two   A       NaN -1.212892\n",
      "      B  0.323163       NaN\n",
      "      C       NaN  0.337016\n"
     ]
    }
   ],
   "source": [
    "#reshaping ==> pivot table\n",
    "df = pd.DataFrame({'A' : ['one', 'one', 'two', 'three'] * 3,\n",
    "                      'B' : ['A', 'B', 'C'] * 4,\n",
    "                       'C' : ['foo', 'foo', 'foo', 'bar', 'bar', 'bar'] * 2,\n",
    "                       'D' : np.random.randn(12),\n",
    "                       'E' : np.random.randn(12)})\n",
    "print(df)\n",
    "print(pd.pivot_table(df, values='D', index=['A', 'B'], columns=['C']))\n"
   ]
  },
  {
   "cell_type": "code",
   "execution_count": 76,
   "metadata": {
    "scrolled": false
   },
   "outputs": [
    {
     "name": "stdout",
     "output_type": "stream",
     "text": [
      "2012-01-01    24794\n",
      "Freq: 5T, dtype: int32\n",
      "2012-03-06    1.063631\n",
      "2012-03-07    0.368119\n",
      "2012-03-08    0.405495\n",
      "2012-03-09   -2.086485\n",
      "2012-03-10   -0.681094\n",
      "Freq: D, dtype: float64\n",
      "2012-03-06 00:00:00+00:00    1.063631\n",
      "2012-03-07 00:00:00+00:00    0.368119\n",
      "2012-03-08 00:00:00+00:00    0.405495\n",
      "2012-03-09 00:00:00+00:00   -2.086485\n",
      "2012-03-10 00:00:00+00:00   -0.681094\n",
      "Freq: D, dtype: float64\n",
      "2012-03-05 19:00:00-05:00    1.063631\n",
      "2012-03-06 19:00:00-05:00    0.368119\n",
      "2012-03-07 19:00:00-05:00    0.405495\n",
      "2012-03-08 19:00:00-05:00   -2.086485\n",
      "2012-03-09 19:00:00-05:00   -0.681094\n",
      "Freq: D, dtype: float64\n"
     ]
    }
   ],
   "source": [
    "#time series\n",
    "#2012/1/1 以秒為單位取100個\n",
    "rng = pd.date_range('1/1/2012', periods=100, freq='S')\n",
    "ts = pd.Series(np.random.randint(0, 500, len(rng)), index=rng)\n",
    "print(ts.resample('5Min').sum())\n",
    "rng = pd.date_range('3/6/2012 00:00', periods=5, freq='D')\n",
    "ts = pd.Series(np.random.randn(len(rng)), rng)\n",
    "print(ts)\n",
    "ts_utc = ts.tz_localize('UTC')\n",
    "print(ts_utc)\n",
    "print(ts_utc.tz_convert('US/Eastern'))"
   ]
  },
  {
   "cell_type": "code",
   "execution_count": 81,
   "metadata": {
    "scrolled": true
   },
   "outputs": [
    {
     "name": "stdout",
     "output_type": "stream",
     "text": [
      "0    a\n",
      "1    b\n",
      "2    b\n",
      "3    a\n",
      "4    a\n",
      "5    e\n",
      "Name: grade, dtype: category\n",
      "Categories (3, object): [a, b, e]\n",
      "0    very good\n",
      "1         good\n",
      "2         good\n",
      "3    very good\n",
      "4    very good\n",
      "5     very bad\n",
      "Name: grade, dtype: category\n",
      "Categories (5, object): [very bad, bad, medium, good, very good]\n",
      "   id raw_grade      grade\n",
      "5   6         e   very bad\n",
      "1   2         b       good\n",
      "2   3         b       good\n",
      "0   1         a  very good\n",
      "3   4         a  very good\n",
      "4   5         a  very good\n",
      "grade\n",
      "very bad     1\n",
      "bad          0\n",
      "medium       0\n",
      "good         2\n",
      "very good    3\n",
      "dtype: int64\n"
     ]
    }
   ],
   "source": [
    "#categorical\n",
    "df = pd.DataFrame({\"id\":[1,2,3,4,5,6], \"raw_grade\":['a', 'b', 'b', 'a', 'a', 'e']})\n",
    "df[\"grade\"] = df[\"raw_grade\"].astype(\"category\")\n",
    "print(df[\"grade\"])\n",
    "df[\"grade\"].cat.categories = [\"very good\", \"good\", \"very bad\"]\n",
    "df[\"grade\"] = df[\"grade\"].cat.set_categories([\"very bad\", \"bad\", \"medium\", \"good\", \"very good\"])\n",
    "print(df[\"grade\"])\n",
    "print(df.sort_values(by=\"grade\"))\n",
    "print(df.groupby(\"grade\").size())\n"
   ]
  },
  {
   "cell_type": "code",
   "execution_count": 3,
   "metadata": {},
   "outputs": [
    {
     "data": {
      "image/png": "[encoded data removed]",
      "text/plain": [
       "<matplotlib.figure.Figure at 0x1f65167e0f0>"
      ]
     },
     "metadata": {},
     "output_type": "display_data"
    },
    {
     "data": {
      "text/plain": [
       "<matplotlib.figure.Figure at 0x1f651b17c18>"
      ]
     },
     "metadata": {},
     "output_type": "display_data"
    },
    {
     "data": {
      "image/png": "[encoded data removed]",
      "text/plain": [
       "<matplotlib.figure.Figure at 0x1f65169ec50>"
      ]
     },
     "metadata": {},
     "output_type": "display_data"
    }
   ],
   "source": [
    "#plotting\n",
    "ts = pd.Series(np.random.randn(1000), index=pd.date_range('1/1/2000', periods=1000))\n",
    "ts = ts.cumsum()\n",
    "ts.plot()\n",
    "plt.show()\n",
    "df = pd.DataFrame(np.random.randn(1000, 4), index=ts.index,\n",
    "                      columns=['A', 'B', 'C', 'D'])\n",
    "df = df.cumsum()\n",
    "plt.figure()\n",
    "df.plot()\n",
    "plt.legend(loc='best')\n",
    "plt.show()"
   ]
  },
  {
   "cell_type": "code",
   "execution_count": 91,
   "metadata": {
    "scrolled": true
   },
   "outputs": [
    {
     "data": {
      "text/html": [
       "<div>\n",
       "<style>\n",
       "    .dataframe thead tr:only-child th {\n",
       "        text-align: right;\n",
       "    }\n",
       "\n",
       "    .dataframe thead th {\n",
       "        text-align: left;\n",
       "    }\n",
       "\n",
       "    .dataframe tbody tr th {\n",
       "        vertical-align: top;\n",
       "    }\n",
       "</style>\n",
       "<table border=\"1\" class=\"dataframe\">\n",
       "  <thead>\n",
       "    <tr style=\"text-align: right;\">\n",
       "      <th></th>\n",
       "      <th>Unnamed: 0</th>\n",
       "      <th>A</th>\n",
       "      <th>B</th>\n",
       "      <th>C</th>\n",
       "      <th>D</th>\n",
       "    </tr>\n",
       "  </thead>\n",
       "  <tbody>\n",
       "    <tr>\n",
       "      <th>0</th>\n",
       "      <td>2000-01-01</td>\n",
       "      <td>1.440337</td>\n",
       "      <td>-0.449685</td>\n",
       "      <td>-2.046636</td>\n",
       "      <td>0.166466</td>\n",
       "    </tr>\n",
       "    <tr>\n",
       "      <th>1</th>\n",
       "      <td>2000-01-02</td>\n",
       "      <td>2.713200</td>\n",
       "      <td>0.479522</td>\n",
       "      <td>-2.447068</td>\n",
       "      <td>-0.539122</td>\n",
       "    </tr>\n",
       "    <tr>\n",
       "      <th>2</th>\n",
       "      <td>2000-01-03</td>\n",
       "      <td>3.060474</td>\n",
       "      <td>0.892762</td>\n",
       "      <td>-2.204025</td>\n",
       "      <td>-1.441796</td>\n",
       "    </tr>\n",
       "    <tr>\n",
       "      <th>3</th>\n",
       "      <td>2000-01-04</td>\n",
       "      <td>3.032677</td>\n",
       "      <td>1.143885</td>\n",
       "      <td>-2.121135</td>\n",
       "      <td>-2.924457</td>\n",
       "    </tr>\n",
       "    <tr>\n",
       "      <th>4</th>\n",
       "      <td>2000-01-05</td>\n",
       "      <td>5.288162</td>\n",
       "      <td>2.147440</td>\n",
       "      <td>-2.849708</td>\n",
       "      <td>-1.740316</td>\n",
       "    </tr>\n",
       "    <tr>\n",
       "      <th>5</th>\n",
       "      <td>2000-01-06</td>\n",
       "      <td>5.310011</td>\n",
       "      <td>1.714505</td>\n",
       "      <td>-0.868418</td>\n",
       "      <td>-1.111336</td>\n",
       "    </tr>\n",
       "    <tr>\n",
       "      <th>6</th>\n",
       "      <td>2000-01-07</td>\n",
       "      <td>3.844686</td>\n",
       "      <td>0.793829</td>\n",
       "      <td>-1.879874</td>\n",
       "      <td>0.945263</td>\n",
       "    </tr>\n",
       "    <tr>\n",
       "      <th>7</th>\n",
       "      <td>2000-01-08</td>\n",
       "      <td>2.508369</td>\n",
       "      <td>-1.033586</td>\n",
       "      <td>-1.084115</td>\n",
       "      <td>0.041130</td>\n",
       "    </tr>\n",
       "    <tr>\n",
       "      <th>8</th>\n",
       "      <td>2000-01-09</td>\n",
       "      <td>2.658419</td>\n",
       "      <td>-1.167054</td>\n",
       "      <td>-1.385003</td>\n",
       "      <td>1.441067</td>\n",
       "    </tr>\n",
       "    <tr>\n",
       "      <th>9</th>\n",
       "      <td>2000-01-10</td>\n",
       "      <td>2.082637</td>\n",
       "      <td>-0.938515</td>\n",
       "      <td>-3.063212</td>\n",
       "      <td>2.372157</td>\n",
       "    </tr>\n",
       "    <tr>\n",
       "      <th>10</th>\n",
       "      <td>2000-01-11</td>\n",
       "      <td>-0.393765</td>\n",
       "      <td>0.569803</td>\n",
       "      <td>-3.831202</td>\n",
       "      <td>2.151403</td>\n",
       "    </tr>\n",
       "    <tr>\n",
       "      <th>11</th>\n",
       "      <td>2000-01-12</td>\n",
       "      <td>0.896936</td>\n",
       "      <td>-0.023224</td>\n",
       "      <td>-3.298339</td>\n",
       "      <td>1.709833</td>\n",
       "    </tr>\n",
       "    <tr>\n",
       "      <th>12</th>\n",
       "      <td>2000-01-13</td>\n",
       "      <td>0.454104</td>\n",
       "      <td>0.759314</td>\n",
       "      <td>-0.832411</td>\n",
       "      <td>-0.018082</td>\n",
       "    </tr>\n",
       "    <tr>\n",
       "      <th>13</th>\n",
       "      <td>2000-01-14</td>\n",
       "      <td>1.400861</td>\n",
       "      <td>1.004968</td>\n",
       "      <td>-0.694663</td>\n",
       "      <td>-1.817709</td>\n",
       "    </tr>\n",
       "    <tr>\n",
       "      <th>14</th>\n",
       "      <td>2000-01-15</td>\n",
       "      <td>1.039630</td>\n",
       "      <td>2.839974</td>\n",
       "      <td>-1.777334</td>\n",
       "      <td>-1.197991</td>\n",
       "    </tr>\n",
       "    <tr>\n",
       "      <th>15</th>\n",
       "      <td>2000-01-16</td>\n",
       "      <td>0.569437</td>\n",
       "      <td>2.110222</td>\n",
       "      <td>-2.327678</td>\n",
       "      <td>-1.077842</td>\n",
       "    </tr>\n",
       "    <tr>\n",
       "      <th>16</th>\n",
       "      <td>2000-01-17</td>\n",
       "      <td>-0.149230</td>\n",
       "      <td>2.986665</td>\n",
       "      <td>-0.613918</td>\n",
       "      <td>-0.303905</td>\n",
       "    </tr>\n",
       "    <tr>\n",
       "      <th>17</th>\n",
       "      <td>2000-01-18</td>\n",
       "      <td>-0.588584</td>\n",
       "      <td>3.603746</td>\n",
       "      <td>-0.687689</td>\n",
       "      <td>0.205074</td>\n",
       "    </tr>\n",
       "    <tr>\n",
       "      <th>18</th>\n",
       "      <td>2000-01-19</td>\n",
       "      <td>-0.633702</td>\n",
       "      <td>3.003508</td>\n",
       "      <td>-0.448550</td>\n",
       "      <td>-0.036590</td>\n",
       "    </tr>\n",
       "    <tr>\n",
       "      <th>19</th>\n",
       "      <td>2000-01-20</td>\n",
       "      <td>-1.780211</td>\n",
       "      <td>2.756346</td>\n",
       "      <td>-0.889963</td>\n",
       "      <td>-1.386301</td>\n",
       "    </tr>\n",
       "    <tr>\n",
       "      <th>20</th>\n",
       "      <td>2000-01-21</td>\n",
       "      <td>-0.466673</td>\n",
       "      <td>3.710429</td>\n",
       "      <td>0.031492</td>\n",
       "      <td>-1.106858</td>\n",
       "    </tr>\n",
       "    <tr>\n",
       "      <th>21</th>\n",
       "      <td>2000-01-22</td>\n",
       "      <td>0.020267</td>\n",
       "      <td>2.489557</td>\n",
       "      <td>2.285607</td>\n",
       "      <td>-2.029120</td>\n",
       "    </tr>\n",
       "    <tr>\n",
       "      <th>22</th>\n",
       "      <td>2000-01-23</td>\n",
       "      <td>-0.123610</td>\n",
       "      <td>1.826821</td>\n",
       "      <td>3.883208</td>\n",
       "      <td>-2.999897</td>\n",
       "    </tr>\n",
       "    <tr>\n",
       "      <th>23</th>\n",
       "      <td>2000-01-24</td>\n",
       "      <td>1.260747</td>\n",
       "      <td>1.317570</td>\n",
       "      <td>3.141925</td>\n",
       "      <td>-3.967372</td>\n",
       "    </tr>\n",
       "    <tr>\n",
       "      <th>24</th>\n",
       "      <td>2000-01-25</td>\n",
       "      <td>2.068155</td>\n",
       "      <td>0.130603</td>\n",
       "      <td>3.551058</td>\n",
       "      <td>-3.015086</td>\n",
       "    </tr>\n",
       "    <tr>\n",
       "      <th>25</th>\n",
       "      <td>2000-01-26</td>\n",
       "      <td>2.054363</td>\n",
       "      <td>-1.107356</td>\n",
       "      <td>3.056902</td>\n",
       "      <td>-4.483845</td>\n",
       "    </tr>\n",
       "    <tr>\n",
       "      <th>26</th>\n",
       "      <td>2000-01-27</td>\n",
       "      <td>0.368414</td>\n",
       "      <td>-0.859329</td>\n",
       "      <td>1.895891</td>\n",
       "      <td>-6.248324</td>\n",
       "    </tr>\n",
       "    <tr>\n",
       "      <th>27</th>\n",
       "      <td>2000-01-28</td>\n",
       "      <td>0.772579</td>\n",
       "      <td>-2.232629</td>\n",
       "      <td>0.054446</td>\n",
       "      <td>-7.549424</td>\n",
       "    </tr>\n",
       "    <tr>\n",
       "      <th>28</th>\n",
       "      <td>2000-01-29</td>\n",
       "      <td>0.529267</td>\n",
       "      <td>-3.354992</td>\n",
       "      <td>0.968384</td>\n",
       "      <td>-6.892903</td>\n",
       "    </tr>\n",
       "    <tr>\n",
       "      <th>29</th>\n",
       "      <td>2000-01-30</td>\n",
       "      <td>1.913393</td>\n",
       "      <td>-0.925287</td>\n",
       "      <td>1.817852</td>\n",
       "      <td>-6.582524</td>\n",
       "    </tr>\n",
       "    <tr>\n",
       "      <th>...</th>\n",
       "      <td>...</td>\n",
       "      <td>...</td>\n",
       "      <td>...</td>\n",
       "      <td>...</td>\n",
       "      <td>...</td>\n",
       "    </tr>\n",
       "    <tr>\n",
       "      <th>970</th>\n",
       "      <td>2002-08-28</td>\n",
       "      <td>-64.432616</td>\n",
       "      <td>-12.577013</td>\n",
       "      <td>-44.205732</td>\n",
       "      <td>-12.292775</td>\n",
       "    </tr>\n",
       "    <tr>\n",
       "      <th>971</th>\n",
       "      <td>2002-08-29</td>\n",
       "      <td>-65.590313</td>\n",
       "      <td>-11.044339</td>\n",
       "      <td>-43.741152</td>\n",
       "      <td>-11.925110</td>\n",
       "    </tr>\n",
       "    <tr>\n",
       "      <th>972</th>\n",
       "      <td>2002-08-30</td>\n",
       "      <td>-64.605879</td>\n",
       "      <td>-10.174653</td>\n",
       "      <td>-44.167994</td>\n",
       "      <td>-12.422172</td>\n",
       "    </tr>\n",
       "    <tr>\n",
       "      <th>973</th>\n",
       "      <td>2002-08-31</td>\n",
       "      <td>-65.528183</td>\n",
       "      <td>-12.351156</td>\n",
       "      <td>-44.425307</td>\n",
       "      <td>-11.286377</td>\n",
       "    </tr>\n",
       "    <tr>\n",
       "      <th>974</th>\n",
       "      <td>2002-09-01</td>\n",
       "      <td>-65.282613</td>\n",
       "      <td>-12.521490</td>\n",
       "      <td>-42.684863</td>\n",
       "      <td>-11.361213</td>\n",
       "    </tr>\n",
       "    <tr>\n",
       "      <th>975</th>\n",
       "      <td>2002-09-02</td>\n",
       "      <td>-65.098755</td>\n",
       "      <td>-11.420422</td>\n",
       "      <td>-41.905417</td>\n",
       "      <td>-10.369329</td>\n",
       "    </tr>\n",
       "    <tr>\n",
       "      <th>976</th>\n",
       "      <td>2002-09-03</td>\n",
       "      <td>-64.504532</td>\n",
       "      <td>-13.721506</td>\n",
       "      <td>-41.317650</td>\n",
       "      <td>-10.817216</td>\n",
       "    </tr>\n",
       "    <tr>\n",
       "      <th>977</th>\n",
       "      <td>2002-09-04</td>\n",
       "      <td>-63.895838</td>\n",
       "      <td>-14.664043</td>\n",
       "      <td>-43.041897</td>\n",
       "      <td>-11.362668</td>\n",
       "    </tr>\n",
       "    <tr>\n",
       "      <th>978</th>\n",
       "      <td>2002-09-05</td>\n",
       "      <td>-61.875330</td>\n",
       "      <td>-13.939558</td>\n",
       "      <td>-42.814531</td>\n",
       "      <td>-12.405703</td>\n",
       "    </tr>\n",
       "    <tr>\n",
       "      <th>979</th>\n",
       "      <td>2002-09-06</td>\n",
       "      <td>-61.184249</td>\n",
       "      <td>-13.470944</td>\n",
       "      <td>-41.794859</td>\n",
       "      <td>-12.580525</td>\n",
       "    </tr>\n",
       "    <tr>\n",
       "      <th>980</th>\n",
       "      <td>2002-09-07</td>\n",
       "      <td>-63.295726</td>\n",
       "      <td>-13.279545</td>\n",
       "      <td>-41.207465</td>\n",
       "      <td>-12.597007</td>\n",
       "    </tr>\n",
       "    <tr>\n",
       "      <th>981</th>\n",
       "      <td>2002-09-08</td>\n",
       "      <td>-63.759968</td>\n",
       "      <td>-13.495305</td>\n",
       "      <td>-40.457491</td>\n",
       "      <td>-14.392838</td>\n",
       "    </tr>\n",
       "    <tr>\n",
       "      <th>982</th>\n",
       "      <td>2002-09-09</td>\n",
       "      <td>-63.565861</td>\n",
       "      <td>-14.195322</td>\n",
       "      <td>-39.390009</td>\n",
       "      <td>-14.574553</td>\n",
       "    </tr>\n",
       "    <tr>\n",
       "      <th>983</th>\n",
       "      <td>2002-09-10</td>\n",
       "      <td>-62.724153</td>\n",
       "      <td>-14.357229</td>\n",
       "      <td>-40.003973</td>\n",
       "      <td>-15.449666</td>\n",
       "    </tr>\n",
       "    <tr>\n",
       "      <th>984</th>\n",
       "      <td>2002-09-11</td>\n",
       "      <td>-60.449281</td>\n",
       "      <td>-13.829960</td>\n",
       "      <td>-41.455621</td>\n",
       "      <td>-14.859573</td>\n",
       "    </tr>\n",
       "    <tr>\n",
       "      <th>985</th>\n",
       "      <td>2002-09-12</td>\n",
       "      <td>-61.433155</td>\n",
       "      <td>-14.134021</td>\n",
       "      <td>-42.559448</td>\n",
       "      <td>-13.701805</td>\n",
       "    </tr>\n",
       "    <tr>\n",
       "      <th>986</th>\n",
       "      <td>2002-09-13</td>\n",
       "      <td>-60.275276</td>\n",
       "      <td>-15.445510</td>\n",
       "      <td>-43.058420</td>\n",
       "      <td>-14.429522</td>\n",
       "    </tr>\n",
       "    <tr>\n",
       "      <th>987</th>\n",
       "      <td>2002-09-14</td>\n",
       "      <td>-61.460062</td>\n",
       "      <td>-14.556587</td>\n",
       "      <td>-43.890832</td>\n",
       "      <td>-14.942996</td>\n",
       "    </tr>\n",
       "    <tr>\n",
       "      <th>988</th>\n",
       "      <td>2002-09-15</td>\n",
       "      <td>-61.666451</td>\n",
       "      <td>-15.612704</td>\n",
       "      <td>-44.872276</td>\n",
       "      <td>-14.429375</td>\n",
       "    </tr>\n",
       "    <tr>\n",
       "      <th>989</th>\n",
       "      <td>2002-09-16</td>\n",
       "      <td>-61.724434</td>\n",
       "      <td>-15.621900</td>\n",
       "      <td>-43.556507</td>\n",
       "      <td>-14.689453</td>\n",
       "    </tr>\n",
       "    <tr>\n",
       "      <th>990</th>\n",
       "      <td>2002-09-17</td>\n",
       "      <td>-63.345472</td>\n",
       "      <td>-15.376449</td>\n",
       "      <td>-44.779407</td>\n",
       "      <td>-15.550420</td>\n",
       "    </tr>\n",
       "    <tr>\n",
       "      <th>991</th>\n",
       "      <td>2002-09-18</td>\n",
       "      <td>-63.594569</td>\n",
       "      <td>-14.869596</td>\n",
       "      <td>-44.373740</td>\n",
       "      <td>-16.101027</td>\n",
       "    </tr>\n",
       "    <tr>\n",
       "      <th>992</th>\n",
       "      <td>2002-09-19</td>\n",
       "      <td>-63.171428</td>\n",
       "      <td>-14.290347</td>\n",
       "      <td>-44.522842</td>\n",
       "      <td>-17.000023</td>\n",
       "    </tr>\n",
       "    <tr>\n",
       "      <th>993</th>\n",
       "      <td>2002-09-20</td>\n",
       "      <td>-64.087069</td>\n",
       "      <td>-13.391352</td>\n",
       "      <td>-43.830119</td>\n",
       "      <td>-17.268165</td>\n",
       "    </tr>\n",
       "    <tr>\n",
       "      <th>994</th>\n",
       "      <td>2002-09-21</td>\n",
       "      <td>-64.614200</td>\n",
       "      <td>-13.979555</td>\n",
       "      <td>-41.834725</td>\n",
       "      <td>-17.601642</td>\n",
       "    </tr>\n",
       "    <tr>\n",
       "      <th>995</th>\n",
       "      <td>2002-09-22</td>\n",
       "      <td>-63.589608</td>\n",
       "      <td>-11.922876</td>\n",
       "      <td>-42.400165</td>\n",
       "      <td>-17.230977</td>\n",
       "    </tr>\n",
       "    <tr>\n",
       "      <th>996</th>\n",
       "      <td>2002-09-23</td>\n",
       "      <td>-62.922627</td>\n",
       "      <td>-12.369654</td>\n",
       "      <td>-42.532407</td>\n",
       "      <td>-18.059182</td>\n",
       "    </tr>\n",
       "    <tr>\n",
       "      <th>997</th>\n",
       "      <td>2002-09-24</td>\n",
       "      <td>-63.099701</td>\n",
       "      <td>-13.413322</td>\n",
       "      <td>-42.539832</td>\n",
       "      <td>-18.141576</td>\n",
       "    </tr>\n",
       "    <tr>\n",
       "      <th>998</th>\n",
       "      <td>2002-09-25</td>\n",
       "      <td>-61.661835</td>\n",
       "      <td>-13.630615</td>\n",
       "      <td>-43.088326</td>\n",
       "      <td>-18.582008</td>\n",
       "    </tr>\n",
       "    <tr>\n",
       "      <th>999</th>\n",
       "      <td>2002-09-26</td>\n",
       "      <td>-60.840504</td>\n",
       "      <td>-13.516061</td>\n",
       "      <td>-43.475149</td>\n",
       "      <td>-18.214770</td>\n",
       "    </tr>\n",
       "  </tbody>\n",
       "</table>\n",
       "<p>1000 rows × 5 columns</p>\n",
       "</div>"
      ],
      "text/plain": [
       "     Unnamed: 0          A          B          C          D\n",
       "0    2000-01-01   1.440337  -0.449685  -2.046636   0.166466\n",
       "1    2000-01-02   2.713200   0.479522  -2.447068  -0.539122\n",
       "2    2000-01-03   3.060474   0.892762  -2.204025  -1.441796\n",
       "3    2000-01-04   3.032677   1.143885  -2.121135  -2.924457\n",
       "4    2000-01-05   5.288162   2.147440  -2.849708  -1.740316\n",
       "5    2000-01-06   5.310011   1.714505  -0.868418  -1.111336\n",
       "6    2000-01-07   3.844686   0.793829  -1.879874   0.945263\n",
       "7    2000-01-08   2.508369  -1.033586  -1.084115   0.041130\n",
       "8    2000-01-09   2.658419  -1.167054  -1.385003   1.441067\n",
       "9    2000-01-10   2.082637  -0.938515  -3.063212   2.372157\n",
       "10   2000-01-11  -0.393765   0.569803  -3.831202   2.151403\n",
       "11   2000-01-12   0.896936  -0.023224  -3.298339   1.709833\n",
       "12   2000-01-13   0.454104   0.759314  -0.832411  -0.018082\n",
       "13   2000-01-14   1.400861   1.004968  -0.694663  -1.817709\n",
       "14   2000-01-15   1.039630   2.839974  -1.777334  -1.197991\n",
       "15   2000-01-16   0.569437   2.110222  -2.327678  -1.077842\n",
       "16   2000-01-17  -0.149230   2.986665  -0.613918  -0.303905\n",
       "17   2000-01-18  -0.588584   3.603746  -0.687689   0.205074\n",
       "18   2000-01-19  -0.633702   3.003508  -0.448550  -0.036590\n",
       "19   2000-01-20  -1.780211   2.756346  -0.889963  -1.386301\n",
       "20   2000-01-21  -0.466673   3.710429   0.031492  -1.106858\n",
       "21   2000-01-22   0.020267   2.489557   2.285607  -2.029120\n",
       "22   2000-01-23  -0.123610   1.826821   3.883208  -2.999897\n",
       "23   2000-01-24   1.260747   1.317570   3.141925  -3.967372\n",
       "24   2000-01-25   2.068155   0.130603   3.551058  -3.015086\n",
       "25   2000-01-26   2.054363  -1.107356   3.056902  -4.483845\n",
       "26   2000-01-27   0.368414  -0.859329   1.895891  -6.248324\n",
       "27   2000-01-28   0.772579  -2.232629   0.054446  -7.549424\n",
       "28   2000-01-29   0.529267  -3.354992   0.968384  -6.892903\n",
       "29   2000-01-30   1.913393  -0.925287   1.817852  -6.582524\n",
       "..          ...        ...        ...        ...        ...\n",
       "970  2002-08-28 -64.432616 -12.577013 -44.205732 -12.292775\n",
       "971  2002-08-29 -65.590313 -11.044339 -43.741152 -11.925110\n",
       "972  2002-08-30 -64.605879 -10.174653 -44.167994 -12.422172\n",
       "973  2002-08-31 -65.528183 -12.351156 -44.425307 -11.286377\n",
       "974  2002-09-01 -65.282613 -12.521490 -42.684863 -11.361213\n",
       "975  2002-09-02 -65.098755 -11.420422 -41.905417 -10.369329\n",
       "976  2002-09-03 -64.504532 -13.721506 -41.317650 -10.817216\n",
       "977  2002-09-04 -63.895838 -14.664043 -43.041897 -11.362668\n",
       "978  2002-09-05 -61.875330 -13.939558 -42.814531 -12.405703\n",
       "979  2002-09-06 -61.184249 -13.470944 -41.794859 -12.580525\n",
       "980  2002-09-07 -63.295726 -13.279545 -41.207465 -12.597007\n",
       "981  2002-09-08 -63.759968 -13.495305 -40.457491 -14.392838\n",
       "982  2002-09-09 -63.565861 -14.195322 -39.390009 -14.574553\n",
       "983  2002-09-10 -62.724153 -14.357229 -40.003973 -15.449666\n",
       "984  2002-09-11 -60.449281 -13.829960 -41.455621 -14.859573\n",
       "985  2002-09-12 -61.433155 -14.134021 -42.559448 -13.701805\n",
       "986  2002-09-13 -60.275276 -15.445510 -43.058420 -14.429522\n",
       "987  2002-09-14 -61.460062 -14.556587 -43.890832 -14.942996\n",
       "988  2002-09-15 -61.666451 -15.612704 -44.872276 -14.429375\n",
       "989  2002-09-16 -61.724434 -15.621900 -43.556507 -14.689453\n",
       "990  2002-09-17 -63.345472 -15.376449 -44.779407 -15.550420\n",
       "991  2002-09-18 -63.594569 -14.869596 -44.373740 -16.101027\n",
       "992  2002-09-19 -63.171428 -14.290347 -44.522842 -17.000023\n",
       "993  2002-09-20 -64.087069 -13.391352 -43.830119 -17.268165\n",
       "994  2002-09-21 -64.614200 -13.979555 -41.834725 -17.601642\n",
       "995  2002-09-22 -63.589608 -11.922876 -42.400165 -17.230977\n",
       "996  2002-09-23 -62.922627 -12.369654 -42.532407 -18.059182\n",
       "997  2002-09-24 -63.099701 -13.413322 -42.539832 -18.141576\n",
       "998  2002-09-25 -61.661835 -13.630615 -43.088326 -18.582008\n",
       "999  2002-09-26 -60.840504 -13.516061 -43.475149 -18.214770\n",
       "\n",
       "[1000 rows x 5 columns]"
      ]
     },
     "execution_count": 91,
     "metadata": {},
     "output_type": "execute_result"
    }
   ],
   "source": [
    "#csv\n",
    "df.to_csv('foo.csv')\n",
    "pd.read_csv('foo.csv')\n",
    "\n"
   ]
  },
  {
   "cell_type": "code",
   "execution_count": 92,
   "metadata": {
    "scrolled": true
   },
   "outputs": [
    {
     "data": {
      "text/html": [
       "<div>\n",
       "<style>\n",
       "    .dataframe thead tr:only-child th {\n",
       "        text-align: right;\n",
       "    }\n",
       "\n",
       "    .dataframe thead th {\n",
       "        text-align: left;\n",
       "    }\n",
       "\n",
       "    .dataframe tbody tr th {\n",
       "        vertical-align: top;\n",
       "    }\n",
       "</style>\n",
       "<table border=\"1\" class=\"dataframe\">\n",
       "  <thead>\n",
       "    <tr style=\"text-align: right;\">\n",
       "      <th></th>\n",
       "      <th>A</th>\n",
       "      <th>B</th>\n",
       "      <th>C</th>\n",
       "      <th>D</th>\n",
       "    </tr>\n",
       "  </thead>\n",
       "  <tbody>\n",
       "    <tr>\n",
       "      <th>2000-01-01</th>\n",
       "      <td>1.440337</td>\n",
       "      <td>-0.449685</td>\n",
       "      <td>-2.046636</td>\n",
       "      <td>0.166466</td>\n",
       "    </tr>\n",
       "    <tr>\n",
       "      <th>2000-01-02</th>\n",
       "      <td>2.713200</td>\n",
       "      <td>0.479522</td>\n",
       "      <td>-2.447068</td>\n",
       "      <td>-0.539122</td>\n",
       "    </tr>\n",
       "    <tr>\n",
       "      <th>2000-01-03</th>\n",
       "      <td>3.060474</td>\n",
       "      <td>0.892762</td>\n",
       "      <td>-2.204025</td>\n",
       "      <td>-1.441796</td>\n",
       "    </tr>\n",
       "    <tr>\n",
       "      <th>2000-01-04</th>\n",
       "      <td>3.032677</td>\n",
       "      <td>1.143885</td>\n",
       "      <td>-2.121135</td>\n",
       "      <td>-2.924457</td>\n",
       "    </tr>\n",
       "    <tr>\n",
       "      <th>2000-01-05</th>\n",
       "      <td>5.288162</td>\n",
       "      <td>2.147440</td>\n",
       "      <td>-2.849708</td>\n",
       "      <td>-1.740316</td>\n",
       "    </tr>\n",
       "    <tr>\n",
       "      <th>2000-01-06</th>\n",
       "      <td>5.310011</td>\n",
       "      <td>1.714505</td>\n",
       "      <td>-0.868418</td>\n",
       "      <td>-1.111336</td>\n",
       "    </tr>\n",
       "    <tr>\n",
       "      <th>2000-01-07</th>\n",
       "      <td>3.844686</td>\n",
       "      <td>0.793829</td>\n",
       "      <td>-1.879874</td>\n",
       "      <td>0.945263</td>\n",
       "    </tr>\n",
       "    <tr>\n",
       "      <th>2000-01-08</th>\n",
       "      <td>2.508369</td>\n",
       "      <td>-1.033586</td>\n",
       "      <td>-1.084115</td>\n",
       "      <td>0.041130</td>\n",
       "    </tr>\n",
       "    <tr>\n",
       "      <th>2000-01-09</th>\n",
       "      <td>2.658419</td>\n",
       "      <td>-1.167054</td>\n",
       "      <td>-1.385003</td>\n",
       "      <td>1.441067</td>\n",
       "    </tr>\n",
       "    <tr>\n",
       "      <th>2000-01-10</th>\n",
       "      <td>2.082637</td>\n",
       "      <td>-0.938515</td>\n",
       "      <td>-3.063212</td>\n",
       "      <td>2.372157</td>\n",
       "    </tr>\n",
       "    <tr>\n",
       "      <th>2000-01-11</th>\n",
       "      <td>-0.393765</td>\n",
       "      <td>0.569803</td>\n",
       "      <td>-3.831202</td>\n",
       "      <td>2.151403</td>\n",
       "    </tr>\n",
       "    <tr>\n",
       "      <th>2000-01-12</th>\n",
       "      <td>0.896936</td>\n",
       "      <td>-0.023224</td>\n",
       "      <td>-3.298339</td>\n",
       "      <td>1.709833</td>\n",
       "    </tr>\n",
       "    <tr>\n",
       "      <th>2000-01-13</th>\n",
       "      <td>0.454104</td>\n",
       "      <td>0.759314</td>\n",
       "      <td>-0.832411</td>\n",
       "      <td>-0.018082</td>\n",
       "    </tr>\n",
       "    <tr>\n",
       "      <th>2000-01-14</th>\n",
       "      <td>1.400861</td>\n",
       "      <td>1.004968</td>\n",
       "      <td>-0.694663</td>\n",
       "      <td>-1.817709</td>\n",
       "    </tr>\n",
       "    <tr>\n",
       "      <th>2000-01-15</th>\n",
       "      <td>1.039630</td>\n",
       "      <td>2.839974</td>\n",
       "      <td>-1.777334</td>\n",
       "      <td>-1.197991</td>\n",
       "    </tr>\n",
       "    <tr>\n",
       "      <th>2000-01-16</th>\n",
       "      <td>0.569437</td>\n",
       "      <td>2.110222</td>\n",
       "      <td>-2.327678</td>\n",
       "      <td>-1.077842</td>\n",
       "    </tr>\n",
       "    <tr>\n",
       "      <th>2000-01-17</th>\n",
       "      <td>-0.149230</td>\n",
       "      <td>2.986665</td>\n",
       "      <td>-0.613918</td>\n",
       "      <td>-0.303905</td>\n",
       "    </tr>\n",
       "    <tr>\n",
       "      <th>2000-01-18</th>\n",
       "      <td>-0.588584</td>\n",
       "      <td>3.603746</td>\n",
       "      <td>-0.687689</td>\n",
       "      <td>0.205074</td>\n",
       "    </tr>\n",
       "    <tr>\n",
       "      <th>2000-01-19</th>\n",
       "      <td>-0.633702</td>\n",
       "      <td>3.003508</td>\n",
       "      <td>-0.448550</td>\n",
       "      <td>-0.036590</td>\n",
       "    </tr>\n",
       "    <tr>\n",
       "      <th>2000-01-20</th>\n",
       "      <td>-1.780211</td>\n",
       "      <td>2.756346</td>\n",
       "      <td>-0.889963</td>\n",
       "      <td>-1.386301</td>\n",
       "    </tr>\n",
       "    <tr>\n",
       "      <th>2000-01-21</th>\n",
       "      <td>-0.466673</td>\n",
       "      <td>3.710429</td>\n",
       "      <td>0.031492</td>\n",
       "      <td>-1.106858</td>\n",
       "    </tr>\n",
       "    <tr>\n",
       "      <th>2000-01-22</th>\n",
       "      <td>0.020267</td>\n",
       "      <td>2.489557</td>\n",
       "      <td>2.285607</td>\n",
       "      <td>-2.029120</td>\n",
       "    </tr>\n",
       "    <tr>\n",
       "      <th>2000-01-23</th>\n",
       "      <td>-0.123610</td>\n",
       "      <td>1.826821</td>\n",
       "      <td>3.883208</td>\n",
       "      <td>-2.999897</td>\n",
       "    </tr>\n",
       "    <tr>\n",
       "      <th>2000-01-24</th>\n",
       "      <td>1.260747</td>\n",
       "      <td>1.317570</td>\n",
       "      <td>3.141925</td>\n",
       "      <td>-3.967372</td>\n",
       "    </tr>\n",
       "    <tr>\n",
       "      <th>2000-01-25</th>\n",
       "      <td>2.068155</td>\n",
       "      <td>0.130603</td>\n",
       "      <td>3.551058</td>\n",
       "      <td>-3.015086</td>\n",
       "    </tr>\n",
       "    <tr>\n",
       "      <th>2000-01-26</th>\n",
       "      <td>2.054363</td>\n",
       "      <td>-1.107356</td>\n",
       "      <td>3.056902</td>\n",
       "      <td>-4.483845</td>\n",
       "    </tr>\n",
       "    <tr>\n",
       "      <th>2000-01-27</th>\n",
       "      <td>0.368414</td>\n",
       "      <td>-0.859329</td>\n",
       "      <td>1.895891</td>\n",
       "      <td>-6.248324</td>\n",
       "    </tr>\n",
       "    <tr>\n",
       "      <th>2000-01-28</th>\n",
       "      <td>0.772579</td>\n",
       "      <td>-2.232629</td>\n",
       "      <td>0.054446</td>\n",
       "      <td>-7.549424</td>\n",
       "    </tr>\n",
       "    <tr>\n",
       "      <th>2000-01-29</th>\n",
       "      <td>0.529267</td>\n",
       "      <td>-3.354992</td>\n",
       "      <td>0.968384</td>\n",
       "      <td>-6.892903</td>\n",
       "    </tr>\n",
       "    <tr>\n",
       "      <th>2000-01-30</th>\n",
       "      <td>1.913393</td>\n",
       "      <td>-0.925287</td>\n",
       "      <td>1.817852</td>\n",
       "      <td>-6.582524</td>\n",
       "    </tr>\n",
       "    <tr>\n",
       "      <th>...</th>\n",
       "      <td>...</td>\n",
       "      <td>...</td>\n",
       "      <td>...</td>\n",
       "      <td>...</td>\n",
       "    </tr>\n",
       "    <tr>\n",
       "      <th>2002-08-28</th>\n",
       "      <td>-64.432616</td>\n",
       "      <td>-12.577013</td>\n",
       "      <td>-44.205732</td>\n",
       "      <td>-12.292775</td>\n",
       "    </tr>\n",
       "    <tr>\n",
       "      <th>2002-08-29</th>\n",
       "      <td>-65.590313</td>\n",
       "      <td>-11.044339</td>\n",
       "      <td>-43.741152</td>\n",
       "      <td>-11.925110</td>\n",
       "    </tr>\n",
       "    <tr>\n",
       "      <th>2002-08-30</th>\n",
       "      <td>-64.605879</td>\n",
       "      <td>-10.174653</td>\n",
       "      <td>-44.167994</td>\n",
       "      <td>-12.422172</td>\n",
       "    </tr>\n",
       "    <tr>\n",
       "      <th>2002-08-31</th>\n",
       "      <td>-65.528183</td>\n",
       "      <td>-12.351156</td>\n",
       "      <td>-44.425307</td>\n",
       "      <td>-11.286377</td>\n",
       "    </tr>\n",
       "    <tr>\n",
       "      <th>2002-09-01</th>\n",
       "      <td>-65.282613</td>\n",
       "      <td>-12.521490</td>\n",
       "      <td>-42.684863</td>\n",
       "      <td>-11.361213</td>\n",
       "    </tr>\n",
       "    <tr>\n",
       "      <th>2002-09-02</th>\n",
       "      <td>-65.098755</td>\n",
       "      <td>-11.420422</td>\n",
       "      <td>-41.905417</td>\n",
       "      <td>-10.369329</td>\n",
       "    </tr>\n",
       "    <tr>\n",
       "      <th>2002-09-03</th>\n",
       "      <td>-64.504532</td>\n",
       "      <td>-13.721506</td>\n",
       "      <td>-41.317650</td>\n",
       "      <td>-10.817216</td>\n",
       "    </tr>\n",
       "    <tr>\n",
       "      <th>2002-09-04</th>\n",
       "      <td>-63.895838</td>\n",
       "      <td>-14.664043</td>\n",
       "      <td>-43.041897</td>\n",
       "      <td>-11.362668</td>\n",
       "    </tr>\n",
       "    <tr>\n",
       "      <th>2002-09-05</th>\n",
       "      <td>-61.875330</td>\n",
       "      <td>-13.939558</td>\n",
       "      <td>-42.814531</td>\n",
       "      <td>-12.405703</td>\n",
       "    </tr>\n",
       "    <tr>\n",
       "      <th>2002-09-06</th>\n",
       "      <td>-61.184249</td>\n",
       "      <td>-13.470944</td>\n",
       "      <td>-41.794859</td>\n",
       "      <td>-12.580525</td>\n",
       "    </tr>\n",
       "    <tr>\n",
       "      <th>2002-09-07</th>\n",
       "      <td>-63.295726</td>\n",
       "      <td>-13.279545</td>\n",
       "      <td>-41.207465</td>\n",
       "      <td>-12.597007</td>\n",
       "    </tr>\n",
       "    <tr>\n",
       "      <th>2002-09-08</th>\n",
       "      <td>-63.759968</td>\n",
       "      <td>-13.495305</td>\n",
       "      <td>-40.457491</td>\n",
       "      <td>-14.392838</td>\n",
       "    </tr>\n",
       "    <tr>\n",
       "      <th>2002-09-09</th>\n",
       "      <td>-63.565861</td>\n",
       "      <td>-14.195322</td>\n",
       "      <td>-39.390009</td>\n",
       "      <td>-14.574553</td>\n",
       "    </tr>\n",
       "    <tr>\n",
       "      <th>2002-09-10</th>\n",
       "      <td>-62.724153</td>\n",
       "      <td>-14.357229</td>\n",
       "      <td>-40.003973</td>\n",
       "      <td>-15.449666</td>\n",
       "    </tr>\n",
       "    <tr>\n",
       "      <th>2002-09-11</th>\n",
       "      <td>-60.449281</td>\n",
       "      <td>-13.829960</td>\n",
       "      <td>-41.455621</td>\n",
       "      <td>-14.859573</td>\n",
       "    </tr>\n",
       "    <tr>\n",
       "      <th>2002-09-12</th>\n",
       "      <td>-61.433155</td>\n",
       "      <td>-14.134021</td>\n",
       "      <td>-42.559448</td>\n",
       "      <td>-13.701805</td>\n",
       "    </tr>\n",
       "    <tr>\n",
       "      <th>2002-09-13</th>\n",
       "      <td>-60.275276</td>\n",
       "      <td>-15.445510</td>\n",
       "      <td>-43.058420</td>\n",
       "      <td>-14.429522</td>\n",
       "    </tr>\n",
       "    <tr>\n",
       "      <th>2002-09-14</th>\n",
       "      <td>-61.460062</td>\n",
       "      <td>-14.556587</td>\n",
       "      <td>-43.890832</td>\n",
       "      <td>-14.942996</td>\n",
       "    </tr>\n",
       "    <tr>\n",
       "      <th>2002-09-15</th>\n",
       "      <td>-61.666451</td>\n",
       "      <td>-15.612704</td>\n",
       "      <td>-44.872276</td>\n",
       "      <td>-14.429375</td>\n",
       "    </tr>\n",
       "    <tr>\n",
       "      <th>2002-09-16</th>\n",
       "      <td>-61.724434</td>\n",
       "      <td>-15.621900</td>\n",
       "      <td>-43.556507</td>\n",
       "      <td>-14.689453</td>\n",
       "    </tr>\n",
       "    <tr>\n",
       "      <th>2002-09-17</th>\n",
       "      <td>-63.345472</td>\n",
       "      <td>-15.376449</td>\n",
       "      <td>-44.779407</td>\n",
       "      <td>-15.550420</td>\n",
       "    </tr>\n",
       "    <tr>\n",
       "      <th>2002-09-18</th>\n",
       "      <td>-63.594569</td>\n",
       "      <td>-14.869596</td>\n",
       "      <td>-44.373740</td>\n",
       "      <td>-16.101027</td>\n",
       "    </tr>\n",
       "    <tr>\n",
       "      <th>2002-09-19</th>\n",
       "      <td>-63.171428</td>\n",
       "      <td>-14.290347</td>\n",
       "      <td>-44.522842</td>\n",
       "      <td>-17.000023</td>\n",
       "    </tr>\n",
       "    <tr>\n",
       "      <th>2002-09-20</th>\n",
       "      <td>-64.087069</td>\n",
       "      <td>-13.391352</td>\n",
       "      <td>-43.830119</td>\n",
       "      <td>-17.268165</td>\n",
       "    </tr>\n",
       "    <tr>\n",
       "      <th>2002-09-21</th>\n",
       "      <td>-64.614200</td>\n",
       "      <td>-13.979555</td>\n",
       "      <td>-41.834725</td>\n",
       "      <td>-17.601642</td>\n",
       "    </tr>\n",
       "    <tr>\n",
       "      <th>2002-09-22</th>\n",
       "      <td>-63.589608</td>\n",
       "      <td>-11.922876</td>\n",
       "      <td>-42.400165</td>\n",
       "      <td>-17.230977</td>\n",
       "    </tr>\n",
       "    <tr>\n",
       "      <th>2002-09-23</th>\n",
       "      <td>-62.922627</td>\n",
       "      <td>-12.369654</td>\n",
       "      <td>-42.532407</td>\n",
       "      <td>-18.059182</td>\n",
       "    </tr>\n",
       "    <tr>\n",
       "      <th>2002-09-24</th>\n",
       "      <td>-63.099701</td>\n",
       "      <td>-13.413322</td>\n",
       "      <td>-42.539832</td>\n",
       "      <td>-18.141576</td>\n",
       "    </tr>\n",
       "    <tr>\n",
       "      <th>2002-09-25</th>\n",
       "      <td>-61.661835</td>\n",
       "      <td>-13.630615</td>\n",
       "      <td>-43.088326</td>\n",
       "      <td>-18.582008</td>\n",
       "    </tr>\n",
       "    <tr>\n",
       "      <th>2002-09-26</th>\n",
       "      <td>-60.840504</td>\n",
       "      <td>-13.516061</td>\n",
       "      <td>-43.475149</td>\n",
       "      <td>-18.214770</td>\n",
       "    </tr>\n",
       "  </tbody>\n",
       "</table>\n",
       "<p>1000 rows × 4 columns</p>\n",
       "</div>"
      ],
      "text/plain": [
       "                    A          B          C          D\n",
       "2000-01-01   1.440337  -0.449685  -2.046636   0.166466\n",
       "2000-01-02   2.713200   0.479522  -2.447068  -0.539122\n",
       "2000-01-03   3.060474   0.892762  -2.204025  -1.441796\n",
       "2000-01-04   3.032677   1.143885  -2.121135  -2.924457\n",
       "2000-01-05   5.288162   2.147440  -2.849708  -1.740316\n",
       "2000-01-06   5.310011   1.714505  -0.868418  -1.111336\n",
       "2000-01-07   3.844686   0.793829  -1.879874   0.945263\n",
       "2000-01-08   2.508369  -1.033586  -1.084115   0.041130\n",
       "2000-01-09   2.658419  -1.167054  -1.385003   1.441067\n",
       "2000-01-10   2.082637  -0.938515  -3.063212   2.372157\n",
       "2000-01-11  -0.393765   0.569803  -3.831202   2.151403\n",
       "2000-01-12   0.896936  -0.023224  -3.298339   1.709833\n",
       "2000-01-13   0.454104   0.759314  -0.832411  -0.018082\n",
       "2000-01-14   1.400861   1.004968  -0.694663  -1.817709\n",
       "2000-01-15   1.039630   2.839974  -1.777334  -1.197991\n",
       "2000-01-16   0.569437   2.110222  -2.327678  -1.077842\n",
       "2000-01-17  -0.149230   2.986665  -0.613918  -0.303905\n",
       "2000-01-18  -0.588584   3.603746  -0.687689   0.205074\n",
       "2000-01-19  -0.633702   3.003508  -0.448550  -0.036590\n",
       "2000-01-20  -1.780211   2.756346  -0.889963  -1.386301\n",
       "2000-01-21  -0.466673   3.710429   0.031492  -1.106858\n",
       "2000-01-22   0.020267   2.489557   2.285607  -2.029120\n",
       "2000-01-23  -0.123610   1.826821   3.883208  -2.999897\n",
       "2000-01-24   1.260747   1.317570   3.141925  -3.967372\n",
       "2000-01-25   2.068155   0.130603   3.551058  -3.015086\n",
       "2000-01-26   2.054363  -1.107356   3.056902  -4.483845\n",
       "2000-01-27   0.368414  -0.859329   1.895891  -6.248324\n",
       "2000-01-28   0.772579  -2.232629   0.054446  -7.549424\n",
       "2000-01-29   0.529267  -3.354992   0.968384  -6.892903\n",
       "2000-01-30   1.913393  -0.925287   1.817852  -6.582524\n",
       "...               ...        ...        ...        ...\n",
       "2002-08-28 -64.432616 -12.577013 -44.205732 -12.292775\n",
       "2002-08-29 -65.590313 -11.044339 -43.741152 -11.925110\n",
       "2002-08-30 -64.605879 -10.174653 -44.167994 -12.422172\n",
       "2002-08-31 -65.528183 -12.351156 -44.425307 -11.286377\n",
       "2002-09-01 -65.282613 -12.521490 -42.684863 -11.361213\n",
       "2002-09-02 -65.098755 -11.420422 -41.905417 -10.369329\n",
       "2002-09-03 -64.504532 -13.721506 -41.317650 -10.817216\n",
       "2002-09-04 -63.895838 -14.664043 -43.041897 -11.362668\n",
       "2002-09-05 -61.875330 -13.939558 -42.814531 -12.405703\n",
       "2002-09-06 -61.184249 -13.470944 -41.794859 -12.580525\n",
       "2002-09-07 -63.295726 -13.279545 -41.207465 -12.597007\n",
       "2002-09-08 -63.759968 -13.495305 -40.457491 -14.392838\n",
       "2002-09-09 -63.565861 -14.195322 -39.390009 -14.574553\n",
       "2002-09-10 -62.724153 -14.357229 -40.003973 -15.449666\n",
       "2002-09-11 -60.449281 -13.829960 -41.455621 -14.859573\n",
       "2002-09-12 -61.433155 -14.134021 -42.559448 -13.701805\n",
       "2002-09-13 -60.275276 -15.445510 -43.058420 -14.429522\n",
       "2002-09-14 -61.460062 -14.556587 -43.890832 -14.942996\n",
       "2002-09-15 -61.666451 -15.612704 -44.872276 -14.429375\n",
       "2002-09-16 -61.724434 -15.621900 -43.556507 -14.689453\n",
       "2002-09-17 -63.345472 -15.376449 -44.779407 -15.550420\n",
       "2002-09-18 -63.594569 -14.869596 -44.373740 -16.101027\n",
       "2002-09-19 -63.171428 -14.290347 -44.522842 -17.000023\n",
       "2002-09-20 -64.087069 -13.391352 -43.830119 -17.268165\n",
       "2002-09-21 -64.614200 -13.979555 -41.834725 -17.601642\n",
       "2002-09-22 -63.589608 -11.922876 -42.400165 -17.230977\n",
       "2002-09-23 -62.922627 -12.369654 -42.532407 -18.059182\n",
       "2002-09-24 -63.099701 -13.413322 -42.539832 -18.141576\n",
       "2002-09-25 -61.661835 -13.630615 -43.088326 -18.582008\n",
       "2002-09-26 -60.840504 -13.516061 -43.475149 -18.214770\n",
       "\n",
       "[1000 rows x 4 columns]"
      ]
     },
     "execution_count": 92,
     "metadata": {},
     "output_type": "execute_result"
    }
   ],
   "source": [
    "#excel\n",
    "df.to_excel('foo.xlsx', sheet_name='Sheet1')\n",
    "pd.read_excel('foo.xlsx', 'Sheet1', index_col=None, na_values=['NA'])"
   ]
  }
 ],
 "metadata": {
  "kernelspec": {
   "display_name": "Python 3",
   "language": "python",
   "name": "python3"
  },
  "language_info": {
   "codemirror_mode": {
    "name": "ipython",
    "version": 3
   },
   "file_extension": ".py",
   "mimetype": "text/x-python",
   "name": "python",
   "nbconvert_exporter": "python",
   "pygments_lexer": "ipython3",
   "version": "3.6.1"
  }
 },
 "nbformat": 4,
 "nbformat_minor": 1
}
