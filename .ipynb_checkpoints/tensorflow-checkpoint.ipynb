{
 "cells": [
  {
   "cell_type": "code",
   "execution_count": 1,
   "metadata": {
    "scrolled": true
   },
   "outputs": [
    {
     "name": "stdout",
     "output_type": "stream",
     "text": [
      "Collecting tensorflow\n",
      "  Downloading tensorflow-1.2.0rc2-cp36-cp36m-win_amd64.whl (21.2MB)\n",
      "Collecting backports.weakref==1.0rc1 (from tensorflow)\n",
      "  Downloading backports.weakref-1.0rc1-py3-none-any.whl\n",
      "Requirement already satisfied: six>=1.10.0 in c:\\users\\joshua.chen\\appdata\\local\\continuum\\anaconda3\\lib\\site-packages (from tensorflow)\n",
      "Requirement already satisfied: numpy>=1.11.0 in c:\\users\\joshua.chen\\appdata\\local\\continuum\\anaconda3\\lib\\site-packages (from tensorflow)\n",
      "Collecting protobuf>=3.2.0 (from tensorflow)\n",
      "  Downloading protobuf-3.3.0.tar.gz (271kB)\n",
      "Requirement already satisfied: wheel>=0.26 in c:\\users\\joshua.chen\\appdata\\local\\continuum\\anaconda3\\lib\\site-packages (from tensorflow)\n",
      "Collecting html5lib==0.9999999 (from tensorflow)\n",
      "  Downloading html5lib-0.9999999.tar.gz (889kB)\n",
      "Requirement already satisfied: werkzeug>=0.11.10 in c:\\users\\joshua.chen\\appdata\\local\\continuum\\anaconda3\\lib\\site-packages (from tensorflow)\n",
      "Requirement already satisfied: bleach==1.5.0 in c:\\users\\joshua.chen\\appdata\\local\\continuum\\anaconda3\\lib\\site-packages (from tensorflow)\n",
      "Collecting markdown==2.2.0 (from tensorflow)\n",
      "  Downloading Markdown-2.2.0.tar.gz (236kB)\n",
      "Requirement already satisfied: setuptools in c:\\users\\joshua.chen\\appdata\\local\\continuum\\anaconda3\\lib\\site-packages\\setuptools-27.2.0-py3.6.egg (from protobuf>=3.2.0->tensorflow)\n",
      "Building wheels for collected packages: protobuf, html5lib, markdown\n",
      "  Running setup.py bdist_wheel for protobuf: started\n",
      "  Running setup.py bdist_wheel for protobuf: finished with status 'done'\n",
      "  Stored in directory: C:\\Users\\joshua.chen\\AppData\\Local\\pip\\Cache\\wheels\\1b\\42\\a0\\4c7343df5b629ec9c75655468dce7652b28026896b0209ba55\n",
      "  Running setup.py bdist_wheel for html5lib: started\n",
      "  Running setup.py bdist_wheel for html5lib: finished with status 'done'\n",
      "  Stored in directory: C:\\Users\\joshua.chen\\AppData\\Local\\pip\\Cache\\wheels\\6f\\85\\6c\\56b8e1292c6214c4eb73b9dda50f53e8e977bf65989373c962\n",
      "  Running setup.py bdist_wheel for markdown: started\n",
      "  Running setup.py bdist_wheel for markdown: finished with status 'done'\n",
      "  Stored in directory: C:\\Users\\joshua.chen\\AppData\\Local\\pip\\Cache\\wheels\\b9\\4f\\6c\\f4c1c5207c1d0eeaaf7005f7f736620c6ded6617c9d9b94096\n",
      "Successfully built protobuf html5lib markdown\n",
      "Installing collected packages: backports.weakref, protobuf, html5lib, markdown, tensorflow\n",
      "  Found existing installation: html5lib 0.999\n",
      "    Uninstalling html5lib-0.999:\n",
      "      Successfully uninstalled html5lib-0.999\n",
      "Successfully installed backports.weakref-1.0rc1 html5lib-0.9999999 markdown-2.2.0 protobuf-3.3.0 tensorflow-1.2.0rc2\n"
     ]
    },
    {
     "name": "stderr",
     "output_type": "stream",
     "text": [
      "    DEPRECATION: Uninstalling a distutils installed project (html5lib) has been deprecated and will be removed in a future version. This is due to the fact that uninstalling a distutils project will only partially uninstall the project.\n"
     ]
    }
   ],
   "source": [
    "!pip install tensorflow\n"
   ]
  },
  {
   "cell_type": "code",
   "execution_count": 2,
   "metadata": {
    "collapsed": true
   },
   "outputs": [],
   "source": [
    "import numpy as np\n",
    "import tensorflow as tf\n",
    "import matplotlib.pyplot as plt"
   ]
  },
  {
   "cell_type": "markdown",
   "metadata": {},
   "source": [
    "# 下載MNIST資料集"
   ]
  },
  {
   "cell_type": "code",
   "execution_count": 4,
   "metadata": {},
   "outputs": [
    {
     "name": "stdout",
     "output_type": "stream",
     "text": [
      "Successfully downloaded train-images-idx3-ubyte.gz 9912422 bytes.\n",
      "Extracting MNIST_data/train-images-idx3-ubyte.gz\n",
      "Successfully downloaded train-labels-idx1-ubyte.gz 28881 bytes.\n",
      "Extracting MNIST_data/train-labels-idx1-ubyte.gz\n",
      "Successfully downloaded t10k-images-idx3-ubyte.gz 1648877 bytes.\n",
      "Extracting MNIST_data/t10k-images-idx3-ubyte.gz\n",
      "Successfully downloaded t10k-labels-idx1-ubyte.gz 4542 bytes.\n",
      "Extracting MNIST_data/t10k-labels-idx1-ubyte.gz\n"
     ]
    }
   ],
   "source": [
    "from tensorflow.examples.tutorials.mnist import input_data\n",
    "mnist = input_data.read_data_sets(\"MNIST_data/\", one_hot=True)"
   ]
  },
  {
   "cell_type": "code",
   "execution_count": 8,
   "metadata": {},
   "outputs": [
    {
     "name": "stdout",
     "output_type": "stream",
     "text": [
      "<class 'tensorflow.contrib.learn.python.learn.datasets.base.Datasets'>\n",
      "55000\n",
      "5000\n",
      "10000\n"
     ]
    }
   ],
   "source": [
    "print (type(mnist))\n",
    "print (mnist.train.num_examples)\n",
    "print (mnist.validation.num_examples)\n",
    "print (mnist.test.num_examples)"
   ]
  },
  {
   "cell_type": "code",
   "execution_count": 12,
   "metadata": {},
   "outputs": [
    {
     "name": "stdout",
     "output_type": "stream",
     "text": [
      " train_img 的 type : <class 'numpy.ndarray'>\n",
      " train_img 的 dimension : (55000, 784)\n",
      " train_label 的 type : <class 'numpy.ndarray'>\n",
      " train_label 的 dimension : (55000, 10)\n",
      " test_img 的 type : <class 'numpy.ndarray'>\n",
      " test_img 的 dimension : (10000, 784)\n",
      " test_label 的 type : <class 'numpy.ndarray'>\n",
      " test_label 的 dimension : (10000, 10)\n"
     ]
    }
   ],
   "source": [
    "train_img = mnist.train.images\n",
    "train_label = mnist.train.labels\n",
    "test_img = mnist.test.images\n",
    "test_label = mnist.test.labels\n",
    "#image的shape為784，因為是28*28像素，label的shape是10代表0~9\n",
    "print(\" train_img 的 type : {}\" .format(type(train_img)))\n",
    "print(\" train_img 的 dimension : {}\" .format(train_img.shape))\n",
    "print(\" train_label 的 type : %s\" % (type(train_label)))\n",
    "print(\" train_label 的 dimension : %s\" % (train_label.shape,))\n",
    "print(\" test_img 的 type : %s\" % (type(test_img)))\n",
    "print(\" test_img 的 dimension : %s\" % (test_img.shape,))\n",
    "print(\" test_label 的 type : %s\" % (type(test_label)))\n",
    "print(\" test_label 的 dimension : %s\" % (test_label.shape,))"
   ]
  },
  {
   "cell_type": "code",
   "execution_count": 13,
   "metadata": {},
   "outputs": [
    {
     "data": {
      "image/png": "[encoded data removed]",
      "text/plain": [
       "<matplotlib.figure.Figure at 0x1b2d5d799b0>"
      ]
     },
     "metadata": {},
     "output_type": "display_data"
    },
    {
     "data": {
      "image/png": "[encoded data removed]",
      "text/plain": [
       "<matplotlib.figure.Figure at 0x1b2d5daf668>"
      ]
     },
     "metadata": {},
     "output_type": "display_data"
    },
    {
     "data": {
      "image/png": "[encoded data removed]",
      "text/plain": [
       "<matplotlib.figure.Figure at 0x1b2d0d40320>"
      ]
     },
     "metadata": {},
     "output_type": "display_data"
    }
   ],
   "source": [
    "nsample = 1\n",
    "randidx = np.random.randint(train_img.shape[0], size=nsample)\n",
    "for i in [0, 1, 2]:\n",
    "    curr_img   = np.reshape(train_img[i, :], (28, 28)) # 28 by 28 matrix \n",
    "    curr_label = np.argmax(train_label[i, :] ) # Label\n",
    "    plt.matshow(curr_img, cmap=plt.get_cmap('gray'))\n",
    "    plt.title(\"\" + str(i + 1) + \"th Training Data \" \n",
    "              + \"Label is \" + str(curr_label))"
   ]
  }
 ],
 "metadata": {
  "kernelspec": {
   "display_name": "Python 3",
   "language": "python",
   "name": "python3"
  },
  "language_info": {
   "codemirror_mode": {
    "name": "ipython",
    "version": 3
   },
   "file_extension": ".py",
   "mimetype": "text/x-python",
   "name": "python",
   "nbconvert_exporter": "python",
   "pygments_lexer": "ipython3",
   "version": "3.6.1"
  }
 },
 "nbformat": 4,
 "nbformat_minor": 2
}
