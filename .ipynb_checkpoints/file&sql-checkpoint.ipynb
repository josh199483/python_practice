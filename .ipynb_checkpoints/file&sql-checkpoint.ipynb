{
 "cells": [
  {
   "cell_type": "code",
   "execution_count": 1,
   "metadata": {},
   "outputs": [],
   "source": [
    "import os\n",
    "\n",
    "\n"
   ]
  },
  {
   "cell_type": "code",
   "execution_count": 6,
   "metadata": {
    "collapsed": true
   },
   "outputs": [],
   "source": [
    "dir = \"mydir\"\n",
    "if not os.path.exists(dir):\n",
    "    os.mkdir(dir)\n",
    "else:\n",
    "    print(dir+'already exists!')"
   ]
  },
  {
   "cell_type": "code",
   "execution_count": 7,
   "metadata": {},
   "outputs": [],
   "source": [
    "if os.path.exists(dir):\n",
    "    os.rmdir(dir)             #刪除該目錄\n",
    "else:\n",
    "    print(dir,'not exists!')"
   ]
  },
  {
   "cell_type": "code",
   "execution_count": 4,
   "metadata": {},
   "outputs": [
    {
     "name": "stdout",
     "output_type": "stream",
     "text": [
      "路徑: git\n",
      "目錄串列: ['repo']\n",
      "檔案串列 []\n",
      "路徑: git\\repo\n",
      "目錄串列: ['.git']\n",
      "檔案串列 ['aaa', 'bbb', 'ccc']\n",
      "路徑: git\\repo\\.git\n",
      "目錄串列: ['hooks', 'info', 'logs', 'objects', 'refs']\n",
      "檔案串列 ['COMMIT_EDITMSG', 'config', 'description', 'FETCH_HEAD', 'HEAD', 'index', 'ORIG_HEAD']\n",
      "路徑: git\\repo\\.git\\hooks\n",
      "目錄串列: []\n",
      "檔案串列 ['applypatch-msg.sample', 'commit-msg.sample', 'post-update.sample', 'pre-applypatch.sample', 'pre-commit.sample', 'pre-push.sample', 'pre-rebase.sample', 'pre-receive.sample', 'prepare-commit-msg.sample', 'update.sample']\n",
      "路徑: git\\repo\\.git\\info\n",
      "目錄串列: []\n",
      "檔案串列 ['exclude']\n",
      "路徑: git\\repo\\.git\\logs\n",
      "目錄串列: ['refs']\n",
      "檔案串列 ['HEAD']\n",
      "路徑: git\\repo\\.git\\logs\\refs\n",
      "目錄串列: ['heads']\n",
      "檔案串列 []\n",
      "路徑: git\\repo\\.git\\logs\\refs\\heads\n",
      "目錄串列: []\n",
      "檔案串列 ['master']\n",
      "路徑: git\\repo\\.git\\objects\n",
      "目錄串列: ['01', '10', '12', '19', '21', '25', '28', '29', '32', '33', '34', '37', '40', '4e', '58', '5c', '68', '73', '7a', '80', '85', '89', '8b', '8d', '90', '92', '99', '9d', '9f', 'a7', 'aa', 'b2', 'c6', 'ce', 'd6', 'e6', 'fd', 'ff', 'info', 'pack']\n",
      "檔案串列 []\n",
      "路徑: git\\repo\\.git\\objects\\01\n",
      "目錄串列: []\n",
      "檔案串列 ['a00b7c361fa7a55f5a89360c02f13613048a76', 'de759f453fb29dcf0a64cb03917c9b863d3093']\n",
      "路徑: git\\repo\\.git\\objects\\10\n",
      "目錄串列: []\n",
      "檔案串列 ['30dc999f6aa264bf7b7d56789c334d75296f76']\n",
      "路徑: git\\repo\\.git\\objects\\12\n",
      "目錄串列: []\n",
      "檔案串列 ['d4ca000054e0edfc7cad594480ee9901bacf6c']\n",
      "路徑: git\\repo\\.git\\objects\\19\n",
      "目錄串列: []\n",
      "檔案串列 ['0a18037c64c43e6b11489df4bf0b9eb6d2c9bf']\n",
      "路徑: git\\repo\\.git\\objects\\21\n",
      "目錄串列: []\n",
      "檔案串列 ['0e12ce77d8c8f8b08a06551d65fcab64a483dc']\n",
      "路徑: git\\repo\\.git\\objects\\25\n",
      "目錄串列: []\n",
      "檔案串列 ['9b24152b284e29e86afadf714ddc3c2aa8dfe8']\n",
      "路徑: git\\repo\\.git\\objects\\28\n",
      "目錄串列: []\n",
      "檔案串列 ['6c43097bb092672ae94392ee788451f90832a9']\n",
      "路徑: git\\repo\\.git\\objects\\29\n",
      "目錄串列: []\n",
      "檔案串列 ['6c71d654032c8dfa0f3f8404feb40f8537c080']\n",
      "路徑: git\\repo\\.git\\objects\\32\n",
      "目錄串列: []\n",
      "檔案串列 ['2dbf95fac63a1a15db2e312c0d872f2df6107f']\n",
      "路徑: git\\repo\\.git\\objects\\33\n",
      "目錄串列: []\n",
      "檔案串列 ['2ebfd7766a856c54e5cfc17fc4319c8c8538a8']\n",
      "路徑: git\\repo\\.git\\objects\\34\n",
      "目錄串列: []\n",
      "檔案串列 ['b335f872c8995571df041cc7e0c4286267d16e']\n",
      "路徑: git\\repo\\.git\\objects\\37\n",
      "目錄串列: []\n",
      "檔案串列 ['03c2637dfc913616a1996c9106e29646bf057d']\n",
      "路徑: git\\repo\\.git\\objects\\40\n",
      "目錄串列: []\n",
      "檔案串列 ['6d55b18962bc36c70bc6d7179a360d95022af2']\n",
      "路徑: git\\repo\\.git\\objects\\4e\n",
      "目錄串列: []\n",
      "檔案串列 ['c54ea9da26ea243c9d27dba86d08b55a706265']\n",
      "路徑: git\\repo\\.git\\objects\\58\n",
      "目錄串列: []\n",
      "檔案串列 ['b15864540c75226ec47babb53d7928c1151efd']\n",
      "路徑: git\\repo\\.git\\objects\\5c\n",
      "目錄串列: []\n",
      "檔案串列 ['d5caf031b28dc9b4db7ad68afd4a8cd5f1a24a']\n",
      "路徑: git\\repo\\.git\\objects\\68\n",
      "目錄串列: []\n",
      "檔案串列 ['31535feed3ac7132d47148199d96f59c82b91a']\n",
      "路徑: git\\repo\\.git\\objects\\73\n",
      "目錄串列: []\n",
      "檔案串列 ['427196f8a45b3003a65b88f7616c0fd084e142']\n",
      "路徑: git\\repo\\.git\\objects\\7a\n",
      "目錄串列: []\n",
      "檔案串列 ['7be8b484dee0cc450f3f1937f874351b17dbab', 'ac1cf69f14eaea318a4028ea5cc64758c5cd27']\n",
      "路徑: git\\repo\\.git\\objects\\80\n",
      "目錄串列: []\n",
      "檔案串列 ['311962b19e5c883b458189c620079c08a4a167']\n",
      "路徑: git\\repo\\.git\\objects\\85\n",
      "目錄串列: []\n",
      "檔案串列 ['c0e42377b929334ff7b7df4f34b99ffb43fef6']\n",
      "路徑: git\\repo\\.git\\objects\\89\n",
      "目錄串列: []\n",
      "檔案串列 ['30461cba9b3c30c9d7d42031d70d61ac1bca9c']\n",
      "路徑: git\\repo\\.git\\objects\\8b\n",
      "目錄串列: []\n",
      "檔案串列 ['7b9818b04eddbbf0d85e0a6dcfadeb7572c18a']\n",
      "路徑: git\\repo\\.git\\objects\\8d\n",
      "目錄串列: []\n",
      "檔案串列 ['38505c168687ee1b42c6b49f30d45468ab5638']\n",
      "路徑: git\\repo\\.git\\objects\\90\n",
      "目錄串列: []\n",
      "檔案串列 ['0a36afc74d5ee731eee73ba5547ad4d6639bcc']\n",
      "路徑: git\\repo\\.git\\objects\\92\n",
      "目錄串列: []\n",
      "檔案串列 ['13a790fde81e2f928175351d11daf307bcd425']\n",
      "路徑: git\\repo\\.git\\objects\\99\n",
      "目錄串列: []\n",
      "檔案串列 ['2bc1218a84696fbadb835448a057a9c61f105c']\n",
      "路徑: git\\repo\\.git\\objects\\9d\n",
      "目錄串列: []\n",
      "檔案串列 ['aeafb9864cf43055ae93beb0afd6c7d144bfa4']\n",
      "路徑: git\\repo\\.git\\objects\\9f\n",
      "目錄串列: []\n",
      "檔案串列 ['3b1bc4b0a13a15d8b0c88c2b4cb3b7bb416546']\n",
      "路徑: git\\repo\\.git\\objects\\a7\n",
      "目錄串列: []\n",
      "檔案串列 ['7fd3db3afc397be4c8a50eaf032346ad719628']\n",
      "路徑: git\\repo\\.git\\objects\\aa\n",
      "目錄串列: []\n",
      "檔案串列 ['664e605c6f4f959f5efd773c919de2e58e88ae']\n",
      "路徑: git\\repo\\.git\\objects\\b2\n",
      "目錄串列: []\n",
      "檔案串列 ['230c1bdcfdf7ca5164ba7bc7531332207c361e']\n",
      "路徑: git\\repo\\.git\\objects\\c6\n",
      "目錄串列: []\n",
      "檔案串列 ['acf9f68730044b7ceb56b47964f3e3f2236fb7']\n",
      "路徑: git\\repo\\.git\\objects\\ce\n",
      "目錄串列: []\n",
      "檔案串列 ['8c77db7f732ddc56661bc5f5cae2e1198978b1']\n",
      "路徑: git\\repo\\.git\\objects\\d6\n",
      "目錄串列: []\n",
      "檔案串列 ['e3b596522f1f9fd26eecfc7bb4f42b15e4998c']\n",
      "路徑: git\\repo\\.git\\objects\\e6\n",
      "目錄串列: []\n",
      "檔案串列 ['9de29bb2d1d6434b8b29ae775ad8c2e48c5391']\n",
      "路徑: git\\repo\\.git\\objects\\fd\n",
      "目錄串列: []\n",
      "檔案串列 ['79668a6e2056e0016416d0861e52f7fc18d066']\n",
      "路徑: git\\repo\\.git\\objects\\ff\n",
      "目錄串列: []\n",
      "檔案串列 ['b8cee1f200156c582f578ef4cba20b3a92a7c8']\n",
      "路徑: git\\repo\\.git\\objects\\info\n",
      "目錄串列: []\n",
      "檔案串列 []\n",
      "路徑: git\\repo\\.git\\objects\\pack\n",
      "目錄串列: []\n",
      "檔案串列 []\n",
      "路徑: git\\repo\\.git\\refs\n",
      "目錄串列: ['heads', 'tags']\n",
      "檔案串列 []\n",
      "路徑: git\\repo\\.git\\refs\\heads\n",
      "目錄串列: []\n",
      "檔案串列 ['master']\n",
      "路徑: git\\repo\\.git\\refs\\tags\n",
      "目錄串列: []\n",
      "檔案串列 []\n"
     ]
    }
   ],
   "source": [
    "cur_path=os.path.dirname('git/')\n",
    "sample=os.walk(cur_path)\n",
    "for dirname,subdir,files in sample:\n",
    "    print('路徑:',dirname)\n",
    "    print('目錄串列:',subdir)\n",
    "    print('檔案串列',files)"
   ]
  },
  {
   "cell_type": "code",
   "execution_count": 5,
   "metadata": {
    "collapsed": true
   },
   "outputs": [],
   "source": [
    "context='''\n",
    "this is a test about \n",
    "writing a text to a file \n",
    "'''\n",
    "f = open('file1.txt','w')\n",
    "f.write(context)\n",
    "f.close()\n"
   ]
  },
  {
   "cell_type": "code",
   "execution_count": 10,
   "metadata": {},
   "outputs": [
    {
     "name": "stdout",
     "output_type": "stream",
     "text": [
      "\n",
      "this is a test about \n",
      "writing a text to a file \n"
     ]
    }
   ],
   "source": [
    "f  = open('file1.txt','r')\n",
    "for line in f:\n",
    "    print(line,end='')\n",
    "f.close()    "
   ]
  },
  {
   "cell_type": "code",
   "execution_count": 1,
   "metadata": {
    "collapsed": true
   },
   "outputs": [],
   "source": [
    "import sqlite3"
   ]
  },
  {
   "cell_type": "code",
   "execution_count": 2,
   "metadata": {
    "collapsed": true
   },
   "outputs": [],
   "source": [
    "conn = sqlite3.connect('test.sqlite')\n",
    "sqlstr = 'create table \"table01\" (\"num\" integer primary key not null,\"tel\" text)'\n",
    "conn.execute(sqlstr)\n",
    "conn.commit()"
   ]
  },
  {
   "cell_type": "code",
   "execution_count": 3,
   "metadata": {
    "collapsed": true
   },
   "outputs": [],
   "source": [
    "conn.close()"
   ]
  }
 ],
 "metadata": {
  "anaconda-cloud": {},
  "kernelspec": {
   "display_name": "Python 3",
   "language": "python",
   "name": "python3"
  },
  "language_info": {
   "codemirror_mode": {
    "name": "ipython",
    "version": 3
   },
   "file_extension": ".py",
   "mimetype": "text/x-python",
   "name": "python",
   "nbconvert_exporter": "python",
   "pygments_lexer": "ipython3",
   "version": "3.6.1"
  }
 },
 "nbformat": 4,
 "nbformat_minor": 1
}
