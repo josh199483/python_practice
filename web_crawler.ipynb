{
 "cells": [
  {
   "cell_type": "code",
   "execution_count": 1,
   "metadata": {},
   "outputs": [
    {
     "name": "stdout",
     "output_type": "stream",
     "text": [
      "Requirement already satisfied: beautifulsoup4 in c:\\users\\owner\\anaconda3\\lib\\site-packages\n"
     ]
    }
   ],
   "source": [
    "!pip install beautifulsoup4"
   ]
  },
  {
   "cell_type": "code",
   "execution_count": 2,
   "metadata": {
    "collapsed": true
   },
   "outputs": [],
   "source": [
    "from bs4 import BeautifulSoup\n",
    "from urllib.request import urlopen"
   ]
  },
  {
   "cell_type": "code",
   "execution_count": 16,
   "metadata": {
    "collapsed": true
   },
   "outputs": [],
   "source": [
    "import re"
   ]
  },
  {
   "cell_type": "code",
   "execution_count": 6,
   "metadata": {
    "scrolled": true
   },
   "outputs": [
    {
     "name": "stdout",
     "output_type": "stream",
     "text": [
      "<class 'str'>\n"
     ]
    }
   ],
   "source": [
    "html = urlopen(\"https://morvanzhou.github.io/static/scraping/basic-structure.html\").read().decode('utf-8')\n",
    "# 目前抓下來的資料都是字串\n",
    "print(html)"
   ]
  },
  {
   "cell_type": "code",
   "execution_count": 5,
   "metadata": {},
   "outputs": [
    {
     "name": "stdout",
     "output_type": "stream",
     "text": [
      "<!DOCTYPE html>\n",
      "<html lang=\"cn\">\n",
      "<head>\n",
      "<meta charset=\"utf-8\"/>\n",
      "<title>Scraping tutorial 1 | 莫烦Python</title>\n",
      "<link href=\"https://morvanzhou.github.io/static/img/description/tab_icon.png\" rel=\"icon\"/>\n",
      "</head>\n",
      "<body>\n",
      "<h1>爬虫测试1</h1>\n",
      "<p>\n",
      "\t\t这是一个在 <a href=\"https://morvanzhou.github.io/\">莫烦Python</a>\n",
      "<a href=\"https://morvanzhou.github.io/tutorials/scraping\">爬虫教程</a> 中的简单测试.\n",
      "\t</p>\n",
      "</body>\n",
      "</html>\n"
     ]
    }
   ],
   "source": [
    "# 要透過BeautifulSoup來做解析，這邊是用lxml的方式來當作parser\n",
    "soup = BeautifulSoup(html, features='lxml')\n",
    "print(soup)"
   ]
  },
  {
   "cell_type": "code",
   "execution_count": 7,
   "metadata": {
    "scrolled": true
   },
   "outputs": [
    {
     "name": "stdout",
     "output_type": "stream",
     "text": [
      "[<a href=\"https://morvanzhou.github.io/\">莫烦Python</a>, <a href=\"https://morvanzhou.github.io/tutorials/scraping\">爬虫教程</a>]\n",
      "\n",
      " ['https://morvanzhou.github.io/', 'https://morvanzhou.github.io/tutorials/scraping']\n"
     ]
    }
   ],
   "source": [
    "all_href = soup.find_all('a')\n",
    "print(all_href)\n",
    "all_href = [l['href'] for l in all_href]\n",
    "print('\\n', all_href)"
   ]
  },
  {
   "cell_type": "code",
   "execution_count": null,
   "metadata": {
    "collapsed": true
   },
   "outputs": [],
   "source": [
    "# 練習用css的class來取值"
   ]
  },
  {
   "cell_type": "code",
   "execution_count": 8,
   "metadata": {
    "scrolled": true
   },
   "outputs": [
    {
     "name": "stdout",
     "output_type": "stream",
     "text": [
      "<!DOCTYPE html>\n",
      "<html lang=\"cn\">\n",
      "<head>\n",
      "\t<meta charset=\"UTF-8\">\n",
      "\t<title>爬虫练习 列表 class | 莫烦 Python</title>\n",
      "\t<style>\n",
      "\t.jan {\n",
      "\t\tbackground-color: yellow;\n",
      "\t}\n",
      "\t.feb {\n",
      "\t\tfont-size: 25px;\n",
      "\t}\n",
      "\t.month {\n",
      "\t\tcolor: red;\n",
      "\t}\n",
      "\t</style>\n",
      "</head>\n",
      "\n",
      "<body>\n",
      "\n",
      "<h1>列表 爬虫练习</h1>\n",
      "\n",
      "<p>这是一个在 <a href=\"https://morvanzhou.github.io/\" >莫烦 Python</a> 的 <a href=\"https://morvanzhou.github.io/tutorials/scraping\" >爬虫教程</a>\n",
      "\t里无敌简单的网页, 所有的 code 让你一目了然, 清晰无比.</p>\n",
      "\n",
      "<ul>\n",
      "\t<li class=\"month\">一月</li>\n",
      "\t<ul class=\"jan\">\n",
      "\t\t<li>一月一号</li>\n",
      "\t\t<li>一月二号</li>\n",
      "\t\t<li>一月三号</li>\n",
      "\t</ul>\n",
      "\t<li class=\"feb month\">二月</li>\n",
      "\t<li class=\"month\">三月</li>\n",
      "\t<li class=\"month\">四月</li>\n",
      "\t<li class=\"month\">五月</li>\n",
      "</ul>\n",
      "\n",
      "</body>\n",
      "</html>\n"
     ]
    }
   ],
   "source": [
    "html = urlopen(\"https://morvanzhou.github.io/static/scraping/list.html\").read().decode('utf-8')\n",
    "print(html)\n"
   ]
  },
  {
   "cell_type": "code",
   "execution_count": 15,
   "metadata": {
    "scrolled": false
   },
   "outputs": [
    {
     "name": "stdout",
     "output_type": "stream",
     "text": [
      "一月\n",
      "二月\n",
      "三月\n",
      "四月\n",
      "五月\n",
      "[<ul class=\"jan\">\n",
      "<li>一月一号</li>\n",
      "<li>一月二号</li>\n",
      "<li>一月三号</li>\n",
      "</ul>]\n",
      "[<li>一月一号</li>, <li>一月二号</li>, <li>一月三号</li>]\n",
      "一月一号\n",
      "一月二号\n",
      "一月三号\n"
     ]
    }
   ],
   "source": [
    "soup = BeautifulSoup(html, features='lxml')\n",
    "month = soup.find_all('li', {\"class\": \"month\"})\n",
    "for m in month:\n",
    "    print(m.get_text())\n",
    "\n",
    "day = soup.find_all('ul',{'class':'jan'})\n",
    "print(day)\n",
    "day = soup.select('.jan > li')\n",
    "print(day)\n",
    "for i in day:\n",
    "    print(i.text)"
   ]
  },
  {
   "cell_type": "code",
   "execution_count": null,
   "metadata": {
    "collapsed": true
   },
   "outputs": [],
   "source": [
    "# 練習正則表達式"
   ]
  },
  {
   "cell_type": "code",
   "execution_count": 18,
   "metadata": {
    "scrolled": true
   },
   "outputs": [
    {
     "name": "stdout",
     "output_type": "stream",
     "text": [
      "<!DOCTYPE html>\n",
      "<html lang=\"cn\">\n",
      "<head>\n",
      "\t<meta charset=\"UTF-8\">\n",
      "\t<title>爬虫练习 表格 table | 莫烦 Python</title>\n",
      "\n",
      "\t<style>\n",
      "\timg {\n",
      "\t\twidth: 250px;\n",
      "\t}\n",
      "\ttable{\n",
      "\t\twidth:50%;\n",
      "\t}\n",
      "\ttd{\n",
      "\t\tmargin:10px;\n",
      "\t\tpadding:15px;\n",
      "\t}\n",
      "\t</style>\n",
      "</head>\n",
      "<body>\n",
      "\n",
      "<h1>表格 爬虫练习</h1>\n",
      "\n",
      "<p>这是一个在 <a href=\"https://morvanzhou.github.io/\" >莫烦 Python</a> 的 <a href=\"https://morvanzhou.github.io/tutorials/scraping\" >爬虫教程</a>\n",
      "\t里无敌简单的网页, 所有的 code 让你一目了然, 清晰无比.</p>\n",
      "\n",
      "<br>\n",
      "<table id=\"course-list\">\n",
      "\t<tr>\n",
      "\t\t<th>\n",
      "\t\t\t分类\n",
      "\t\t</th><th>\n",
      "\t\t\t名字\n",
      "\t\t</th><th>\n",
      "\t\t\t时长\n",
      "\t\t</th><th>\n",
      "\t\t\t预览\n",
      "\t\t</th>\n",
      "\t</tr>\n",
      "\n",
      "\t<tr id=\"course1\" class=\"ml\">\n",
      "\t\t<td>\n",
      "\t\t\t机器学习\n",
      "\t\t</td><td>\n",
      "\t\t\t<a href=\"https://morvanzhou.github.io/tutorials/machine-learning/tensorflow/\">\n",
      "\t\t\t\tTensorflow 神经网络</a>\n",
      "\t\t</td><td>\n",
      "\t\t\t2:00\n",
      "\t\t</td><td>\n",
      "\t\t\t<img src=\"https://morvanzhou.github.io/static/img/course_cover/tf.jpg\">\n",
      "\t\t</td>\n",
      "\t</tr>\n",
      "\n",
      "\t<tr id=\"course2\" class=\"ml\">\n",
      "\t\t<td>\n",
      "\t\t\t机器学习\n",
      "\t\t</td><td>\n",
      "\t\t\t<a href=\"https://morvanzhou.github.io/tutorials/machine-learning/reinforcement-learning/\">\n",
      "\t\t\t\t强化学习</a>\n",
      "\t\t</td><td>\n",
      "\t\t\t5:00\n",
      "\t\t</td><td>\n",
      "\t\t\t<img src=\"https://morvanzhou.github.io/static/img/course_cover/rl.jpg\">\n",
      "\t\t</td>\n",
      "\t</tr>\n",
      "\n",
      "\t<tr id=\"course3\" class=\"data\">\n",
      "\t\t<td>\n",
      "\t\t\t数据处理\n",
      "\t\t</td><td>\n",
      "\t\t\t<a href=\"https://morvanzhou.github.io/tutorials/data-manipulation/scraping/\">\n",
      "\t\t\t\t爬虫</a>\n",
      "\t\t</td><td>\n",
      "\t\t\t3:00\n",
      "\t\t</td><td>\n",
      "\t\t\t<img src=\"https://morvanzhou.github.io/static/img/course_cover/scraping.jpg\">\n",
      "\t\t</td>\n",
      "\t</tr>\n",
      "\n",
      "</table>\n",
      "\n",
      "</body>\n",
      "</html>\n"
     ]
    }
   ],
   "source": [
    "# if has Chinese, apply decode()\n",
    "html = urlopen(\"https://morvanzhou.github.io/static/scraping/table.html\").read().decode('utf-8')\n",
    "print(html)"
   ]
  },
  {
   "cell_type": "code",
   "execution_count": 19,
   "metadata": {},
   "outputs": [
    {
     "name": "stdout",
     "output_type": "stream",
     "text": [
      "https://morvanzhou.github.io/static/img/course_cover/tf.jpg\n",
      "https://morvanzhou.github.io/static/img/course_cover/rl.jpg\n",
      "https://morvanzhou.github.io/static/img/course_cover/scraping.jpg\n"
     ]
    }
   ],
   "source": [
    "soup = BeautifulSoup(html, features='lxml')\n",
    "\n",
    "img_links = soup.find_all(\"img\", {\"src\": re.compile('.*?\\.jpg')})\n",
    "for link in img_links:\n",
    "    print(link['src'])"
   ]
  },
  {
   "cell_type": "code",
   "execution_count": 20,
   "metadata": {},
   "outputs": [
    {
     "name": "stdout",
     "output_type": "stream",
     "text": [
      "https://morvanzhou.github.io/\n",
      "https://morvanzhou.github.io/tutorials/scraping\n",
      "https://morvanzhou.github.io/tutorials/machine-learning/tensorflow/\n",
      "https://morvanzhou.github.io/tutorials/machine-learning/reinforcement-learning/\n",
      "https://morvanzhou.github.io/tutorials/data-manipulation/scraping/\n"
     ]
    }
   ],
   "source": [
    "course_links = soup.find_all('a', {'href': re.compile('https://morvan.*')})\n",
    "for link in course_links:\n",
    "    print(link['href'])"
   ]
  },
  {
   "cell_type": "code",
   "execution_count": 24,
   "metadata": {
    "scrolled": true
   },
   "outputs": [
    {
     "name": "stdout",
     "output_type": "stream",
     "text": [
      "0 网络爬虫     url:  /item/%E7%BD%91%E7%BB%9C%E7%88%AC%E8%99%AB/5162711\n",
      "[<a href=\"/item/%E4%B8%87%E7%BB%B4%E7%BD%91\" target=\"_blank\">万维网</a>, <a href=\"/item/%E8%A0%95%E8%99%AB\" target=\"_blank\">蠕虫</a>, <a href=\"/item/%E4%B8%87%E7%BB%B4%E7%BD%91\" target=\"_blank\">万维网</a>, <a href=\"/item/%E7%BD%91%E7%BB%9C\" target=\"_blank\">网络</a>, <a href=\"/item/%E4%B8%87%E7%BB%B4%E7%BD%91\" target=\"_blank\">万维网</a>, <a href=\"/item/%E6%90%9C%E7%B4%A2%E5%BC%95%E6%93%8E\" target=\"_blank\">搜索引擎</a>, <a href=\"/item/%E9%80%9A%E7%94%A8%E6%90%9C%E7%B4%A2%E5%BC%95%E6%93%8E\" target=\"_blank\">通用搜索引擎</a>, <a href=\"/item/%E7%BD%91%E7%BB%9C%E6%95%B0%E6%8D%AE\" target=\"_blank\">网络数据</a>, <a href=\"/item/%E4%B8%87%E7%BB%B4%E7%BD%91\" target=\"_blank\">万维网</a>, <a href=\"/item/%E7%BD%91%E7%BB%9C%E6%8A%80%E6%9C%AF\" target=\"_blank\">网络技术</a>, <a href=\"/item/%E9%80%9A%E7%94%A8%E6%90%9C%E7%B4%A2%E5%BC%95%E6%93%8E\" target=\"_blank\">通用搜索引擎</a>, <a href=\"/item/%E5%85%B3%E9%94%AE%E5%AD%97\" target=\"_blank\">关键字</a>, <a href=\"/item/%E4%B8%87%E7%BB%B4%E7%BD%91\" target=\"_blank\">万维网</a>, <a href=\"/item/%E6%90%9C%E7%B4%A2%E5%BC%95%E6%93%8E\" target=\"_blank\">搜索引擎</a>, <a href=\"/item/%E6%90%9C%E7%B4%A2%E7%AD%96%E7%95%A5\" target=\"_blank\">搜索策略</a>, <a href=\"/item/%E6%8E%92%E5%BA%8F%E7%AE%97%E6%B3%95\" target=\"_blank\">排序算法</a>, <a href=\"/item/%E6%90%9C%E7%B4%A2%E5%BC%95%E6%93%8E\" target=\"_blank\">搜索引擎</a>, <a href=\"/item/%E7%BD%91%E9%A1%B5%E6%8A%93%E5%8F%96\" target=\"_blank\">网页抓取</a>, <a href=\"/item/%E7%88%AC%E8%99%AB\" target=\"_blank\">爬虫</a>, <a href=\"/item/%E5%B9%BF%E5%BA%A6%E4%BC%98%E5%85%88%E6%90%9C%E7%B4%A2\" target=\"_blank\">广度优先搜索</a>, <a href=\"/item/%E5%B9%BF%E5%BA%A6%E4%BC%98%E5%85%88%E7%AD%96%E7%95%A5\" target=\"_blank\">广度优先策略</a>, <a href=\"/item/%E6%90%9C%E7%B4%A2%E7%AE%97%E6%B3%95\" target=\"_blank\">搜索算法</a>, <a href=\"/item/%E6%B7%B1%E5%BA%A6%E4%BC%98%E5%85%88%E7%AD%96%E7%95%A5\" target=\"_blank\">深度优先策略</a>, <a href=\"/item/%E7%BD%91%E7%BB%9C%E6%8B%93%E6%89%91\" target=\"_blank\">网络拓扑</a>, <a href=\"/item/%E9%80%92%E5%BD%92\" target=\"_blank\">递归</a>, <a href=\"/item/%E4%B8%BB%E6%9C%BA\" target=\"_blank\">主机</a>, <a href=\"/item/%E9%94%9A%E6%96%87%E6%9C%AC\" target=\"_blank\">锚文本</a>, <a href=\"/item/%E7%9F%A9%E9%98%B5\" target=\"_blank\">矩阵</a>, <a href=\"/item/%E8%B6%85%E6%96%87%E6%9C%AC\" target=\"_blank\">超文本</a>, <a href=\"/item/%E5%8A%A8%E6%80%81%E9%A1%B5%E9%9D%A2\" target=\"_blank\">动态页面</a>, <a href=\"/item/%E6%96%87%E6%9C%AC%E6%A3%80%E7%B4%A2\" target=\"_blank\">文本检索</a>, <a href=\"/item/%E6%95%B0%E6%8D%AE%E6%8A%BD%E5%8F%96\" target=\"_blank\">数据抽取</a>, <a href=\"/item/%E6%95%B0%E6%8D%AE%E6%8C%96%E6%8E%98\" target=\"_blank\">数据挖掘</a>, <a href=\"/item/%E8%B6%85%E9%93%BE%E6%8E%A5\" target=\"_blank\">超链接</a>, <a href=\"/item/%E6%95%B0%E6%8D%AE%E6%BA%90\" target=\"_blank\">数据源</a>, <a href=\"/item/%E6%96%87%E6%9C%AC%E6%A3%80%E7%B4%A2\" target=\"_blank\">文本检索</a>, <a href=\"/item/%E6%96%87%E6%9C%AC%E5%88%86%E6%9E%90\" target=\"_blank\">文本分析</a>, <a href=\"/item/%E6%90%9C%E7%B4%A2%E5%BC%95%E6%93%8E\" target=\"_blank\">搜索引擎</a>, <a href=\"/item/%E5%9E%83%E5%9C%BE%E9%82%AE%E4%BB%B6\" target=\"_blank\">垃圾邮件</a>, <a href=\"/item/%E8%B6%85%E9%93%BE%E6%8E%A5\" target=\"_blank\">超链接</a>, <a href=\"/item/%E5%8A%A8%E6%80%81%E9%A1%B5%E9%9D%A2\" target=\"_blank\">动态页面</a>, <a href=\"/item/%E8%84%9A%E6%9C%AC%E8%AF%AD%E8%A8%80\" target=\"_blank\">脚本语言</a>, <a href=\"/item/%E7%88%B1%E5%BE%B7%E5%8D%8E\" target=\"_blank\">爱德华</a>, <a href=\"/item/%E6%90%9C%E7%B4%A2%E5%BC%95%E6%93%8E\" target=\"_blank\">搜索引擎</a>, <a href=\"/item/%E5%8A%B3%E4%BC%A6%E6%96%AF\" target=\"_blank\">劳伦斯</a>, <a href=\"/item/%E6%96%AF%E5%9D%A6%E7%A6%8F%E5%A4%A7%E5%AD%A6\" target=\"_blank\">斯坦福大学</a>, <a href=\"/item/%E4%B8%BB%E6%9C%BA\" target=\"_blank\">主机</a>, <a href=\"/item/%E5%B9%BF%E5%BA%A6%E4%BC%98%E5%85%88%E7%AD%96%E7%95%A5\" target=\"_blank\">广度优先策略</a>, <a href=\"/item/%E8%BF%AD%E4%BB%A3\" target=\"_blank\">迭代</a>, <a href=\"/item/%E9%9A%8F%E6%9C%BA%E7%A7%8D%E5%AD%90\" target=\"_blank\">随机种子</a>, <a href=\"/item/%E9%94%9A%E7%82%B9\" target=\"_blank\">锚点</a>, <a href=\"/item/%E8%B6%85%E6%96%87%E6%9C%AC\" target=\"_blank\">超文本</a>, <a href=\"/item/%E8%AF%AD%E4%B9%89%E7%BD%91%E7%BB%9C\" target=\"_blank\">语义网络</a>, <a href=\"/item/%E6%90%9C%E7%B4%A2%E5%BC%95%E6%93%8E\" target=\"_blank\">搜索引擎</a>, <a href=\"/item/%E8%B7%AF%E7%94%B1%E5%99%A8\" target=\"_blank\">路由器</a>, <a href=\"/item/%E7%BD%91%E7%BB%9C%E6%9C%8D%E5%8A%A1%E5%99%A8\" target=\"_blank\">网络服务器</a>, <a href=\"/item/%E7%BD%91%E7%BB%9C%E6%9C%8D%E5%8A%A1%E5%99%A8\" target=\"_blank\">网络服务器</a>, <a href=\"/item/%E7%B3%BB%E7%BB%9F%E8%AE%BE%E8%AE%A1\" target=\"_blank\">系统设计</a>, <a href=\"/item/%E6%90%9C%E7%B4%A2%E5%BC%95%E6%93%8E\" target=\"_blank\">搜索引擎</a>, <a href=\"/item/%E6%8E%92%E5%BA%8F%E7%AE%97%E6%B3%95\" target=\"_blank\">排序算法</a>, <a href=\"/item/%E5%9E%83%E5%9C%BE%E9%82%AE%E4%BB%B6\" target=\"_blank\">垃圾邮件</a>, <a href=\"/item/%E7%94%A8%E6%88%B7%E4%BB%A3%E7%90%86\" target=\"_blank\">用户代理</a>, <a href=\"/item/%E7%BD%91%E7%BB%9C%E6%9C%8D%E5%8A%A1%E5%99%A8\" target=\"_blank\">网络服务器</a>, <a href=\"/item/%E7%BD%91%E7%BB%9C%E7%AE%A1%E7%90%86%E5%91%98\" target=\"_blank\">网络管理员</a>, <a href=\"/item/%E7%BD%91%E7%BB%9C%E7%AE%A1%E7%90%86%E5%91%98\" target=\"_blank\">网络管理员</a>, <a href=\"/item/%E7%94%A8%E6%88%B7%E6%A0%87%E8%AF%86\" target=\"_blank\">用户标识</a>, <a href=\"/item/%E5%85%A8%E6%96%87%E7%B4%A2%E5%BC%95\" target=\"_blank\">全文索引</a>, <a href=\"/item/%E7%88%AC%E8%99%AB%E7%A8%8B%E5%BA%8F\" target=\"_blank\">爬虫程序</a>, <a href=\"/item/%E6%B7%B1%E5%BA%A6%E4%BC%98%E5%85%88%E7%AD%96%E7%95%A5\" target=\"_blank\">深度优先策略</a>, <a href=\"/item/%E7%BD%91%E7%BB%9C%E6%95%B0%E6%8D%AE\" target=\"_blank\">网络数据</a>, <a href=\"/item/%E4%B8%8B%E8%BD%BD%E8%80%85\" target=\"_blank\">下载者</a>, <a href=\"/item/%E6%89%B9%E5%A4%84%E7%90%86\" target=\"_blank\">批处理</a>, <a href=\"/item/%E7%BD%91%E7%BB%9C%E6%9C%8D%E5%8A%A1%E5%99%A8\" target=\"_blank\">网络服务器</a>, <a href=\"/item/%E4%BB%A3%E7%90%86%E6%9C%8D%E5%8A%A1%E5%99%A8\" target=\"_blank\">代理服务器</a>, <a href=\"/item/%E4%B8%BB%E6%9C%BA\" target=\"_blank\">主机</a>, <a href=\"/item/%E7%BD%91%E9%A1%B5%E6%8A%93%E5%8F%96\" target=\"_blank\">网页抓取</a>, <a href=\"/item/%E6%90%9C%E7%B4%A2%E5%BC%95%E6%93%8E\" target=\"_blank\">搜索引擎</a>, <a href=\"/item/%E7%BD%91%E7%BB%9C%E6%9C%8D%E5%8A%A1%E5%99%A8\" target=\"_blank\">网络服务器</a>, <a href=\"/item/%E9%95%9C%E5%83%8F\" target=\"_blank\">镜像</a>, <a href=\"/item/%E4%BA%92%E8%81%94%E7%BD%91%E6%A1%A3%E6%A1%88%E9%A6%86\" target=\"_blank\">互联网档案馆</a>, <a href=\"/item/%E7%BD%91%E7%BB%9C%E7%AB%99%E7%82%B9\" target=\"_blank\">网络站点</a>, <a href=\"/item/%E7%A6%BB%E7%BA%BF%E8%A7%82%E7%9C%8B\" target=\"_blank\">离线观看</a>, <a href=\"/item/%E9%95%9C%E5%83%8F\" target=\"_blank\">镜像</a>, <a href=\"/item/%E6%AD%A3%E5%88%99%E8%A1%A8%E8%BE%BE%E5%BC%8F\" target=\"_blank\">正则表达式</a>, <a href=\"/item/%E6%96%AF%E5%9D%A6%E7%A6%8F\" target=\"_blank\">斯坦福</a>, <a href=\"/item/%E6%90%9C%E7%B4%A2%E5%BC%95%E6%93%8E\" target=\"_blank\">搜索引擎</a>, <a href=\"/item/%E5%9B%BE%E5%BD%A2%E7%94%A8%E6%88%B7%E7%95%8C%E9%9D%A2\" target=\"_blank\">图形用户界面</a>, <a href=\"/item/%E5%BC%80%E6%94%BE%E6%BA%90%E4%BB%A3%E7%A0%81\" target=\"_blank\">开放源代码</a>, <a href=\"/item/%E6%8D%B7%E5%85%8B\" target=\"_blank\">捷克</a>, <a href=\"/item/%E5%88%86%E5%B8%83%E5%BC%8F%E6%90%9C%E7%B4%A2%E5%BC%95%E6%93%8E\" target=\"_blank\">分布式搜索引擎</a>, <a href=\"/item/%E5%BC%80%E6%94%BE%E6%BA%90%E4%BB%A3%E7%A0%81\" target=\"_blank\">开放源代码</a>, <a href=\"/item/%E8%B6%85%E9%93%BE%E6%8E%A5\" target=\"_blank\">超链接</a>]\n",
      "1 搜索引擎     url:  /item/%E6%90%9C%E7%B4%A2%E5%BC%95%E6%93%8E\n",
      "[<a href=\"/item/%E7%AD%96%E7%95%A5\" target=\"_blank\">策略</a>, <a href=\"/item/%E8%AE%A1%E7%AE%97%E6%9C%BA%E7%A8%8B%E5%BA%8F\" target=\"_blank\">计算机程序</a>, <a href=\"/item/%E4%BA%92%E8%81%94%E7%BD%91\" target=\"_blank\">互联网</a>, <a href=\"/item/%E4%BF%A1%E6%81%AF\" target=\"_blank\">信息</a>, <a href=\"/item/%E7%BB%84%E7%BB%87\" target=\"_blank\">组织</a>, <a href=\"/item/%E5%A4%84%E7%90%86\" target=\"_blank\">处理</a>, <a href=\"/item/%E6%A3%80%E7%B4%A2\" target=\"_blank\">检索</a>, <a href=\"/item/%E7%B3%BB%E7%BB%9F\" target=\"_blank\">系统</a>, <a href=\"/item/%E5%85%A8%E6%96%87%E7%B4%A2%E5%BC%95\" target=\"_blank\">全文索引</a>, <a href=\"/item/%E7%9B%AE%E5%BD%95%E7%B4%A2%E5%BC%95\" target=\"_blank\">目录索引</a>, <a href=\"/item/%E5%85%83%E6%90%9C%E7%B4%A2%E5%BC%95%E6%93%8E\" target=\"_blank\">元搜索引擎</a>, <a href=\"/item/%E5%9E%82%E7%9B%B4%E6%90%9C%E7%B4%A2%E5%BC%95%E6%93%8E\" target=\"_blank\">垂直搜索引擎</a>, <a href=\"/item/%E5%85%A8%E6%96%87%E7%B4%A2%E5%BC%95\" target=\"_blank\">全文索引</a>, <a href=\"/item/%E7%9B%AE%E5%BD%95%E7%B4%A2%E5%BC%95\" target=\"_blank\">目录索引</a>, <a href=\"/item/%E7%99%BE%E5%BA%A6\" target=\"_blank\">百度</a>, <a href=\"/item/%E8%B0%B7%E6%AD%8C\" target=\"_blank\">谷歌</a>, <a href=\"/item/%E7%B4%A2%E5%BC%95%E5%99%A8\" target=\"_blank\">索引器</a>, <a href=\"/item/%E7%94%A8%E6%88%B7%E6%8E%A5%E5%8F%A3\" target=\"_blank\">用户接口</a>, <a href=\"/item/%E4%BA%92%E8%81%94%E7%BD%91\" target=\"_blank\">互联网</a>, <a href=\"/item/%E6%96%87%E6%A1%A3\" target=\"_blank\">文档</a>, <a href=\"/item/%E6%95%B0%E6%8D%AE%E5%BA%93\" target=\"_blank\">数据库</a>, <a href=\"/item/%E4%BF%A1%E6%81%AF%E6%90%9C%E9%9B%86\" target=\"_blank\">信息搜集</a>, <a href=\"/item/%E6%95%B0%E6%8D%AE%E5%BA%93\" target=\"_blank\">数据库</a>, <a href=\"/item/%E6%95%B0%E6%8D%AE%E5%BA%93\" target=\"_blank\">数据库</a>, <a href=\"/item/%E5%A4%96%E9%83%A8%E9%93%BE%E6%8E%A5\" target=\"_blank\">外部链接</a>, <a href=\"/item/%E7%BD%91%E7%AB%99%E6%94%B6%E5%BD%95\" target=\"_blank\">网站收录</a>, <a href=\"/item/%E7%BD%91%E7%AB%99\" target=\"_blank\">网站</a>, <a href=\"/item/%E7%9B%AE%E5%BD%95%E7%B4%A2%E5%BC%95\" target=\"_blank\">目录索引</a>, <a href=\"/item/%E6%A3%80%E7%B4%A2\" target=\"_blank\">检索</a>, <a href=\"/item/%E5%9B%A0%E7%89%B9%E7%BD%91\" target=\"_blank\">因特网</a>, <a href=\"/item/%E5%9B%A0%E7%89%B9%E7%BD%91\" target=\"_blank\">因特网</a>, <a href=\"/item/%E5%85%B3%E9%94%AE%E8%AF%8D\" target=\"_blank\">关键词</a>, <a href=\"/item/%E6%90%9C%E7%B4%A2%E5%BC%95%E6%93%8E%E6%94%B6%E5%BD%95\" target=\"_blank\">搜索引擎收录</a>, <a href=\"/item/%E5%BC%95%E6%93%8E\" target=\"_blank\">引擎</a>, <a href=\"/item/%E6%90%9C%E7%B4%A2%E6%A8%A1%E5%BC%8F\" target=\"_blank\">搜索模式</a>, <a href=\"/item/%E6%90%9C%E7%8B%90\" target=\"_blank\">搜狐</a>, <a href=\"/item/%E6%96%B0%E6%B5%AA\" target=\"_blank\">新浪</a>, <a href=\"/item/%E7%BD%91%E6%98%93\" target=\"_blank\">网易</a>, <a href=\"/item/%E7%BD%91%E9%A1%B5\" target=\"_blank\">网页</a>, <a href=\"/item/%E5%85%83%E6%90%9C%E7%B4%A2%E5%BC%95%E6%93%8E\" target=\"_blank\">元搜索引擎</a>, <a href=\"/item/%E7%94%A8%E6%88%B7\" target=\"_blank\">用户</a>, <a href=\"/item/%E6%90%9C%E7%B4%A2%E5%BC%95%E6%93%8E\" target=\"_blank\">搜索引擎</a>, <a href=\"/item/%E5%9E%82%E7%9B%B4%E6%90%9C%E7%B4%A2%E5%BC%95%E6%93%8E\" target=\"_blank\">垂直搜索引擎</a>, <a href=\"/item/%E5%9E%82%E7%9B%B4%E6%90%9C%E7%B4%A2\" target=\"_blank\">垂直搜索</a>, <a href=\"/item/%E6%9C%8D%E5%8A%A1\" target=\"_blank\">服务</a>, <a href=\"/item/%E5%88%86%E7%B1%BB%E7%9B%AE%E5%BD%95\" target=\"_blank\">分类目录</a>, <a href=\"/item/%E7%9B%AE%E5%BD%95%E7%B4%A2%E5%BC%95\" target=\"_blank\">目录索引</a>, <a href=\"/item/%E6%A3%80%E6%B5%8B\" target=\"_blank\">检测</a>, <a href=\"/item/%E7%BD%91%E7%AB%99\" target=\"_blank\">网站</a>, <a href=\"/item/%E4%B8%AD%E6%96%87%E5%88%86%E8%AF%8D\" target=\"_blank\">中文分词</a>, <a href=\"/item/%E4%BA%92%E8%81%94%E7%BD%91\" target=\"_blank\">互联网</a>, <a href=\"/item/%E9%9B%85%E8%99%8E\" target=\"_blank\">雅虎</a>, <a href=\"/item/%E5%8A%A0%E6%8B%BF%E5%A4%A7%E9%BA%A6%E5%90%89%E5%B0%94%E5%A4%A7%E5%AD%A6\" target=\"_blank\">加拿大麦吉尔大学</a>, <a href=\"/item/%E4%B8%87%E7%BB%B4%E7%BD%91\" target=\"_blank\">万维网</a>, <a href=\"/item/%E6%96%AF%E5%9D%A6%E7%A6%8F%E5%A4%A7%E5%AD%A6\" target=\"_blank\">斯坦福大学</a>, <a href=\"/item/%E7%BD%91%E7%AB%99\" target=\"_blank\">网站</a>, <a href=\"/item/%E6%96%AF%E5%9D%A6%E7%A6%8F%E5%A4%A7%E5%AD%A6\" target=\"_blank\">斯坦福大学</a>, <a href=\"/item/%E5%8D%9A%E5%A3%AB\" target=\"_blank\">博士</a>, <a href=\"/item/%E6%9D%A8%E8%87%B4%E8%BF%9C\" target=\"_blank\">杨致远</a>, <a href=\"/item/%E4%B8%96%E7%BA%AA\" target=\"_blank\">世纪</a>, <a href=\"/item/%E5%9B%A0%E7%89%B9%E7%BD%91\" target=\"_blank\">因特网</a>, <a href=\"/item/%E5%BD%A2%E5%BC%8F\" target=\"_blank\">形式</a>, <a href=\"/item/%E5%85%83%E6%90%9C%E7%B4%A2%E5%BC%95%E6%93%8E\" target=\"_blank\">元搜索引擎</a>, <a href=\"/item/%E8%AE%A1%E7%AE%97%E6%9C%BA\" target=\"_blank\">计算机</a>, <a href=\"/item/%E7%94%B5%E8%84%91\" target=\"_blank\">电脑</a>, <a href=\"/item/%E4%BF%A1%E6%81%AF%E6%8A%80%E6%9C%AF\" target=\"_blank\">信息技术</a>, <a href=\"/item/%E8%BD%AF%E4%BB%B6\" target=\"_blank\">软件</a>, <a href=\"/item/%E6%A3%80%E7%B4%A2\" target=\"_blank\">检索</a>, <a href=\"/item/%E8%8B%B9%E6%9E%9C\" target=\"_blank\">苹果</a>, <a href=\"/item/%E4%B8%AD%E5%8D%8E%E4%BA%BA%E6%B0%91%E5%85%B1%E5%92%8C%E5%9B%BD\" target=\"_blank\">中华人民共和国</a>, <a href=\"/item/%E7%BD%91%E6%A0%BC%E6%8A%80%E6%9C%AF\" target=\"_blank\">网格技术</a>, <a href=\"/item/%E7%BD%91%E7%BB%9C%E4%BF%A1%E6%81%AF%E8%B5%84%E6%BA%90\" target=\"_blank\">网络信息资源</a>, <a href=\"/item/%E5%85%A8%E7%90%83%E4%BF%A1%E6%81%AF%E7%BD%91%E6%A0%BC\" target=\"_blank\">全球信息网格</a>, <a href=\"/item/%E7%BD%91%E7%BB%9C\" target=\"_blank\">网络</a>, <a href=\"/item/%E6%96%AF%E5%9D%A6%E7%A6%8F%E5%A4%A7%E5%AD%A6\" target=\"_blank\">斯坦福大学</a>, <a href=\"/item/%E6%9D%A8%E8%87%B4%E8%BF%9C\" target=\"_blank\">杨致远</a>, <a href=\"/item/%E5%8D%8E%E7%9B%9B%E9%A1%BF%E5%A4%A7%E5%AD%A6\" target=\"_blank\">华盛顿大学</a>, <a href=\"/item/%E6%90%9C%E7%B4%A2%E6%96%87%E4%BB%B6\" target=\"_blank\">搜索文件</a>, <a href=\"/item/%E5%8D%A1%E5%86%85%E5%9F%BA%C2%B7%E6%A2%85%E9%9A%86%E5%A4%A7%E5%AD%A6\" target=\"_blank\">卡内基·梅隆大学</a>, <a href=\"/item/%E7%9B%B8%E5%85%B3%E6%80%A7%E6%8E%92%E5%BA%8F\" target=\"_blank\">相关性排序</a>, <a href=\"/item/%E5%8A%A0%E5%B7%9E%E4%BC%AF%E5%85%8B%E5%88%A9%E5%88%86%E6%A0%A1\" target=\"_blank\">加州伯克利分校</a>, <a href=\"/item/%E6%90%9C%E7%B4%A2\" target=\"_blank\">搜索</a>, <a href=\"/item/%E8%87%AA%E7%84%B6%E8%AF%AD%E8%A8%80%E6%90%9C%E7%B4%A2\" target=\"_blank\">自然语言搜索</a>, <a href=\"/item/%E9%AB%98%E7%BA%A7%E6%90%9C%E7%B4%A2\" target=\"_blank\">高级搜索</a>, <a href=\"/item/%E6%96%87%E7%AB%A0\" target=\"_blank\">文章</a>, <a href=\"/item/%E6%96%AF%E5%9D%A6%E7%A6%8F%E5%A4%A7%E5%AD%A6\" target=\"_blank\">斯坦福大学</a>, <a href=\"/item/%E8%B0%B7%E6%AD%8C\" target=\"_blank\">谷歌</a>, <a href=\"/item/%E6%8C%AA%E5%A8%81%E7%A7%91%E6%8A%80%E5%A4%A7%E5%AD%A6\" target=\"_blank\">挪威科技大学</a>, <a href=\"/item/%E5%9B%BE%E5%83%8F%E6%90%9C%E7%B4%A2\" target=\"_blank\">图像搜索</a>, <a href=\"/item/%E6%90%9C%E7%8B%97\" target=\"_blank\">搜狗</a>, <a href=\"/item/%E7%AC%AC%E4%B8%89%E4%BB%A3%E6%90%9C%E7%B4%A2\" target=\"_blank\">第三代搜索</a>, <a href=\"/item/%E5%8F%B0%E6%B9%BE\" target=\"_blank\">台湾</a>, <a href=\"/item/%E5%90%B4%E5%8D%87\" target=\"_blank\">吴升</a>, <a href=\"/item/%E8%B6%85%E9%93%BE%E5%88%86%E6%9E%90\" target=\"_blank\">超链分析</a>, <a href=\"/item/%E6%9D%8E%E5%BD%A6%E5%AE%8F\" target=\"_blank\">李彦宏</a>, <a href=\"/item/%E5%BE%90%E5%8B%87\" target=\"_blank\">徐勇</a>, <a href=\"/item/%E5%8C%97%E4%BA%AC\" target=\"_blank\">北京</a>, <a href=\"/item/%E7%99%BE%E5%BA%A6%E6%90%9C%E7%B4%A2%E5%BC%95%E6%93%8E\" target=\"_blank\">百度搜索引擎</a>, <a href=\"/item/%E9%97%A8%E6%88%B7%E7%BD%91%E7%AB%99\" target=\"_blank\">门户网站</a>, <a href=\"/item/%E8%B4%B4%E5%90%A7\" target=\"_blank\">贴吧</a>, <a href=\"/item/%E7%99%BE%E7%A7%91\" target=\"_blank\">百科</a>, <a href=\"/item/%E7%BA%B3%E6%96%AF%E8%BE%BE%E5%85%8B\" target=\"_blank\">纳斯达克</a>, <a href=\"/item/%E6%85%A7%E8%81%AA\" target=\"_blank\">慧聪</a>, <a href=\"/item/%E4%B8%AD%E5%9B%BD%E6%90%9C%E7%B4%A2\" target=\"_blank\">中国搜索</a>, <a href=\"/item/%E6%A1%8C%E9%9D%A2%E6%90%9C%E7%B4%A2%E5%BC%95%E6%93%8E\" target=\"_blank\">桌面搜索引擎</a>, <a href=\"/item/%E7%BD%91%E7%BB%9C%E7%8C%AA\" target=\"_blank\">网络猪</a>, <a href=\"/item/%E4%B8%AD%E6%90%9C\" target=\"_blank\">中搜</a>, <a href=\"/item/%E6%96%B0%E6%B5%AA\" target=\"_blank\">新浪</a>, <a href=\"/item/%E6%96%B0%E6%B5%AA%E7%88%B1%E9%97%AE\" target=\"_blank\">新浪爱问</a>, <a href=\"/item/%E6%9C%89%E9%81%93\" target=\"_blank\">有道</a>, <a href=\"/item/%E7%BB%BC%E5%90%88%E6%90%9C%E7%B4%A2\" target=\"_blank\">综合搜索</a>, <a href=\"/item/%E5%9B%BE%E7%89%87%E6%90%9C%E7%B4%A2\" target=\"_blank\">图片搜索</a>, <a href=\"/item/%E5%8D%9A%E5%AE%A2%E6%90%9C%E7%B4%A2\" target=\"_blank\">博客搜索</a>, <a href=\"/item/%E8%87%AA%E7%84%B6%E8%AF%AD%E8%A8%80%E5%A4%84%E7%90%86\" target=\"_blank\">自然语言处理</a>, <a href=\"/item/%E7%BD%91%E5%90%A7\" target=\"_blank\">网吧</a>, <a href=\"/item/%E8%B0%B7%E6%AD%8C\" target=\"_blank\">谷歌</a>, <a href=\"/item/%E8%B0%B7%E6%AD%8C\" target=\"_blank\">谷歌</a>, <a href=\"/item/%E7%99%BE%E5%BA%A6\" target=\"_blank\">百度</a>, <a href=\"/item/%E7%BD%91%E7%AB%99%E5%BB%BA%E8%AE%BE\" target=\"_blank\">网站建设</a>, <a href=\"/item/%E7%BD%91%E7%AB%99%E7%94%A8%E6%88%B7%E8%A1%8C%E4%B8%BA\" target=\"_blank\">网站用户行为</a>, <a href=\"/item/%E6%90%9C%E7%B4%A2%E8%A1%8C%E4%B8%BA\" target=\"_blank\">搜索行为</a>, <a href=\"/item/%E7%BD%91%E7%BB%9C%E8%90%A5%E9%94%80%E7%AD%96%E7%95%A5\" target=\"_blank\">网络营销策略</a>, <a href=\"/item/%E7%BD%91%E7%BB%9C%E8%90%A5%E9%94%80\" target=\"_blank\">网络营销</a>, <a href=\"/item/%E6%90%9C%E7%B4%A2%E5%BC%95%E6%93%8E%E8%90%A5%E9%94%80\" target=\"_blank\">搜索引擎营销</a>, <a href=\"/item/%E6%95%88%E6%9E%9C%E8%90%A5%E9%94%80\" target=\"_blank\">效果营销</a>, <a href=\"/item/%E8%90%A5%E9%94%80\" target=\"_blank\">营销</a>, <a href=\"/item/%E7%94%B5%E5%AD%90%E5%95%86%E5%8A%A1\" target=\"_blank\">电子商务</a>, <a href=\"/item/%E7%BB%88%E7%AB%AF%E5%AE%A2%E6%88%B7\" target=\"_blank\">终端客户</a>, <a href=\"/item/%E4%BA%92%E8%81%94%E7%BD%91%E6%B3%A1%E6%B2%AB\" target=\"_blank\">互联网泡沫</a>, <a href=\"/item/%E7%AB%9E%E4%BB%B7%E6%8E%92%E5%90%8D\" target=\"_blank\">竞价排名</a>, <a href=\"/item/%E6%94%B6%E8%B4%B9\" target=\"_blank\">收费</a>, <a href=\"/item/%E6%AF%94%E5%B0%94%C2%B7%E6%A0%BC%E7%BD%97%E6%96%AF\" target=\"_blank\">比尔·格罗斯</a>, <a href=\"/item/%E7%BD%91%E9%A1%B5\" target=\"_blank\">网页</a>, <a href=\"/item/%E5%B9%BF%E5%91%8A%E5%95%86\" target=\"_blank\">广告商</a>, <a href=\"/item/%E7%B4%A2%E5%BC%95%E5%99%A8\" target=\"_blank\">索引器</a>, <a href=\"/item/%E7%94%A8%E6%88%B7%E6%8E%A5%E5%8F%A3\" target=\"_blank\">用户接口</a>, <a href=\"/item/%E6%90%9C%E7%B4%A2%E8%90%A5%E9%94%80\" target=\"_blank\">搜索营销</a>, <a href=\"/item/%E6%90%9C%E7%B4%A2%E8%80%85\" target=\"_blank\">搜索者</a>, <a href=\"/item/%E6%97%A5%E6%9C%AC\" target=\"_blank\">日本</a>, <a href=\"/item/%E7%91%9E%E5%85%B8\" target=\"_blank\">瑞典</a>, <a href=\"/item/%E6%97%A5%E8%AF%AD\" target=\"_blank\">日语</a>, <a href=\"/item/%E8%9C%98%E8%9B%9B%E7%A8%8B%E5%BA%8F\" target=\"_blank\">蜘蛛程序</a>, <a href=\"/item/%E6%A0%87%E7%AD%BE\" target=\"_blank\">标签</a>, <a href=\"/item/%E8%9C%98%E8%9B%9B%E7%A8%8B%E5%BA%8F\" target=\"_blank\">蜘蛛程序</a>, <a href=\"/item/%E9%98%BF%E6%8B%89%E4%BC%AF\" target=\"_blank\">阿拉伯</a>, <a href=\"/item/%E5%91%BD%E4%BB%A4\" target=\"_blank\">命令</a>, <a href=\"/item/%E5%AF%BC%E5%85%A5%E9%93%BE%E6%8E%A5\" target=\"_blank\">导入链接</a>, <a href=\"/item/%E7%9F%A5%E8%AF%86%E5%9E%8B\" target=\"_blank\">知识型</a>]\n"
     ]
    },
    {
     "name": "stdout",
     "output_type": "stream",
     "text": [
      "2 数据库     url:  /item/%E6%95%B0%E6%8D%AE%E5%BA%93\n",
      "[<a href=\"/item/%E6%95%B0%E6%8D%AE%E7%BB%93%E6%9E%84\" target=\"_blank\">数据结构</a>, <a href=\"/item/%E5%AD%98%E5%82%A8\" target=\"_blank\">存储</a>, <a href=\"/item/%E4%BF%A1%E6%81%AF%E6%8A%80%E6%9C%AF\" target=\"_blank\">信息技术</a>, <a href=\"/item/%E6%95%B0%E6%8D%AE%E7%AE%A1%E7%90%86\" target=\"_blank\">数据管理</a>, <a href=\"/item/%E8%A1%A8%E6%A0%BC\" target=\"_blank\">表格</a>, <a href=\"/item/%E6%95%B0%E6%8D%AE%E5%AD%98%E5%82%A8\" target=\"_blank\">数据存储</a>, <a href=\"/item/%E6%95%B0%E6%8D%AE%E5%BA%93%E7%B3%BB%E7%BB%9F\" target=\"_blank\">数据库系统</a>, <a href=\"/item/%E7%94%B5%E5%AD%90%E5%8C%96\" target=\"_blank\">电子化</a>, <a href=\"/item/%E6%96%87%E4%BB%B6%E6%9F%9C\" target=\"_blank\">文件柜</a>, <a href=\"/item/%E9%9B%B7%E6%98%8E%E9%A1%BF%E5%85%B0%E5%BE%B7%E5%85%AC%E5%8F%B8\" target=\"_blank\">雷明顿兰德公司</a>, <a href=\"/item/%E6%95%B0%E6%8D%AE%E7%BB%93%E6%9E%84\" target=\"_blank\">数据结构</a>, <a href=\"/item/%E5%AD%98%E5%82%A8\" target=\"_blank\">存储</a>, <a href=\"/item/%E7%94%B5%E5%AD%90%E5%8C%96\" target=\"_blank\">电子化</a>, <a href=\"/item/%E6%96%87%E4%BB%B6%E6%9F%9C\" target=\"_blank\">文件柜</a>, <a href=\"/item/%E6%96%87%E4%BB%B6\" target=\"_blank\">文件</a>, <a href=\"/item/%E7%BB%8F%E6%B5%8E%E7%AE%A1%E7%90%86\" target=\"_blank\">经济管理</a>, <a href=\"/item/%E4%BC%81%E4%B8%9A\" target=\"_blank\">企业</a>, <a href=\"/item/%E5%A7%93%E5%90%8D\" target=\"_blank\">姓名</a>, <a href=\"/item/%E5%B9%B4%E9%BE%84\" target=\"_blank\">年龄</a>, <a href=\"/item/%E6%80%A7%E5%88%AB\" target=\"_blank\">性别</a>, <a href=\"/item/%E7%B1%8D%E8%B4%AF\" target=\"_blank\">籍贯</a>, <a href=\"/item/%E5%B7%A5%E8%B5%84\" target=\"_blank\">工资</a>, <a href=\"/item/%E7%AE%80%E5%8E%86\" target=\"_blank\">简历</a>, <a href=\"/item/%E8%B4%A2%E5%8A%A1%E7%AE%A1%E7%90%86\" target=\"_blank\">财务管理</a>, <a href=\"/item/%E4%BB%93%E5%BA%93%E7%AE%A1%E7%90%86\" target=\"_blank\">仓库管理</a>, <a href=\"/item/%E8%AE%A1%E7%AE%97%E6%9C%BA\" target=\"_blank\">计算机</a>, <a href=\"/item/%E5%86%97%E4%BD%99%E5%BA%A6\" target=\"_blank\">冗余度</a>, <a href=\"/item/%E6%95%B0%E6%8D%AE%E5%BA%93\" target=\"_blank\">数据库</a>, <a href=\"/item/%E5%8D%95%E4%BD%8D\" target=\"_blank\">单位</a>, <a href=\"/item/%E6%95%B0%E6%8D%AE%E5%A4%84%E7%90%86%E7%B3%BB%E7%BB%9F\" target=\"_blank\">数据处理系统</a>, <a href=\"/item/%E5%9B%A2%E4%BD%93\" target=\"_blank\">团体</a>, <a href=\"/item/%E9%9B%86%E5%90%88\" target=\"_blank\">集合</a>, <a href=\"/item/%E6%95%B0%E6%8D%AE%E6%A8%A1%E5%9E%8B\" target=\"_blank\">数据模型</a>, <a href=\"/item/%E8%B7%AF%E5%BE%84\" target=\"_blank\">路径</a>, <a href=\"/item/%E5%85%B1%E4%BA%AB\" target=\"_blank\">共享</a>, <a href=\"/item/%E7%A8%8B%E5%BA%8F\" target=\"_blank\">程序</a>, <a href=\"/item/%E5%86%85%E6%A8%A1%E5%BC%8F\" target=\"_blank\">内模式</a>, <a href=\"/item/%E6%A1%86%E6%9E%B6\" target=\"_blank\">框架</a>, <a href=\"/item/%E6%A6%82%E5%BF%B5%E6%A8%A1%E5%BC%8F\" target=\"_blank\">概念模式</a>, <a href=\"/item/%E5%A4%96%E6%A8%A1%E5%BC%8F\" target=\"_blank\">外模式</a>, <a href=\"/item/%E6%95%B0%E6%8D%AE%E5%B1%82\" target=\"_blank\">数据层</a>, <a href=\"/item/%E5%8E%9F%E5%A7%8B%E6%95%B0%E6%8D%AE\" target=\"_blank\">原始数据</a>, <a href=\"/item/%E6%8C%87%E4%BB%A4\" target=\"_blank\">指令</a>, <a href=\"/item/%E6%95%B0%E6%8D%AE%E5%B1%82\" target=\"_blank\">数据层</a>, <a href=\"/item/%E9%80%BB%E8%BE%91%E8%A1%A8%E7%A4%BA\" target=\"_blank\">逻辑表示</a>, <a href=\"/item/%E6%95%B0%E6%8D%AE%E5%BA%93%E7%AE%A1%E7%90%86%E5%91%98\" target=\"_blank\">数据库管理员</a>, <a href=\"/item/%E6%95%B0%E6%8D%AE%E5%B1%82\" target=\"_blank\">数据层</a>, <a href=\"/item/%E9%80%BB%E8%BE%91%E8%AE%B0%E5%BD%95\" target=\"_blank\">逻辑记录</a>, <a href=\"/item/%E6%98%A0%E5%B0%84\" target=\"_blank\">映射</a>, <a href=\"/item/%E6%95%B0%E6%8D%AE%E5%85%B1%E4%BA%AB\" target=\"_blank\">数据共享</a>, <a href=\"/item/%E9%80%BB%E8%BE%91%E7%BB%93%E6%9E%84\" target=\"_blank\">逻辑结构</a>, <a href=\"/item/%E5%BA%94%E7%94%A8%E7%A8%8B%E5%BA%8F\" target=\"_blank\">应用程序</a>, <a href=\"/item/%E6%96%87%E4%BB%B6%E7%AE%A1%E7%90%86%E6%96%B9%E5%BC%8F\" target=\"_blank\">文件管理方式</a>, <a href=\"/item/%E6%95%B0%E6%8D%AE%E6%A8%A1%E5%9E%8B\" target=\"_blank\">数据模型</a>, <a href=\"/item/%E6%95%B0%E6%8D%AE%E4%B8%80%E8%87%B4%E6%80%A7\" target=\"_blank\"><b>数据一致性</b></a>, <a href=\"/item/%E5%AE%8C%E6%95%B4%E6%80%A7%E6%8E%A7%E5%88%B6\" target=\"_blank\">完整性控制</a>, <a href=\"/item/%E5%B9%B6%E5%8F%91%E6%8E%A7%E5%88%B6\" target=\"_blank\">并发控制</a>, <a href=\"/item/%E5%91%A8%E6%9C%9F\" target=\"_blank\">周期</a>, <a href=\"/item/%E6%95%B0%E6%8D%AE%E5%BA%93%E7%AE%A1%E7%90%86%E7%B3%BB%E7%BB%9F\" target=\"_blank\">数据库管理系统</a>, <a href=\"/item/%E6%95%B0%E6%8D%AE%E5%BA%93%E7%B3%BB%E7%BB%9F\" target=\"_blank\">数据库系统</a>, <a href=\"/item/%E6%95%B0%E6%8D%AE%E7%BB%93%E6%9E%84\" target=\"_blank\">数据结构</a>, <a href=\"/item/%E6%95%B0%E6%8D%AE%E7%BB%93%E6%9E%84\" target=\"_blank\">数据结构</a>, <a href=\"/item/%E6%95%B0%E6%8D%AE%E5%AF%B9%E8%B1%A1\" target=\"_blank\">数据对象</a>, <a href=\"/item/%E6%95%B0%E6%8D%AE%E7%BB%93%E6%9E%84\" target=\"_blank\">数据结构</a>, <a href=\"/item/%E6%95%B0%E6%8D%AE%E7%BB%93%E6%9E%84\" target=\"_blank\">数据结构</a>, <a href=\"/item/%E6%95%B0%E7%BB%84\" target=\"_blank\">数组</a>, <a href=\"/item/%E6%95%B0%E6%8D%AE%E7%BB%93%E6%9E%84\" target=\"_blank\">数据结构</a>, <a href=\"/item/%E9%80%BB%E8%BE%91%E7%BB%93%E6%9E%84\" target=\"_blank\">逻辑结构</a>, <a href=\"/item/%E7%89%A9%E7%90%86%E7%BB%93%E6%9E%84\" target=\"_blank\">物理结构</a>, <a href=\"/item/%E5%AD%98%E5%82%A8%E7%BB%93%E6%9E%84\" target=\"_blank\">存储结构</a>, <a href=\"/item/%E6%95%B0%E6%8D%AE%E6%A8%A1%E5%9E%8B\" target=\"_blank\">数据模型</a>, <a href=\"/item/%E6%95%B0%E6%8D%AE%E6%A8%A1%E5%9E%8B\" target=\"_blank\">数据模型</a>, <a href=\"/item/%E5%9B%BE%E8%AE%BA\" target=\"_blank\">图论</a>, <a href=\"/item/%E5%B1%82%E6%AC%A1%E7%BB%93%E6%9E%84\" target=\"_blank\">层次结构</a>, <a href=\"/item/%E5%B1%82%E6%AC%A1%E7%BB%93%E6%9E%84\" target=\"_blank\"><b>层次结构</b></a>, <a href=\"/item/%E8%BF%9E%E9%80%9A%E5%9B%BE\" target=\"_blank\">连通图</a>, <a href=\"/item/%E6%95%B0%E6%8D%AE%E5%BA%93%E7%B3%BB%E7%BB%9F\" target=\"_blank\">数据库系统</a>, <a href=\"/item/%E7%BD%91%E7%8A%B6%E7%BB%93%E6%9E%84\" target=\"_blank\">网状结构</a>, <a href=\"/item/%E6%95%B0%E6%8D%AE%E7%BB%93%E6%9E%84\" target=\"_blank\">数据结构</a>, <a href=\"/item/%E6%95%B0%E6%8D%AE%E5%BA%93%E7%B3%BB%E7%BB%9F\" target=\"_blank\">数据库系统</a>, <a href=\"/item/%E6%95%B0%E5%AD%A6%E6%96%B9%E6%B3%95\" target=\"_blank\">数学方法</a>, <a href=\"/item/%E6%95%B0%E6%8D%AE%E7%BB%93%E6%9E%84\" target=\"_blank\">数据结构</a>, <a href=\"/item/%E6%95%B0%E6%8D%AE%E7%BB%93%E6%9E%84\" target=\"_blank\">数据结构</a>, <a href=\"/item/%E4%BA%8C%E5%85%83%E5%85%B3%E7%B3%BB\" target=\"_blank\">二元关系</a>, <a href=\"/item/%E4%BA%8C%E7%BB%B4%E8%A1%A8%E6%A0%BC\" target=\"_blank\">二维表格</a>, <a href=\"/item/%E6%95%B0%E6%8D%AE%E7%BB%93%E6%9E%84\" target=\"_blank\">数据结构</a>, <a href=\"/item/%E6%95%B0%E6%8D%AE%E5%BA%93%E7%B3%BB%E7%BB%9F\" target=\"_blank\">数据库系统</a>, <a href=\"/item/%E5%85%B3%E7%B3%BB%E6%95%B0%E6%8D%AE%E5%BA%93%E7%B3%BB%E7%BB%9F\" target=\"_blank\">关系数据库系统</a>, <a href=\"/item/%E5%85%B3%E7%B3%BB%E6%95%B0%E6%8D%AE%E5%BA%93\" target=\"_blank\">关系数据库</a>, <a href=\"/item/%E6%95%B0%E6%8D%AE%E5%BA%93%E7%AE%A1%E7%90%86%E7%B3%BB%E7%BB%9F\" target=\"_blank\">数据库管理系统</a>, <a href=\"/item/%E6%95%B0%E6%8D%AE%E5%BA%93%E6%96%87%E4%BB%B6\" target=\"_blank\">数据库文件</a>, <a href=\"/item/%E6%95%B0%E6%8D%AE%E5%BA%93%E7%B3%BB%E7%BB%9F\" target=\"_blank\">数据库系统</a>, <a href=\"/item/%E5%91%BD%E4%BB%A4\" target=\"_blank\">命令</a>, <a href=\"/item/%E6%95%B0%E6%8D%AE%E5%BA%93%E7%B3%BB%E7%BB%9F\" target=\"_blank\">数据库系统</a>, <a href=\"/item/%E6%95%B0%E6%8D%AE%E5%BA%93%E7%B3%BB%E7%BB%9F\" target=\"_blank\">数据库系统</a>, <a href=\"/item/%E8%AE%A1%E7%AE%97%E6%9C%BA\" target=\"_blank\">计算机</a>, <a href=\"/item/%E6%95%B0%E6%8D%AE%E7%AE%A1%E7%90%86%E6%8A%80%E6%9C%AF\" target=\"_blank\">数据管理技术</a>, <a href=\"/item/%E6%95%B0%E6%8D%AE%E7%AE%A1%E7%90%86\" target=\"_blank\">数据管理</a>, <a href=\"/item/%E7%A9%BF%E5%AD%94%E5%8D%A1%E7%89%87\" target=\"_blank\">穿孔卡片</a>, <a href=\"/item/%E6%95%B0%E6%8D%AE%E7%AE%A1%E7%90%86\" target=\"_blank\">数据管理</a>, <a href=\"/item/%E9%9B%B7%E6%98%8E%E9%A1%BF%E5%85%B0%E5%BE%B7%E5%85%AC%E5%8F%B8\" target=\"_blank\">雷明顿兰德公司</a>, <a href=\"/item/%E7%A3%81%E5%B8%A6%E9%A9%B1%E5%8A%A8%E5%99%A8\" target=\"_blank\">磁带驱动器</a>, <a href=\"/item/%E6%95%B0%E6%8D%AE%E7%AE%A1%E7%90%86\" target=\"_blank\">数据管理</a>, <a href=\"/item/%E7%A3%81%E7%9B%98%E9%A9%B1%E5%8A%A8%E5%99%A8\" target=\"_blank\">磁盘驱动器</a>, <a href=\"/item/%E9%A9%B1%E5%8A%A8%E5%99%A8\" target=\"_blank\">驱动器</a>, <a href=\"/item/%E7%A3%81%E7%9B%98\" target=\"_blank\">磁盘</a>, <a href=\"/item/%E9%9A%8F%E6%9C%BA%E5%AD%98%E5%8F%96\" target=\"_blank\">随机存取</a>, <a href=\"/item/%E6%95%B0%E6%8D%AE%E5%AD%98%E5%82%A8\" target=\"_blank\">数据存储</a>, <a href=\"/item/%E6%95%B0%E6%8D%AE%E5%BA%93%E7%B3%BB%E7%BB%9F\" target=\"_blank\"><b>数据库系统</b></a>, <a href=\"/item/%E6%95%B0%E6%8D%AE%E7%AE%A1%E7%90%86\" target=\"_blank\">数据管理</a>, <a href=\"/item/%E6%95%B0%E6%8D%AE%E5%BA%93%E7%AE%A1%E7%90%86%E7%B3%BB%E7%BB%9F\" target=\"_blank\">数据库管理系统</a>, <a href=\"/item/%E6%95%B0%E6%8D%AE%E6%A8%A1%E5%9E%8B\" target=\"_blank\">数据模型</a>, <a href=\"/item/%E6%95%B0%E6%8D%AE%E5%BA%93%E7%B3%BB%E7%BB%9F\" target=\"_blank\">数据库系统</a>, <a href=\"/item/%E8%BD%AF%E4%BB%B6\" target=\"_blank\">软件</a>, <a href=\"/item/%E6%95%B0%E6%8D%AE%E6%A8%A1%E5%9E%8B\" target=\"_blank\">数据模型</a>, <a href=\"/item/%E4%BC%A0%E7%BB%9F%E6%95%B0%E6%8D%AE%E5%BA%93\" target=\"_blank\">传统数据库</a>, <a href=\"/item/%E7%BD%91%E7%8A%B6%E6%95%B0%E6%8D%AE%E5%BA%93\" target=\"_blank\">网状数据库</a>, <a href=\"/item/%E5%B1%82%E6%AC%A1%E6%95%B0%E6%8D%AE%E5%BA%93\" target=\"_blank\">层次数据库</a>, <a href=\"/item/%E5%85%B3%E7%B3%BB%E6%95%B0%E6%8D%AE%E5%BA%93\" target=\"_blank\">关系数据库</a>, <a href=\"/item/%E7%BE%8E%E5%9B%BD\" target=\"_blank\">美国</a>, <a href=\"/item/%E9%80%9A%E7%94%A8%E7%94%B5%E6%B0%94%E5%85%AC%E5%8F%B8\" target=\"_blank\">通用电气公司</a>, <a href=\"/item/%E6%95%B0%E6%8D%AE%E5%BA%93%E7%AE%A1%E7%90%86%E7%B3%BB%E7%BB%9F\" target=\"_blank\">数据库管理系统</a>, <a href=\"/item/%E9%9B%86%E6%88%90%E6%95%B0%E6%8D%AE\" target=\"_blank\">集成数据</a>, <a href=\"/item/%E7%BD%91%E7%8A%B6%E6%95%B0%E6%8D%AE%E5%BA%93\" target=\"_blank\">网状数据库</a>, <a href=\"/item/%E6%97%A5%E5%BF%97\" target=\"_blank\">日志</a>, <a href=\"/item/%E7%BC%96%E7%A0%81\" target=\"_blank\">编码</a>, <a href=\"/item/%E5%AE%A2%E6%88%B7\" target=\"_blank\">客户</a>, <a href=\"/item/%E6%95%B0%E6%8D%AE%E5%BA%93%E6%A8%A1%E5%9E%8B\" target=\"_blank\">数据库模型</a>, <a href=\"/item/%E5%85%B3%E7%B3%BB%E6%95%B0%E6%8D%AE%E5%BA%93\" target=\"_blank\">关系数据库</a>, <a href=\"/item/%E5%B1%82%E6%AC%A1%E6%95%B0%E6%8D%AE%E5%BA%93\" target=\"_blank\">层次数据库</a>, <a href=\"/item/%E5%B1%82%E6%AC%A1%E6%95%B0%E6%8D%AE%E5%BA%93\" target=\"_blank\">层次数据库</a>, <a href=\"/item/%E6%95%B0%E6%8D%AE%E5%BA%93%E7%B3%BB%E7%BB%9F\" target=\"_blank\">数据库系统</a>, <a href=\"/item/%E7%A8%8B%E5%BA%8F\" target=\"_blank\">程序</a>, <a href=\"/item/%E6%B6%88%E6%81%AF%E9%98%9F%E5%88%97\" target=\"_blank\">消息队列</a>, <a href=\"/item/%E9%9B%86%E4%B8%AD\" target=\"_blank\">集中</a>, <a href=\"/item/%E5%85%B1%E4%BA%AB\" target=\"_blank\">共享</a>, <a href=\"/item/%E6%95%B0%E6%8D%AE%E7%8B%AC%E7%AB%8B%E6%80%A7\" target=\"_blank\">数据独立性</a>, <a href=\"/item/%E5%AD%98%E5%82%A8%E7%BB%93%E6%9E%84\" target=\"_blank\">存储结构</a>, <a href=\"/item/%E5%85%B3%E7%B3%BB%E6%95%B0%E6%8D%AE%E5%BA%93\" target=\"_blank\">关系数据库</a>, <a href=\"/item/%E5%85%B3%E7%B3%BB%E6%A8%A1%E5%9E%8B\" target=\"_blank\">关系模型</a>, <a href=\"/item/%E6%A8%A1%E5%9E%8B\" target=\"_blank\">模型</a>, <a href=\"/item/%E6%95%B0%E6%8D%AE%E5%BA%93%E7%B3%BB%E7%BB%9F\" target=\"_blank\">数据库系统</a>, <a href=\"/item/%E9%87%8C%E7%A8%8B%E7%A2%91\" target=\"_blank\">里程碑</a>, <a href=\"/item/%E6%95%B0%E6%8D%AE%E6%A8%A1%E5%9E%8B\" target=\"_blank\">数据模型</a>, <a href=\"/item/%E8%8C%83%E5%BC%8F%E7%90%86%E8%AE%BA\" target=\"_blank\">范式理论</a>, <a href=\"/item/%E5%85%B3%E7%B3%BB%E7%B3%BB%E7%BB%9F\" target=\"_blank\">关系系统</a>, <a href=\"/item/%E5%85%B3%E7%B3%BB%E6%95%B0%E6%8D%AE%E5%BA%93\" target=\"_blank\">关系数据库</a>, <a href=\"/item/%E6%95%B0%E6%8D%AE%E6%A8%A1%E5%9E%8B\" target=\"_blank\">数据模型</a>, <a href=\"/item/%E5%85%B3%E7%B3%BB%E6%95%B0%E6%8D%AE%E5%BA%93\" target=\"_blank\">关系数据库</a>, <a href=\"/item/%E5%85%B3%E7%B3%BB%E6%95%B0%E6%8D%AE%E5%BA%93\" target=\"_blank\">关系数据库</a>, <a href=\"/item/%E5%85%B3%E7%B3%BB%E6%95%B0%E6%8D%AE%E5%BA%93\" target=\"_blank\">关系数据库</a>, <a href=\"/item/%E5%85%B3%E7%B3%BB%E6%95%B0%E6%8D%AE%E5%BA%93\" target=\"_blank\">关系数据库</a>, <a href=\"/item/%E5%B1%82%E6%AC%A1%E6%95%B0%E6%8D%AE%E5%BA%93\" target=\"_blank\">层次数据库</a>, <a href=\"/item/%E5%8A%A0%E5%B7%9E%E5%A4%A7%E5%AD%A6%E4%BC%AF%E5%85%8B%E5%88%A9%E5%88%86%E6%A0%A1\" target=\"_blank\">加州大学伯克利分校</a>, <a href=\"/item/%E5%85%B3%E7%B3%BB%E6%95%B0%E6%8D%AE%E5%BA%93%E7%B3%BB%E7%BB%9F\" target=\"_blank\">关系数据库系统</a>, <a href=\"/item/%E8%BD%AF%E4%BB%B6%E7%B3%BB%E7%BB%9F\" target=\"_blank\">软件系统</a>, <a href=\"/item/%E5%85%B3%E7%B3%BB%E6%95%B0%E6%8D%AE%E5%BA%93%E7%B3%BB%E7%BB%9F\" target=\"_blank\">关系数据库系统</a>, <a href=\"/item/%E5%85%B3%E7%B3%BB%E5%9E%8B%E6%95%B0%E6%8D%AE%E5%BA%93\" target=\"_blank\">关系型数据库</a>, <a href=\"/item/%E5%85%B3%E7%B3%BB%E4%BB%A3%E6%95%B0\" target=\"_blank\">关系代数</a>, <a href=\"/item/%E5%BE%AE%E8%BD%AF%E5%85%AC%E5%8F%B8\" target=\"_blank\">微软公司</a>, <a href=\"/item/%E5%85%B3%E7%B3%BB%E6%95%B0%E6%8D%AE%E5%BA%93\" target=\"_blank\">关系数据库</a>, <a href=\"/item/%E6%95%B0%E5%AD%A6\" target=\"_blank\">数学</a>, <a href=\"/item/%E8%AF%AD%E6%B3%95\" target=\"_blank\">语法</a>, <a href=\"/item/%E5%85%B3%E7%B3%BB%E6%95%B0%E6%8D%AE%E5%BA%93\" target=\"_blank\">关系数据库</a>, <a href=\"/item/%E6%95%B0%E6%8D%AE%E5%BA%93%E7%94%9F%E5%91%BD%E5%91%A8%E6%9C%9F\" target=\"_blank\">数据库生命周期</a>, <a href=\"/item/%E5%85%B3%E7%B3%BB%E6%95%B0%E6%8D%AE%E5%BA%93\" target=\"_blank\">关系数据库</a>, <a href=\"/item/%E7%BC%96%E7%A8%8B%E8%AF%AD%E8%A8%80\" target=\"_blank\">编程语言</a>, <a href=\"/item/%E5%85%B3%E7%B3%BB%E6%95%B0%E6%8D%AE%E5%BA%93\" target=\"_blank\">关系数据库</a>, <a href=\"/item/%E7%BE%8E%E5%9B%BD%E6%A0%87%E5%87%86\" target=\"_blank\">美国标准</a>, <a href=\"/item/%E6%A8%A1%E5%BC%8F\" target=\"_blank\">模式</a>, <a href=\"/item/%E4%BA%8B%E5%8A%A1%E5%A4%84%E7%90%86\" target=\"_blank\">事务处理</a>, <a href=\"/item/%E6%8A%BD%E8%B1%A1%E6%95%B0%E6%8D%AE%E7%B1%BB%E5%9E%8B\" target=\"_blank\">抽象数据类型</a>, <a href=\"/item/%E5%85%B3%E7%B3%BB%E6%95%B0%E6%8D%AE%E5%BA%93\" target=\"_blank\">关系数据库</a>, <a href=\"/item/%E5%85%B3%E7%B3%BB%E6%95%B0%E6%8D%AE%E5%BA%93\" target=\"_blank\">关系数据库</a>, <a href=\"/item/%E5%85%B3%E7%B3%BB%E6%95%B0%E6%8D%AE%E5%BA%93\" target=\"_blank\">关系数据库</a>, <a href=\"/item/%E8%BD%AF%E4%BB%B6\" target=\"_blank\">软件</a>, <a href=\"/item/%E5%85%B3%E7%B3%BB%E6%95%B0%E6%8D%AE%E5%BA%93\" target=\"_blank\">关系数据库</a>, <a href=\"/item/%E6%95%B0%E6%8D%AE%E5%BA%93%E7%B3%BB%E7%BB%9F\" target=\"_blank\">数据库系统</a>, <a href=\"/item/%E4%B8%AD%E5%A4%AE%E6%83%85%E6%8A%A5%E5%B1%80\" target=\"_blank\">中央情报局</a>, <a href=\"/item/%E6%95%B0%E6%8D%AE%E5%BA%93%E7%AE%A1%E7%90%86\" target=\"_blank\">数据库管理</a>, <a href=\"/item/%E5%B1%82%E6%AC%A1%E6%95%B0%E6%8D%AE%E5%BA%93\" target=\"_blank\">层次数据库</a>, <a href=\"/item/%E5%85%B3%E7%B3%BB%E6%95%B0%E6%8D%AE%E5%BA%93\" target=\"_blank\">关系数据库</a>, <a href=\"/item/%E6%93%8D%E4%BD%9C%E7%B3%BB%E7%BB%9F\" target=\"_blank\">操作系统</a>, <a href=\"/item/%E4%B8%96%E7%95%8C\" target=\"_blank\">世界</a>, <a href=\"/item/%E5%85%B3%E7%B3%BB%E6%95%B0%E6%8D%AE%E5%BA%93\" target=\"_blank\">关系数据库</a>, <a href=\"/item/%E4%BF%A1%E6%81%AF%E6%8A%80%E6%9C%AF\" target=\"_blank\">信息技术</a>, <a href=\"/item/%E5%85%B3%E7%B3%BB%E5%9E%8B%E6%95%B0%E6%8D%AE%E5%BA%93\" target=\"_blank\">关系型数据库</a>, <a href=\"/item/%E5%B1%80%E9%99%90%E6%80%A7\" target=\"_blank\">局限性</a>, <a href=\"/item/%E6%95%B0%E6%8D%AE%E5%BA%93%E7%B3%BB%E7%BB%9F\" target=\"_blank\">数据库系统</a>, <a href=\"/item/%E6%95%B0%E6%8D%AE%E5%BA%93%E7%B3%BB%E7%BB%9F\" target=\"_blank\">数据库系统</a>, <a href=\"/item/%E9%9D%A2%E5%90%91%E5%AF%B9%E8%B1%A1\" target=\"_blank\">面向对象</a>, <a href=\"/item/%E6%95%B0%E6%8D%AE%E5%BA%93%E7%B3%BB%E7%BB%9F\" target=\"_blank\">数据库系统</a>, <a href=\"/item/%E5%85%B3%E7%B3%BB%E5%9E%8B%E6%95%B0%E6%8D%AE%E5%BA%93\" target=\"_blank\">关系型数据库</a>, <a href=\"/item/%E9%9D%A2%E5%90%91%E5%AF%B9%E8%B1%A1\" target=\"_blank\">面向对象</a>, <a href=\"/item/%E5%85%B3%E7%B3%BB%E5%9E%8B%E6%95%B0%E6%8D%AE%E5%BA%93\" target=\"_blank\">关系型数据库</a>, <a href=\"/item/%E6%83%85%E5%86%B5\" target=\"_blank\">情况</a>, <a href=\"/item/%E6%95%B0%E6%8D%AE%E5%BA%93%E7%B3%BB%E7%BB%9F\" target=\"_blank\">数据库系统</a>, <a href=\"/item/%E6%95%B0%E6%8D%AE%E5%BA%93%E7%B3%BB%E7%BB%9F\" target=\"_blank\">数据库系统</a>, <a href=\"/item/%E5%A4%A7%E5%AE%A2%E6%88%B7\" target=\"_blank\">大客户</a>, <a href=\"/item/%E9%9D%A2%E5%90%91%E5%AF%B9%E8%B1%A1\" target=\"_blank\">面向对象</a>, <a href=\"/item/%E5%85%B3%E7%B3%BB%E5%9E%8B%E6%95%B0%E6%8D%AE%E5%BA%93\" target=\"_blank\">关系型数据库</a>, <a href=\"/item/%E5%95%86%E5%AE%B6\" target=\"_blank\">商家</a>, <a href=\"/item/%E5%AE%A2%E6%88%B7\" target=\"_blank\">客户</a>, <a href=\"/item/%E6%95%B0%E6%8D%AE%E5%BA%93%E8%BD%AF%E4%BB%B6\" target=\"_blank\">数据库软件</a>, <a href=\"/item/%E8%81%94%E6%9C%BA%E5%88%86%E6%9E%90%E5%A4%84%E7%90%86\" target=\"_blank\">联机分析处理</a>, <a href=\"/item/%E5%86%B3%E7%AD%96%E6%94%AF%E6%8C%81%E7%B3%BB%E7%BB%9F\" target=\"_blank\">决策支持系统</a>, <a href=\"/item/%E8%AE%A1%E7%AE%97%E6%9C%BA%E7%B3%BB%E7%BB%9F\" target=\"_blank\">计算机系统</a>, <a href=\"/item/%E6%89%AB%E6%8F%8F%E4%BB%AA\" target=\"_blank\">扫描仪</a>, <a href=\"/item/%E8%BD%AF%E4%BB%B6\" target=\"_blank\">软件</a>, <a href=\"/item/%E4%BF%A1%E6%81%AF%E7%B3%BB%E7%BB%9F\" target=\"_blank\">信息系统</a>, <a href=\"/item/%E9%9D%A2%E5%90%91%E5%AF%B9%E8%B1%A1\" target=\"_blank\">面向对象</a>, <a href=\"/item/%E6%95%B0%E6%8D%AE%E5%BA%93%E7%B3%BB%E7%BB%9F\" target=\"_blank\">数据库系统</a>, <a href=\"/item/%E6%95%B0%E6%8D%AE%E4%BB%93%E5%BA%93\" target=\"_blank\">数据仓库</a>, <a href=\"/item/%E8%BD%AF%E4%BB%B6%E5%8C%85\" target=\"_blank\">软件包</a>, <a href=\"/item/%E6%95%B0%E6%8D%AE%E7%AE%A1%E7%90%86\" target=\"_blank\">数据管理</a>, <a href=\"/item/%E6%95%B0%E6%8D%AE%E7%AE%A1%E7%90%86\" target=\"_blank\">数据管理</a>, <a href=\"/item/%E6%95%B0%E6%8D%AE%E5%BA%93%E7%B3%BB%E7%BB%9F\" target=\"_blank\">数据库系统</a>, <a href=\"/item/%E6%95%B0%E6%8D%AE%E5%BA%93%E7%B3%BB%E7%BB%9F\" target=\"_blank\">数据库系统</a>, <a href=\"/item/%E9%AB%98%E7%BA%A7%E6%95%B0%E6%8D%AE%E5%BA%93\" target=\"_blank\">高级数据库</a>, <a href=\"/item/%E7%A1%AC%E4%BB%B6\" target=\"_blank\">硬件</a>, <a href=\"/item/%E7%A3%81%E5%B8%A6\" target=\"_blank\">磁带</a>, <a href=\"/item/%E8%BD%AF%E4%BB%B6\" target=\"_blank\">软件</a>, <a href=\"/item/%E6%93%8D%E4%BD%9C%E7%B3%BB%E7%BB%9F\" target=\"_blank\">操作系统</a>, <a href=\"/item/%E7%A7%91%E5%AD%A6%E8%AE%A1%E7%AE%97\" target=\"_blank\">科学计算</a>, <a href=\"/item/%E8%BD%AF%E4%BB%B6%E7%B3%BB%E7%BB%9F\" target=\"_blank\">软件系统</a>, <a href=\"/item/%E7%A8%8B%E5%BA%8F%E5%91%98\" target=\"_blank\">程序员</a>, <a href=\"/item/%E9%80%BB%E8%BE%91%E7%BB%93%E6%9E%84\" target=\"_blank\">逻辑结构</a>, <a href=\"/item/%E7%89%A9%E7%90%86%E7%BB%93%E6%9E%84\" target=\"_blank\">物理结构</a>, <a href=\"/item/%E5%AD%98%E5%8F%96%E6%96%B9%E6%B3%95\" target=\"_blank\">存取方法</a>, <a href=\"/item/%E7%94%A8%E6%88%B7%E7%A8%8B%E5%BA%8F\" target=\"_blank\">用户程序</a>, <a href=\"/item/%E7%A8%8B%E5%BA%8F\" target=\"_blank\">程序</a>, <a href=\"/item/%E5%BA%94%E7%94%A8%E7%A8%8B%E5%BA%8F\" target=\"_blank\">应用程序</a>, <a href=\"/item/%E6%95%B0%E6%8D%AE%E7%AE%A1%E7%90%86\" target=\"_blank\">数据管理</a>, <a href=\"/item/%E8%BD%AF%E4%BB%B6\" target=\"_blank\">软件</a>, <a href=\"/item/%E7%A8%8B%E5%BA%8F\" target=\"_blank\">程序</a>, <a href=\"/item/%E6%95%B0%E6%8D%AE%E5%A4%84%E7%90%86\" target=\"_blank\">数据处理</a>, <a href=\"/item/%E6%89%B9%E5%A4%84%E7%90%86\" target=\"_blank\">批处理</a>, <a href=\"/item/%E8%BD%AF%E4%BB%B6\" target=\"_blank\">软件</a>, <a href=\"/item/%E6%93%8D%E4%BD%9C%E7%B3%BB%E7%BB%9F\" target=\"_blank\">操作系统</a>, <a href=\"/item/%E6%96%87%E4%BB%B6%E7%AE%A1%E7%90%86\" target=\"_blank\">文件管理</a>, <a href=\"/item/%E7%A1%AC%E7%9B%98\" target=\"_blank\">硬盘</a>, <a href=\"/item/%E8%BD%AF%E4%BB%B6%E6%8A%80%E6%9C%AF\" target=\"_blank\">软件技术</a>, <a href=\"/item/%E7%95%8C%E9%9D%A2\" target=\"_blank\">界面</a>, <a href=\"/item/%E6%95%B0%E6%8D%AE%E7%AE%A1%E7%90%86\" target=\"_blank\">数据管理</a>, <a href=\"/item/%E7%A8%8B%E5%BA%8F\" target=\"_blank\">程序</a>, <a href=\"/item/%E7%A8%8B%E5%BA%8F\" target=\"_blank\">程序</a>, <a href=\"/item/%E5%A4%96%E5%AD%98%E5%82%A8%E5%99%A8\" target=\"_blank\">外存储器</a>, <a href=\"/item/%E5%BA%94%E7%94%A8%E7%A8%8B%E5%BA%8F\" target=\"_blank\">应用程序</a>, <a href=\"/item/%E7%A8%8B%E5%BA%8F\" target=\"_blank\">程序</a>, <a href=\"/item/%E5%BA%94%E7%94%A8%E7%A8%8B%E5%BA%8F\" target=\"_blank\">应用程序</a>, <a href=\"/item/%E7%8E%B0%E5%AE%9E%E4%B8%96%E7%95%8C\" target=\"_blank\">现实世界</a>, <a href=\"/item/%E5%BA%94%E7%94%A8%E7%A8%8B%E5%BA%8F\" target=\"_blank\">应用程序</a>, <a href=\"/item/%E6%95%B0%E6%8D%AE%E5%86%97%E4%BD%99\" target=\"_blank\">数据冗余</a>, <a href=\"/item/%E6%95%B0%E6%8D%AE%E7%AE%A1%E7%90%86\" target=\"_blank\">数据管理</a>, <a href=\"/item/%E6%95%B0%E6%8D%AE%E7%AE%A1%E7%90%86%E6%8A%80%E6%9C%AF\" target=\"_blank\">数据管理技术</a>, <a href=\"/item/%E7%A8%8B%E5%BA%8F\" target=\"_blank\">程序</a>, <a href=\"/item/%E5%BA%94%E7%94%A8%E7%A8%8B%E5%BA%8F\" target=\"_blank\">应用程序</a>, <a href=\"/item/%E9%9C%80%E6%B1%82\" target=\"_blank\">需求</a>, <a href=\"/item/%E5%BA%94%E7%94%A8%E7%A8%8B%E5%BA%8F\" target=\"_blank\">应用程序</a>, <a href=\"/item/%E6%95%B0%E6%8D%AE%E7%BB%93%E6%9E%84\" target=\"_blank\">数据结构</a>, <a href=\"/item/%E5%AE%89%E5%85%A8%E6%80%A7\" target=\"_blank\">安全性</a>, <a href=\"/item/%E5%B9%B6%E5%8F%91%E6%8E%A7%E5%88%B6\" target=\"_blank\">并发控制</a>, <a href=\"/item/%E7%A8%8B%E5%BA%8F\" target=\"_blank\">程序</a>, <a href=\"/item/%E6%8E%A5%E5%8F%A3\" target=\"_blank\">接口</a>, <a href=\"/item/%E6%95%B0%E6%8D%AE%E5%BA%93%E7%B3%BB%E7%BB%9F\" target=\"_blank\">数据库系统</a>, <a href=\"/item/%E4%BF%A1%E6%81%AF%E5%A4%84%E7%90%86\" target=\"_blank\">信息处理</a>, <a href=\"/item/%E7%A8%8B%E5%BA%8F%E8%AE%BE%E8%AE%A1\" target=\"_blank\">程序设计</a>, <a href=\"/item/%E5%BA%94%E7%94%A8%E7%A8%8B%E5%BA%8F\" target=\"_blank\">应用程序</a>, <a href=\"/item/%E4%BF%A1%E6%81%AF%E7%AE%A1%E7%90%86\" target=\"_blank\">信息管理</a>, <a href=\"/item/%E6%95%B0%E6%8D%AE%E6%A8%A1%E5%9E%8B\" target=\"_blank\">数据模型</a>, <a href=\"/item/%E5%B1%82%E6%AC%A1%E6%A8%A1%E5%9E%8B\" target=\"_blank\">层次模型</a>, <a href=\"/item/%E7%BD%91%E7%8A%B6%E6%A8%A1%E5%9E%8B\" target=\"_blank\">网状模型</a>, <a href=\"/item/%E9%9D%A2%E5%90%91%E5%AF%B9%E8%B1%A1%E6%A8%A1%E5%9E%8B\" target=\"_blank\">面向对象模型</a>, <a href=\"/item/%E6%95%B0%E6%8D%AE%E6%B5%81\" target=\"_blank\">数据流</a>, <a href=\"/item/%E6%95%B0%E6%8D%AE%E7%AE%A1%E7%90%86\" target=\"_blank\">数据管理</a>, <a href=\"/item/%E6%95%B0%E6%8D%AE%E6%8C%96%E6%8E%98\" target=\"_blank\">数据挖掘</a>, <a href=\"/item/%E6%8A%A5%E5%91%8A\" target=\"_blank\">报告</a>]\n"
     ]
    },
    {
     "name": "stdout",
     "output_type": "stream",
     "text": [
      "3 简历     url:  /item/%E7%AE%80%E5%8E%86\n",
      "[<a href=\"/item/%E7%99%BE%E5%BA%A6%E7%99%BE%E7%A7%91%EF%BC%9A%E5%A4%9A%E4%B9%89%E8%AF%8D\" target=\"_blank\">多义词</a>, <a href=\"/item/%E4%B9%89%E9%A1%B9\" target=\"_blank\">义项</a>, <a href=\"/item/%E9%A1%BE%E5%90%8D%E6%80%9D%E4%B9%89\" target=\"_blank\">顾名思义</a>, <a href=\"/item/%E7%89%B9%E9%95%BF\" target=\"_blank\">特长</a>, <a href=\"/item/%E6%83%85%E5%86%B5\" target=\"_blank\">情况</a>, <a href=\"/item/%E4%BB%8B%E7%BB%8D\" target=\"_blank\">介绍</a>, <a href=\"/item/%E8%A7%84%E8%8C%83%E5%8C%96\" target=\"_blank\">规范化</a>, <a href=\"/item/%E6%95%B2%E9%97%A8%E7%A0%96\" target=\"_blank\">敲门砖</a>, <a href=\"/item/%E5%BA%94%E8%81%98\" target=\"_blank\">应聘</a>, <a href=\"/item/%E6%B1%82%E8%81%8C%E4%BF%A1\" target=\"_blank\">求职信</a>, <a href=\"/item/%E8%81%8C%E4%BD%8D\" target=\"_blank\">职位</a>, <a href=\"/item/%E5%B1%A5%E5%8E%86%E8%A1%A8\" target=\"_blank\">履历表</a>, <a href=\"/item/%E6%8B%9B%E8%81%98%E7%BB%8F%E7%90%86\" target=\"_blank\">招聘经理</a>, <a href=\"/item/%E4%BE%9D%E6%8D%AE\" target=\"_blank\">依据</a>, <a href=\"/item/%E8%8B%B1%E6%96%87%E7%AE%80%E5%8E%86\" target=\"_blank\">英文简历</a>, <a href=\"/item/%E7%AE%A1%E7%90%86\" target=\"_blank\">管理</a>, <a href=\"/item/%E5%A4%96%E5%9B%BD\" target=\"_blank\">外国</a>, <a href=\"/item/%E7%94%B5%E5%AD%90%E7%AE%80%E5%8E%86\" target=\"_blank\">电子简历</a>, <a href=\"/item/%E5%A4%8D%E5%8D%B0%E7%BA%B8\" target=\"_blank\">复印纸</a>, <a href=\"/item/%E8%96%AA%E6%B0%B4\" target=\"_blank\">薪水</a>, <a href=\"/item/%E7%AE%80%E5%8E%86%E6%A8%A1%E6%9D%BF\" target=\"_blank\">简历模板</a>, <a href=\"/item/%E6%B1%82%E8%81%8C%E6%84%8F%E5%90%91\" target=\"_blank\">求职意向</a>, <a href=\"/item/%E8%96%AA%E8%B5%84\" target=\"_blank\">薪资</a>, <a href=\"/item/%E5%BE%85%E9%81%87\" target=\"_blank\">待遇</a>, <a href=\"/item/%E5%BA%94%E8%81%98\" target=\"_blank\">应聘</a>, <a href=\"/item/%E5%89%8D%E7%A8%8B%E6%97%A0%E5%BF%A7\" target=\"_blank\">前程无忧</a>]\n",
      "4 薪水     url:  /item/%E8%96%AA%E6%B0%B4\n",
      "[<a href=\"/item/%E8%96%AA%E4%BF%B8\" target=\"_blank\">薪俸</a>, <a href=\"/item/%E8%96%AA%E7%BB%99\" target=\"_blank\">薪给</a>, <a href=\"/item/%E8%96%AA%E9%87%91\" target=\"_blank\">薪金</a>, <a href=\"/item/%E8%96%AA%E9%A5%B7\" target=\"_blank\">薪饷</a>, <a href=\"/item/%E8%96%AA%E8%B5%84\" target=\"_blank\">薪资</a>, <a href=\"/item/%E8%96%AA%E4%BF%B8\" target=\"_blank\">薪俸</a>, <a href=\"/item/%E8%96%AA%E7%BB%99\" target=\"_blank\">薪给</a>, <a href=\"/item/%E8%96%AA%E9%87%91\" target=\"_blank\">薪金</a>, <a href=\"/item/%E7%94%9F%E6%B4%BB%E5%BF%85%E9%9C%80%E5%93%81\" target=\"_blank\">生活必需品</a>, <a href=\"/item/%E7%94%9F%E6%B4%BB%E5%BF%85%E9%9C%80%E5%93%81\" target=\"_blank\">生活必需品</a>, <a href=\"/item/%E5%8D%A2%E7%8E%84\" target=\"_blank\">卢玄</a>, <a href=\"/item/%E5%8F%B6%E9%80%82\" target=\"_blank\">叶适</a>, <a href=\"/item/%E8%A5%84%E5%9F%8E\" target=\"_blank\">襄城</a>, <a href=\"/item/%E8%A2%81%E5%8F%AF%E7%AB%8B\" target=\"_blank\">袁可立</a>, <a href=\"/item/%E5%84%92%E6%9E%97%E5%A4%96%E5%8F%B2\" target=\"_blank\">儒林外史</a>, <a href=\"/item/%E4%BF%B8%E9%93%B6\" target=\"_blank\">俸银</a>, <a href=\"/item/%E9%99%B6%E6%BD%9C\" target=\"_blank\">陶潜</a>, <a href=\"/item/%E5%85%83%E7%A8%B9\" target=\"_blank\">元稹</a>, <a href=\"/item/%E4%BF%9E%E6%A8%BE\" target=\"_blank\">俞樾</a>, <a href=\"/item/%E9%82%B9%E9%9F%AC%E5%A5%8B\" target=\"_blank\">邹韬奋</a>, <a href=\"/item/%E8%81%8C%E4%B8%9A%E4%BF%AE%E5%85%BB\" target=\"_blank\">职业修养</a>, <a href=\"/item/%E6%9B%B9%E7%A6%BA\" target=\"_blank\">曹禺</a>, <a href=\"/item/%E6%94%B6%E6%8D%AE\" target=\"_blank\">收据</a>, <a href=\"/item/%E5%B7%A5%E8%B5%84%E6%A0%87%E5%87%86\" target=\"_blank\">工资标准</a>, <a href=\"/item/%E5%B7%A5%E4%BD%9C%E6%97%A5\" target=\"_blank\">工作日</a>, <a href=\"/item/%E6%97%B6%E8%96%AA\" target=\"_blank\">时薪</a>, <a href=\"/item/%E8%AE%A1%E4%BB%B6%E5%B7%A5%E8%B5%84\" target=\"_blank\">计件工资</a>, <a href=\"/item/%E4%B8%AA%E4%BA%BA%E6%89%80%E5%BE%97%E7%A8%8E\" target=\"_blank\">个人所得税</a>, <a href=\"/item/%E5%8C%BB%E7%96%97%E4%BF%9D%E9%99%A9\" target=\"_blank\">医疗保险</a>, <a href=\"/item/%E5%B7%A5%E8%B5%84%E6%A0%87%E5%87%86\" target=\"_blank\">工资标准</a>, <a href=\"/item/%E6%9C%88%E7%BB%99\" target=\"_blank\">月给</a>, <a href=\"/item/%E6%9C%88%E8%96%AA\" target=\"_blank\">月薪</a>, <a href=\"/item/%E8%BF%9C%E5%BE%81%E5%86%9B\" target=\"_blank\">远征军</a>, <a href=\"/item/%E5%8F%B0%E4%BC%AF%E6%B2%B3\" target=\"_blank\">台伯河</a>, <a href=\"/item/%E5%8F%A4%E5%B8%8C%E8%85%8A\" target=\"_blank\">古希腊</a>, <a href=\"/item/%E7%A7%81%E8%90%A5%E4%BC%81%E4%B8%9A\" target=\"_blank\">私营企业</a>, <a href=\"/item/%E4%BA%BA%E9%99%85%E7%BD%91%E7%BB%9C\" target=\"_blank\">人际网络</a>, <a href=\"/item/%E7%BB%A9%E6%95%88\" target=\"_blank\">绩效</a>, <a href=\"/item/%E9%AB%98%E8%96%AA\" target=\"_blank\">高薪</a>, <a href=\"/item/%E6%97%B6%E9%97%B4%E7%AE%A1%E7%90%86\" target=\"_blank\">时间管理</a>, <a href=\"/item/%E5%B7%A5%E4%BD%9C%E5%93%81%E8%B4%A8\" target=\"_blank\">工作品质</a>, <a href=\"/item/%E9%AB%98%E5%B3%B0%E6%97%B6%E9%97%B4\" target=\"_blank\">高峰时间</a>, <a href=\"/item/%E5%8A%B3%E5%8A%A8%E4%BA%89%E8%AE%AE%E6%A1%88%E4%BB%B6\" target=\"_blank\">劳动争议案件</a>, <a href=\"/item/%E5%B7%A5%E8%B5%84%E6%9D%A1\" target=\"_blank\">工资条</a>, <a href=\"/item/%E5%B2%97%E4%BD%8D%E5%B7%A5%E8%B5%84\" target=\"_blank\">岗位工资</a>, <a href=\"/item/%E4%B8%9A%E7%BB%A9\" target=\"_blank\">业绩</a>]\n"
     ]
    }
   ],
   "source": [
    "import random\n",
    "base_url = \"https://baike.baidu.com\"\n",
    "his = [\"/item/%E7%BD%91%E7%BB%9C%E7%88%AC%E8%99%AB/5162711\"]\n",
    "\n",
    "for i in range(5):\n",
    "    url = base_url + his[-1]\n",
    "\n",
    "    html = urlopen(url).read().decode('utf-8')\n",
    "    soup = BeautifulSoup(html, features='lxml')\n",
    "    print(i, soup.find('h1').text, '    url: ', his[-1])\n",
    "\n",
    "    # find valid urls\n",
    "    sub_urls = soup.find_all(\"a\", {\"target\": \"_blank\", \"href\": re.compile(\"/item/(%.{2})+$\")})\n",
    "    print(sub_urls)\n",
    "\n",
    "    if len(sub_urls) != 0:\n",
    "        his.append(random.sample(sub_urls, 1)[0]['href'])\n",
    "    else:\n",
    "        # no valid sub link found\n",
    "        his.pop()"
   ]
  },
  {
   "cell_type": "code",
   "execution_count": 26,
   "metadata": {},
   "outputs": [
    {
     "data": {
      "text/plain": [
       "6"
      ]
     },
     "execution_count": 26,
     "metadata": {},
     "output_type": "execute_result"
    }
   ],
   "source": [
    "def averager():\n",
    "    sum = 0\n",
    "    num = 0\n",
    "    while True:\n",
    "        sum += (yield sum / num if num > 0 else 0)\n",
    "        num += 1\n",
    "\n",
    "x = averager()\n",
    "x.send(None)\n",
    "#=> 0\n",
    "x.send(1)\n",
    "#=> 1.0\n",
    "x.send(2)\n",
    "#=> 1.5\n",
    "x.send(3)"
   ]
  }
 ],
 "metadata": {
  "kernelspec": {
   "display_name": "Python 3",
   "language": "python",
   "name": "python3"
  },
  "language_info": {
   "codemirror_mode": {
    "name": "ipython",
    "version": 3
   },
   "file_extension": ".py",
   "mimetype": "text/x-python",
   "name": "python",
   "nbconvert_exporter": "python",
   "pygments_lexer": "ipython3",
   "version": "3.6.1"
  }
 },
 "nbformat": 4,
 "nbformat_minor": 2
}
