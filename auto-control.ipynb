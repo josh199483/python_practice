{
 "cells": [
  {
   "cell_type": "code",
   "execution_count": 2,
   "metadata": {
    "scrolled": true
   },
   "outputs": [
    {
     "name": "stdout",
     "output_type": "stream",
     "text": [
      "Collecting PyAutoGUI\n",
      "  Downloading PyAutoGUI-0.9.36.tar.gz (46kB)\n",
      "Collecting pymsgbox (from PyAutoGUI)\n",
      "  Downloading PyMsgBox-1.0.6.zip\n",
      "Collecting PyTweening>=1.0.1 (from PyAutoGUI)\n",
      "  Downloading PyTweening-1.0.3.zip\n",
      "Requirement already satisfied: Pillow in c:\\users\\joshua.chen\\appdata\\local\\continuum\\anaconda3\\lib\\site-packages (from PyAutoGUI)\n",
      "Collecting pyscreeze (from PyAutoGUI)\n",
      "  Downloading PyScreeze-0.1.11.tar.gz\n",
      "Requirement already satisfied: olefile in c:\\users\\joshua.chen\\appdata\\local\\continuum\\anaconda3\\lib\\site-packages (from Pillow->PyAutoGUI)\n",
      "Building wheels for collected packages: PyAutoGUI, pymsgbox, PyTweening, pyscreeze\n",
      "  Running setup.py bdist_wheel for PyAutoGUI: started\n",
      "  Running setup.py bdist_wheel for PyAutoGUI: finished with status 'done'\n",
      "  Stored in directory: C:\\Users\\joshua.chen\\AppData\\Local\\pip\\Cache\\wheels\\9f\\cb\\d6\\e1a8e98f118b45631ce4e6b35f7a6a8781a850ca0e04404dde\n",
      "  Running setup.py bdist_wheel for pymsgbox: started\n",
      "  Running setup.py bdist_wheel for pymsgbox: finished with status 'done'\n",
      "  Stored in directory: C:\\Users\\joshua.chen\\AppData\\Local\\pip\\Cache\\wheels\\c1\\cb\\86\\c3c2e3c39f9f0d015cf0f94ab6ca41e14f8c2083846e82b91d\n",
      "  Running setup.py bdist_wheel for PyTweening: started\n",
      "  Running setup.py bdist_wheel for PyTweening: finished with status 'done'\n",
      "  Stored in directory: C:\\Users\\joshua.chen\\AppData\\Local\\pip\\Cache\\wheels\\04\\86\\59\\70a93cd378740b5266c51e11c36ee3fc8b9dfef4b3bc72fd82\n",
      "  Running setup.py bdist_wheel for pyscreeze: started\n",
      "  Running setup.py bdist_wheel for pyscreeze: finished with status 'done'\n",
      "  Stored in directory: C:\\Users\\joshua.chen\\AppData\\Local\\pip\\Cache\\wheels\\7c\\03\\7f\\9e9ae74dbb44dd13663e4e040c7662520da97ce0fa5ea9f8fb\n",
      "Successfully built PyAutoGUI pymsgbox PyTweening pyscreeze\n",
      "Installing collected packages: pymsgbox, PyTweening, pyscreeze, PyAutoGUI\n",
      "Successfully installed PyAutoGUI-0.9.36 PyTweening-1.0.3 pymsgbox-1.0.6 pyscreeze-0.1.11\n"
     ]
    }
   ],
   "source": [
    "!pip install PyAutoGUI"
   ]
  },
  {
   "cell_type": "code",
   "execution_count": 3,
   "metadata": {
    "collapsed": true
   },
   "outputs": [],
   "source": [
    "import pyautogui\n"
   ]
  },
  {
   "cell_type": "code",
   "execution_count": 8,
   "metadata": {
    "collapsed": true,
    "scrolled": true
   },
   "outputs": [],
   "source": [
    "pyautogui.size()\n",
    "pyautogui.moveTo(pyautogui.size(),duration=0.5)"
   ]
  },
  {
   "cell_type": "code",
   "execution_count": 6,
   "metadata": {
    "collapsed": true
   },
   "outputs": [],
   "source": [
    "pyautogui.keyDown('winleft')\n",
    "pyautogui.keyDown('d')\n",
    "# pyautogui.keyUp('winleft')\n",
    "# pyautogui.keyUp('d')"
   ]
  },
  {
   "cell_type": "code",
   "execution_count": 12,
   "metadata": {
    "scrolled": true
   },
   "outputs": [
    {
     "name": "stdout",
     "output_type": "stream",
     "text": [
      "(79, 315, 66, 71)\n"
     ]
    }
   ],
   "source": [
    "# def find_location(location):\n",
    "    \n",
    "#     if location is None:\n",
    "#         pass\n",
    "        \n",
    "#     else:\n",
    "#         x, y = pyautogui.center(location)\n",
    "#         pyautogui.click(x, y)\n",
    "\n",
    "\n",
    "#pngList = [\"b.png\",\"c.png\"]\n",
    "#pyautogui.click(button7location)\n",
    "#pyautogui.hotkey('winleft', 'd')\n",
    "location = pyautogui.locateOnScreen('d.png')\n",
    "print(location)\n",
    "x, y = pyautogui.center(location)\n",
    "pyautogui.doubleClick(x,y)\n",
    "# for i in pngList:\n",
    "#     location = pyautogui.locateOnScreen(i)\n",
    "#     find_location(location)\n",
    "    \n",
    "    \n",
    "    \n"
   ]
  },
  {
   "cell_type": "code",
   "execution_count": 5,
   "metadata": {
    "scrolled": false
   },
   "outputs": [
    {
     "name": "stdout",
     "output_type": "stream",
     "text": [
      "Collecting pyWinAuto\n",
      "  Downloading pywinauto-0.6.2-1.zip (505kB)\n",
      "Requirement already satisfied: six in c:\\users\\joshua.chen\\appdata\\local\\continuum\\anaconda3\\lib\\site-packages (from pyWinAuto)\n",
      "Requirement already satisfied: comtypes in c:\\users\\joshua.chen\\appdata\\local\\continuum\\anaconda3\\lib\\site-packages (from pyWinAuto)\n",
      "Building wheels for collected packages: pyWinAuto\n",
      "  Running setup.py bdist_wheel for pyWinAuto: started\n",
      "  Running setup.py bdist_wheel for pyWinAuto: finished with status 'done'\n",
      "  Stored in directory: C:\\Users\\joshua.chen\\AppData\\Local\\pip\\Cache\\wheels\\48\\f2\\cf\\549b15f185bc4e9fedafda46cbb24aa0eeb8289cfa999bf378\n",
      "Successfully built pyWinAuto\n",
      "Installing collected packages: pyWinAuto\n",
      "Successfully installed pyWinAuto-0.6.2\n"
     ]
    }
   ],
   "source": [
    "!pip install pyWinAuto"
   ]
  },
  {
   "cell_type": "code",
   "execution_count": 9,
   "metadata": {
    "collapsed": true
   },
   "outputs": [],
   "source": [
    "\n",
    "from pywinauto import application\n",
    "\n",
    "import time\n",
    "\n"
   ]
  },
  {
   "cell_type": "code",
   "execution_count": 8,
   "metadata": {},
   "outputs": [
    {
     "ename": "AppStartError",
     "evalue": "Could not create the process \"C:/Program Files/BurnInTest/bit.exe\"\nError returned by CreateProcess: (740, 'CreateProcess', '要求的作業需要提升的權限。')",
     "output_type": "error",
     "traceback": [
      "\u001b[1;31m---------------------------------------------------------------------------\u001b[0m",
      "\u001b[1;31merror\u001b[0m                                     Traceback (most recent call last)",
      "\u001b[1;32mC:\\Users\\joshua.chen\\AppData\\Local\\Continuum\\Anaconda3\\lib\\site-packages\\pywinauto\\application.py\u001b[0m in \u001b[0;36mstart\u001b[1;34m(self, cmd_line, timeout, retry_interval, create_new_console, wait_for_idle)\u001b[0m\n\u001b[0;32m    943\u001b[0m                 \u001b[1;32mNone\u001b[0m\u001b[1;33m,\u001b[0m                                   \u001b[1;31m# Use parent's starting directory.\u001b[0m\u001b[1;33m\u001b[0m\u001b[0m\n\u001b[1;32m--> 944\u001b[1;33m                 start_info)\t\t\t\t# STARTUPINFO structure.\n\u001b[0m\u001b[0;32m    945\u001b[0m         \u001b[1;32mexcept\u001b[0m \u001b[0mException\u001b[0m \u001b[1;32mas\u001b[0m \u001b[0mexc\u001b[0m\u001b[1;33m:\u001b[0m\u001b[1;33m\u001b[0m\u001b[0m\n",
      "\u001b[1;31merror\u001b[0m: (740, 'CreateProcess', '要求的作業需要提升的權限。')",
      "\nDuring handling of the above exception, another exception occurred:\n",
      "\u001b[1;31mAppStartError\u001b[0m                             Traceback (most recent call last)",
      "\u001b[1;32m<ipython-input-8-ee3b64060ffc>\u001b[0m in \u001b[0;36m<module>\u001b[1;34m()\u001b[0m\n\u001b[0;32m      1\u001b[0m \u001b[1;32mfrom\u001b[0m \u001b[0mpywinauto\u001b[0m\u001b[1;33m.\u001b[0m\u001b[0mapplication\u001b[0m \u001b[1;32mimport\u001b[0m \u001b[0mApplication\u001b[0m\u001b[1;33m\u001b[0m\u001b[0m\n\u001b[1;32m----> 2\u001b[1;33m \u001b[0mapp\u001b[0m \u001b[1;33m=\u001b[0m \u001b[0mApplication\u001b[0m\u001b[1;33m(\u001b[0m\u001b[1;33m)\u001b[0m\u001b[1;33m.\u001b[0m\u001b[0mstart\u001b[0m\u001b[1;33m(\u001b[0m\u001b[1;34m\"C:/Program Files/BurnInTest/bit.exe\"\u001b[0m\u001b[1;33m)\u001b[0m\u001b[1;33m\u001b[0m\u001b[0m\n\u001b[0m\u001b[0;32m      3\u001b[0m \u001b[1;31m#app.UntitledNotepad.MenuSelect(\"檔案->結束\")\u001b[0m\u001b[1;33m\u001b[0m\u001b[1;33m\u001b[0m\u001b[0m\n",
      "\u001b[1;32mC:\\Users\\joshua.chen\\AppData\\Local\\Continuum\\Anaconda3\\lib\\site-packages\\pywinauto\\application.py\u001b[0m in \u001b[0;36mstart\u001b[1;34m(self, cmd_line, timeout, retry_interval, create_new_console, wait_for_idle)\u001b[0m\n\u001b[0;32m    947\u001b[0m             message = ('Could not create the process \"%s\"\\n'\n\u001b[0;32m    948\u001b[0m                        'Error returned by CreateProcess: %s') % (cmd_line, str(exc))\n\u001b[1;32m--> 949\u001b[1;33m             \u001b[1;32mraise\u001b[0m \u001b[0mAppStartError\u001b[0m\u001b[1;33m(\u001b[0m\u001b[0mmessage\u001b[0m\u001b[1;33m)\u001b[0m\u001b[1;33m\u001b[0m\u001b[0m\n\u001b[0m\u001b[0;32m    950\u001b[0m \u001b[1;33m\u001b[0m\u001b[0m\n\u001b[0;32m    951\u001b[0m         \u001b[0mself\u001b[0m\u001b[1;33m.\u001b[0m\u001b[0mprocess\u001b[0m \u001b[1;33m=\u001b[0m \u001b[0mdw_process_id\u001b[0m\u001b[1;33m\u001b[0m\u001b[0m\n",
      "\u001b[1;31mAppStartError\u001b[0m: Could not create the process \"C:/Program Files/BurnInTest/bit.exe\"\nError returned by CreateProcess: (740, 'CreateProcess', '要求的作業需要提升的權限。')"
     ]
    }
   ],
   "source": [
    "from pywinauto.application import Application\n",
    "app = Application().start(\"C:/Program Files/BurnInTest/bit.exe\")\n",
    "#app.UntitledNotepad.MenuSelect(\"檔案->結束\")"
   ]
  },
  {
   "cell_type": "code",
   "execution_count": 143,
   "metadata": {},
   "outputs": [
    {
     "data": {
      "text/plain": [
       "<pywinauto.controls.common_controls.TabControlWrapper at 0x1bdf2df1d68>"
      ]
     },
     "execution_count": 143,
     "metadata": {},
     "output_type": "execute_result"
    }
   ],
   "source": [
    "from pywinauto.application import Application\n",
    "from pywinauto.keyboard import SendKeys\n",
    "import time\n",
    "app = Application().Start(cmd_line=u'C:\\\\Program Files\\\\AutoIt3\\\\Au3Info_x64.exe')\n",
    "auinfo = app.Au3Info\n",
    "auinfo.Wait('ready')\n",
    "menu_item = auinfo.MenuItem(u'&Help->About...')\n",
    "menu_item.Click()\n",
    "time.sleep(0.5)\n",
    "#按確定鍵\n",
    "# menu_item.Wait('ready')\n",
    "# button = window[u'\\u78ba\\u5b9a']\n",
    "# button.Click()\n",
    "SendKeys('{ENTER}')\n",
    "\n",
    "#切換到summary\n",
    "# auinfo2 = app.Au3Info\n",
    "# auinfo2.Wait('ready')\n",
    "systabcontrol = auinfo.TabControl\n",
    "systabcontrol.Select(u'Summary')\n",
    "\n",
    "#app.Kill_()"
   ]
  },
  {
   "cell_type": "code",
   "execution_count": 14,
   "metadata": {},
   "outputs": [
    {
     "data": {
      "text/plain": [
       "True"
      ]
     },
     "execution_count": 14,
     "metadata": {},
     "output_type": "execute_result"
    }
   ],
   "source": [
    "from pywinauto.application import Application\n",
    "from pywinauto.keyboard import SendKeys\n",
    "import time\n",
    "from pywinauto import mouse\n",
    "from pywinauto.findwindows import enum_windows\n",
    "\n",
    "import os\n",
    "os.chdir('C:/Users/joshua.chen/Pictures')\n",
    "if os.path.exists('未命名.png')== True:\n",
    "    os.remove('未命名.png')\n",
    "\n",
    "app = Application().Start(cmd_line=u'C:\\Windows\\system32\\mspaint.exe')\n",
    "paint = app.MSPaintApp\n",
    "paint.Wait('ready')\n",
    "# mouse.move((600,150))\n",
    "mouse.click(coords=(600,150))\n",
    "mouse.move((500,300))\n",
    "paint.drag_mouse_input(button='left',src=(500,300),dst=(600,400))\n",
    "mouse.click(coords=(490,150))\n",
    "mouse.click(coords=(530,330))\n",
    "mouse.move((550,300))\n",
    "time.sleep(1)\n",
    "mouse.click(coords=(210,100))\n",
    "mouse.click(coords=(770,150))\n",
    "mouse.click(coords=(770,350))\n",
    "mouse.click(coords=(530,330))\n",
    "mouse.click(coords=(570,330))\n",
    "\n",
    "# paint.wheel_mouse_input(coords=(200,200))\n",
    "paint.drag_mouse_input(button='left',src=(530,360),dst=(550,385))\n",
    "paint.drag_mouse_input(button='left',src=(550,385),dst=(570,360))\n",
    "SendKeys('^s')\n",
    "mouse.click(coords=(500,130))\n",
    "SendKeys('C:/Users/joshua.chen/Pictures')\n",
    "SendKeys('{ENTER}')\n",
    "mouse.click(coords=(680,530))\n",
    "# time.sleep(0.5)\n",
    "# SendKeys('{ENTER}')\n",
    "# mouse.click(coords=(880,570))\n",
    "\n",
    "app.kill_()"
   ]
  },
  {
   "cell_type": "code",
   "execution_count": 15,
   "metadata": {},
   "outputs": [
    {
     "name": "stdout",
     "output_type": "stream",
     "text": [
      "Collecting py2exe\n",
      "  Downloading py2exe-0.9.2.2-py33.py34-none-any.whl (270kB)\n",
      "Installing collected packages: py2exe\n",
      "Successfully installed py2exe-0.9.2.2\n"
     ]
    }
   ],
   "source": [
    "!pip install py2exe"
   ]
  },
  {
   "cell_type": "code",
   "execution_count": 156,
   "metadata": {
    "scrolled": false
   },
   "outputs": [
    {
     "name": "stdout",
     "output_type": "stream",
     "text": [
      "Collecting pyinstaller\n",
      "  Downloading PyInstaller-3.2.1.tar.bz2 (2.4MB)\n",
      "Requirement already satisfied: setuptools in c:\\users\\joshua.chen\\appdata\\local\\continuum\\anaconda3\\lib\\site-packages\\setuptools-27.2.0-py3.6.egg (from pyinstaller)\n",
      "Collecting future (from pyinstaller)\n",
      "  Downloading future-0.16.0.tar.gz (824kB)\n",
      "Building wheels for collected packages: pyinstaller, future\n",
      "  Running setup.py bdist_wheel for pyinstaller: started\n",
      "  Running setup.py bdist_wheel for pyinstaller: finished with status 'done'\n",
      "  Stored in directory: C:\\Users\\joshua.chen\\AppData\\Local\\pip\\Cache\\wheels\\0b\\d9\\68\\d6ac226a577f9a16459d486c5fe1a71cdc5846dd6515a13b0f\n",
      "  Running setup.py bdist_wheel for future: started\n",
      "  Running setup.py bdist_wheel for future: finished with status 'done'\n",
      "  Stored in directory: C:\\Users\\joshua.chen\\AppData\\Local\\pip\\Cache\\wheels\\c2\\50\\7c\\0d83b4baac4f63ff7a765bd16390d2ab43c93587fac9d6017a\n",
      "Successfully built pyinstaller future\n",
      "Installing collected packages: future, pyinstaller\n",
      "Successfully installed future-0.16.0 pyinstaller-3.2.1\n"
     ]
    }
   ],
   "source": [
    "!pip install pyinstaller"
   ]
  }
 ],
 "metadata": {
  "kernelspec": {
   "display_name": "Python 3",
   "language": "python",
   "name": "python3"
  },
  "language_info": {
   "codemirror_mode": {
    "name": "ipython",
    "version": 3
   },
   "file_extension": ".py",
   "mimetype": "text/x-python",
   "name": "python",
   "nbconvert_exporter": "python",
   "pygments_lexer": "ipython3",
   "version": "3.6.1"
  }
 },
 "nbformat": 4,
 "nbformat_minor": 2
}
