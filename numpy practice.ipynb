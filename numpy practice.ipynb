{
 "cells": [
  {
   "cell_type": "code",
   "execution_count": 1,
   "metadata": {},
   "outputs": [
    {
     "name": "stdout",
     "output_type": "stream",
     "text": [
      "Requirement already satisfied (use --upgrade to upgrade): numpy in c:\\users\\owner\\anaconda3\\lib\\site-packages\n"
     ]
    },
    {
     "name": "stderr",
     "output_type": "stream",
     "text": [
      "You are using pip version 8.1.2, however version 9.0.1 is available.\n",
      "You should consider upgrading via the 'python -m pip install --upgrade pip' command.\n"
     ]
    }
   ],
   "source": [
    "!pip install numpy\n"
   ]
  },
  {
   "cell_type": "code",
   "execution_count": 14,
   "metadata": {},
   "outputs": [
    {
     "data": {
      "text/plain": [
       "str"
      ]
     },
     "execution_count": 14,
     "metadata": {},
     "output_type": "execute_result"
    }
   ],
   "source": [
    "s = 'sta'\n",
    "type(s)"
   ]
  },
  {
   "cell_type": "code",
   "execution_count": 4,
   "metadata": {},
   "outputs": [
    {
     "name": "stdout",
     "output_type": "stream",
     "text": [
      "12\n"
     ]
    }
   ],
   "source": [
    "i= i+2\n",
    "print(i)"
   ]
  },
  {
   "cell_type": "code",
   "execution_count": 2,
   "metadata": {
    "collapsed": true
   },
   "outputs": [],
   "source": [
    "import numpy as np"
   ]
  },
  {
   "cell_type": "code",
   "execution_count": null,
   "metadata": {
    "collapsed": true
   },
   "outputs": [],
   "source": [
    "# numpy 陣列"
   ]
  },
  {
   "cell_type": "code",
   "execution_count": 4,
   "metadata": {
    "collapsed": true
   },
   "outputs": [],
   "source": [
    "array = np.array([[1,2,3]\n",
    "                  ,[4,5,6]])"
   ]
  },
  {
   "cell_type": "code",
   "execution_count": 5,
   "metadata": {},
   "outputs": [
    {
     "name": "stdout",
     "output_type": "stream",
     "text": [
      "[[1 2 3]\n",
      " [4 5 6]]\n"
     ]
    }
   ],
   "source": [
    "print(array)"
   ]
  },
  {
   "cell_type": "code",
   "execution_count": 7,
   "metadata": {},
   "outputs": [
    {
     "name": "stdout",
     "output_type": "stream",
     "text": [
      "dim: 2\n",
      "shape: (2, 3)\n",
      "size: 6\n"
     ]
    }
   ],
   "source": [
    "print('dim:',array.ndim)\n",
    "print('shape:',array.shape)\n",
    "print('size:',array.size)"
   ]
  },
  {
   "cell_type": "code",
   "execution_count": 8,
   "metadata": {},
   "outputs": [
    {
     "name": "stdout",
     "output_type": "stream",
     "text": [
      "int32\n"
     ]
    }
   ],
   "source": [
    "a = np.array([1,240,3],dtype=np.int)\n",
    "print(a.dtype)"
   ]
  },
  {
   "cell_type": "code",
   "execution_count": null,
   "metadata": {
    "collapsed": true
   },
   "outputs": [],
   "source": [
    "# zero array"
   ]
  },
  {
   "cell_type": "code",
   "execution_count": 10,
   "metadata": {},
   "outputs": [
    {
     "name": "stdout",
     "output_type": "stream",
     "text": [
      "[[ 0.  0.  0.  0.]\n",
      " [ 0.  0.  0.  0.]\n",
      " [ 0.  0.  0.  0.]]\n"
     ]
    }
   ],
   "source": [
    "b=np.zeros((3,4))\n",
    "print(b)"
   ]
  },
  {
   "cell_type": "code",
   "execution_count": 11,
   "metadata": {},
   "outputs": [
    {
     "name": "stdout",
     "output_type": "stream",
     "text": [
      "[[ 1.  1.  1.  1.  1.]\n",
      " [ 1.  1.  1.  1.  1.]]\n"
     ]
    }
   ],
   "source": [
    "c=np.ones((2,5))\n",
    "print(c)"
   ]
  },
  {
   "cell_type": "code",
   "execution_count": 12,
   "metadata": {},
   "outputs": [
    {
     "name": "stdout",
     "output_type": "stream",
     "text": [
      "[[  1.29441743e-312   2.37663529e-312   2.58883487e-312]\n",
      " [  2.41907520e-312   8.48798317e-313   1.08221785e-312]\n",
      " [  1.10343781e-312   8.70018274e-313   2.39424906e-305]]\n"
     ]
    }
   ],
   "source": [
    "empty=np.empty((3,3))\n",
    "print(empty)"
   ]
  },
  {
   "cell_type": "code",
   "execution_count": 14,
   "metadata": {},
   "outputs": [
    {
     "name": "stdout",
     "output_type": "stream",
     "text": [
      "[10 12 14 16 18]\n"
     ]
    }
   ],
   "source": [
    "d=np.arange(10,20,2)\n",
    "print(d)"
   ]
  },
  {
   "cell_type": "code",
   "execution_count": null,
   "metadata": {
    "collapsed": true
   },
   "outputs": [],
   "source": [
    "# reshape 陣列的元素個數需跟前面數目相等"
   ]
  },
  {
   "cell_type": "code",
   "execution_count": 18,
   "metadata": {},
   "outputs": [
    {
     "name": "stdout",
     "output_type": "stream",
     "text": [
      "[[ 0  1  2  3]\n",
      " [ 4  5  6  7]\n",
      " [ 8  9 10 11]]\n"
     ]
    }
   ],
   "source": [
    "re=np.arange(12).reshape((3,4))\n",
    "print(re)"
   ]
  },
  {
   "cell_type": "code",
   "execution_count": 21,
   "metadata": {},
   "outputs": [
    {
     "name": "stdout",
     "output_type": "stream",
     "text": [
      "[[  1.    2.8   4.6]\n",
      " [  6.4   8.2  10. ]]\n"
     ]
    }
   ],
   "source": [
    "lin=np.linspace(1,10,6).reshape((2,3))\n",
    "print(lin)"
   ]
  },
  {
   "cell_type": "code",
   "execution_count": 23,
   "metadata": {
    "collapsed": true
   },
   "outputs": [],
   "source": [
    "# numpy 基礎運算\n"
   ]
  },
  {
   "cell_type": "code",
   "execution_count": 27,
   "metadata": {},
   "outputs": [
    {
     "name": "stdout",
     "output_type": "stream",
     "text": [
      "[10 20 30 40] [0 1 2 3]\n",
      "[10 19 28 37]\n",
      "[ 0  1  8 27]\n",
      "[ True  True False False]\n"
     ]
    }
   ],
   "source": [
    "num1=np.array([10,20,30,40])\n",
    "num2=np.arange(4)\n",
    "print(num1,num2)\n",
    "num3=num1-num2\n",
    "print(num3)\n",
    "num4=num2**3\n",
    "print(num4)\n",
    "print(num2<2)"
   ]
  },
  {
   "cell_type": "code",
   "execution_count": 32,
   "metadata": {},
   "outputs": [
    {
     "name": "stdout",
     "output_type": "stream",
     "text": [
      "[[1 3]\n",
      " [1 2]]\n",
      "[[0 1]\n",
      " [2 3]]\n",
      "===============\n",
      "[[0 3]\n",
      " [2 6]]\n",
      "[[ 6 10]\n",
      " [ 4  7]]\n",
      "[[ 6 10]\n",
      " [ 4  7]]\n"
     ]
    }
   ],
   "source": [
    "count1=np.array([[1,3],[1,2]])\n",
    "count2=np.arange(4).reshape((2,2))\n",
    "print(count1)\n",
    "print(count2)\n",
    "count3=count1*count2          #相同位置的陣列元素彼此相乘\n",
    "count_dot=np.dot(count1,count2) #正常陣列的運算方式\n",
    "count_dot2=count1.dot(count2)\n",
    "print('===============')\n",
    "print(count3)\n",
    "print(count_dot)\n",
    "print(count_dot2)"
   ]
  },
  {
   "cell_type": "code",
   "execution_count": 36,
   "metadata": {},
   "outputs": [
    {
     "name": "stdout",
     "output_type": "stream",
     "text": [
      "[[ 0.61466561  0.79696638  0.07706855  0.76086273]\n",
      " [ 0.33821525  0.57987042  0.68660143  0.10064419]]\n",
      "3.9548945626\n",
      "[ 2.24956327  1.70533129]\n",
      "[ 0.61466561  0.79696638  0.68660143  0.76086273]\n",
      "[ 0.07706855  0.10064419]\n"
     ]
    }
   ],
   "source": [
    "ran=np.random.random((2,4))\n",
    "print(ran)\n",
    "print(np.sum(ran))    #or ran.sum()\n",
    "print(np.sum(ran,axis=1))  #axis=1，各列做計算\n",
    "print(np.max(ran,axis=0))  #axis=0，各行作計算 \n",
    "print(np.min(ran,axis=1))"
   ]
  },
  {
   "cell_type": "code",
   "execution_count": null,
   "metadata": {
    "collapsed": true
   },
   "outputs": [],
   "source": [
    "# 基礎運算part2"
   ]
  },
  {
   "cell_type": "code",
   "execution_count": 44,
   "metadata": {},
   "outputs": [
    {
     "name": "stdout",
     "output_type": "stream",
     "text": [
      "0\n",
      "7.5\n",
      "7.5\n",
      "7.5\n",
      "[ 2  5  9 14 20 27 35 44 54 65 77 90]\n",
      "[[1 1 1]\n",
      " [1 1 1]\n",
      " [1 1 1]]\n",
      "[1 2 3]\n",
      "[[ 2  6 10]\n",
      " [ 3  7 11]\n",
      " [ 4  8 12]\n",
      " [ 5  9 13]]\n"
     ]
    }
   ],
   "source": [
    "A=np.arange(2,14).reshape((3,4))\n",
    "print(np.argmin(A))   #index \n",
    "print(np.mean(A))\n",
    "print(np.average(A))\n",
    "print(np.median(A))\n",
    "print(np.cumsum(A))\n",
    "print(np.diff(A))\n",
    "B=np.array([2,3,1])\n",
    "print(np.sort(B))\n",
    "print(np.transpose(A))   #print(A.T)\n",
    "print(np.clip(A,5,9))    #小於5的都變成5，大於9的都變成9，其餘不變"
   ]
  },
  {
   "cell_type": "code",
   "execution_count": 8,
   "metadata": {},
   "outputs": [
    {
     "name": "stdout",
     "output_type": "stream",
     "text": [
      "[[ 3  4  5  6]\n",
      " [ 7  8  9 10]\n",
      " [11 12 13 14]]\n",
      "[11 12 13 14]\n",
      "8\n",
      "8\n",
      "[8 9]\n"
     ]
    }
   ],
   "source": [
    "C=np.arange(3,15).reshape(3,4)\n",
    "print(C)\n",
    "print(C[2])\n",
    "print(C[1][1])\n",
    "print(C[1,1])\n",
    "print(C[1,1:3])"
   ]
  },
  {
   "cell_type": "code",
   "execution_count": 13,
   "metadata": {},
   "outputs": [
    {
     "name": "stdout",
     "output_type": "stream",
     "text": [
      "[3 4 5 6]\n",
      "[ 7  8  9 10]\n",
      "[11 12 13 14]\n",
      "[ 3  7 11]\n",
      "[ 4  8 12]\n",
      "[ 5  9 13]\n",
      "[ 6 10 14]\n",
      "[ 3  4  5  6  7  8  9 10 11 12 13 14]\n",
      "3\n",
      "4\n",
      "5\n",
      "6\n",
      "7\n",
      "8\n",
      "9\n",
      "10\n",
      "11\n",
      "12\n",
      "13\n",
      "14\n"
     ]
    }
   ],
   "source": [
    "for row in C:\n",
    "    print(row)\n",
    "for column in C.T:\n",
    "    print(column)\n",
    "print(C.flatten())    #變為一行的陣列\n",
    "for item in C.flat:    #把c陣列裡的元素變為迭代器\n",
    "    print(item)"
   ]
  },
  {
   "cell_type": "code",
   "execution_count": null,
   "metadata": {
    "collapsed": true
   },
   "outputs": [],
   "source": [
    "# 陣列的合併"
   ]
  },
  {
   "cell_type": "code",
   "execution_count": 23,
   "metadata": {},
   "outputs": [
    {
     "name": "stdout",
     "output_type": "stream",
     "text": [
      "[[1 1 1]\n",
      " [2 2 2]]\n",
      "[1 1 1 2 2 2]\n",
      "(3,) (2, 3) (6,)\n",
      "[[1]\n",
      " [1]\n",
      " [1]]\n",
      "[1 1 1 2 2 2 2 2 2]\n"
     ]
    }
   ],
   "source": [
    "a1=np.array([1,1,1])\n",
    "a2=np.array([2,2,2])\n",
    "a3=np.vstack((a1,a2))  #vertical stack\n",
    "a4=np.hstack((a1,a2))  #horizontal stack\n",
    "print(a3)\n",
    "print(a4)\n",
    "print(a1.shape,a3.shape,a4.shape)\n",
    "a5=a1[:,np.newaxis]     #轉成分別不同列的陣列\n",
    "print(a5)\n",
    "a6=np.concatenate((a1,a2,a2),axis=0)\n",
    "print(a6)\n"
   ]
  },
  {
   "cell_type": "code",
   "execution_count": null,
   "metadata": {
    "collapsed": true
   },
   "outputs": [],
   "source": [
    "# 陣列的分割"
   ]
  },
  {
   "cell_type": "code",
   "execution_count": 27,
   "metadata": {},
   "outputs": [
    {
     "name": "stdout",
     "output_type": "stream",
     "text": [
      "[array([[0, 1],\n",
      "       [4, 5],\n",
      "       [8, 9]]), array([[ 2],\n",
      "       [ 6],\n",
      "       [10]]), array([[ 3],\n",
      "       [ 7],\n",
      "       [11]])]\n",
      "[array([[0, 1, 2, 3]]), array([[4, 5, 6, 7]]), array([[ 8,  9, 10, 11]])]\n",
      "[array([[0, 1, 2, 3]]), array([[4, 5, 6, 7]]), array([[ 8,  9, 10, 11]])]\n",
      "[array([[0, 1],\n",
      "       [4, 5],\n",
      "       [8, 9]]), array([[ 2,  3],\n",
      "       [ 6,  7],\n",
      "       [10, 11]])]\n"
     ]
    }
   ],
   "source": [
    "sp=np.arange(12).reshape((3,4))\n",
    "print(np.array_split(sp,3,axis=1))   #分成3塊\n",
    "print(np.array_split(sp,3,axis=0))   #分成3塊\n",
    "print(np.vsplit(sp,3))     #vertical split\n",
    "print(np.hsplit(sp,2))     #horizontal split"
   ]
  },
  {
   "cell_type": "code",
   "execution_count": null,
   "metadata": {
    "collapsed": true
   },
   "outputs": [],
   "source": [
    "# 陣列的複製"
   ]
  },
  {
   "cell_type": "code",
   "execution_count": 38,
   "metadata": {
    "scrolled": true
   },
   "outputs": [
    {
     "name": "stdout",
     "output_type": "stream",
     "text": [
      "[11  1  2  3]\n",
      "True\n",
      "True\n",
      "[11 22 33  3]\n",
      "[11 22 33  3]\n",
      "[11 22 33 44]\n",
      "[11 22 33  3]\n"
     ]
    }
   ],
   "source": [
    "copy1=np.arange(4)\n",
    "copy2=copy1\n",
    "copy3=copy1\n",
    "copy4=copy2\n",
    "copy1[0]=11\n",
    "print(copy1)\n",
    "print(copy2 is copy1)\n",
    "print(copy4 is copy1)\n",
    "copy4[1:3]=[22,33]\n",
    "print(copy4)\n",
    "print(copy1)     #copy1就是copy4全部都相等\n",
    "\n",
    "#=====================================\n",
    "copy2=copy1.copy()   #deep copy\n",
    "copy1[3]=44\n",
    "print(copy1)\n",
    "print(copy2)     #此時copy1改變不會影響copy2\n",
    "\n",
    " "
   ]
  },
  {
   "cell_type": "code",
   "execution_count": 11,
   "metadata": {},
   "outputs": [
    {
     "name": "stdout",
     "output_type": "stream",
     "text": [
      "(150, 4)\n",
      "[[ 5.1  3.5  1.4  0.2  0. ]\n",
      " [ 4.9  3.   1.4  0.2  0. ]\n",
      " [ 4.7  3.2  1.3  0.2  0. ]\n",
      " [ 4.6  3.1  1.5  0.2  0. ]\n",
      " [ 5.   3.6  1.4  0.2  0. ]\n",
      " [ 5.4  3.9  1.7  0.4  0. ]\n",
      " [ 4.6  3.4  1.4  0.3  0. ]\n",
      " [ 5.   3.4  1.5  0.2  0. ]\n",
      " [ 4.4  2.9  1.4  0.2  0. ]\n",
      " [ 4.9  3.1  1.5  0.1  0. ]\n",
      " [ 5.4  3.7  1.5  0.2  0. ]\n",
      " [ 4.8  3.4  1.6  0.2  0. ]\n",
      " [ 4.8  3.   1.4  0.1  0. ]\n",
      " [ 4.3  3.   1.1  0.1  0. ]\n",
      " [ 5.8  4.   1.2  0.2  0. ]\n",
      " [ 5.7  4.4  1.5  0.4  0. ]\n",
      " [ 5.4  3.9  1.3  0.4  0. ]\n",
      " [ 5.1  3.5  1.4  0.3  0. ]\n",
      " [ 5.7  3.8  1.7  0.3  0. ]\n",
      " [ 5.1  3.8  1.5  0.3  0. ]\n",
      " [ 5.4  3.4  1.7  0.2  0. ]\n",
      " [ 5.1  3.7  1.5  0.4  0. ]\n",
      " [ 4.6  3.6  1.   0.2  0. ]\n",
      " [ 5.1  3.3  1.7  0.5  0. ]\n",
      " [ 4.8  3.4  1.9  0.2  0. ]\n",
      " [ 5.   3.   1.6  0.2  0. ]\n",
      " [ 5.   3.4  1.6  0.4  0. ]\n",
      " [ 5.2  3.5  1.5  0.2  0. ]\n",
      " [ 5.2  3.4  1.4  0.2  0. ]\n",
      " [ 4.7  3.2  1.6  0.2  0. ]\n",
      " [ 4.8  3.1  1.6  0.2  0. ]\n",
      " [ 5.4  3.4  1.5  0.4  0. ]\n",
      " [ 5.2  4.1  1.5  0.1  0. ]\n",
      " [ 5.5  4.2  1.4  0.2  0. ]\n",
      " [ 4.9  3.1  1.5  0.1  0. ]\n",
      " [ 5.   3.2  1.2  0.2  0. ]\n",
      " [ 5.5  3.5  1.3  0.2  0. ]\n",
      " [ 4.9  3.1  1.5  0.1  0. ]\n",
      " [ 4.4  3.   1.3  0.2  0. ]\n",
      " [ 5.1  3.4  1.5  0.2  0. ]\n",
      " [ 5.   3.5  1.3  0.3  0. ]\n",
      " [ 4.5  2.3  1.3  0.3  0. ]\n",
      " [ 4.4  3.2  1.3  0.2  0. ]\n",
      " [ 5.   3.5  1.6  0.6  0. ]\n",
      " [ 5.1  3.8  1.9  0.4  0. ]\n",
      " [ 4.8  3.   1.4  0.3  0. ]\n",
      " [ 5.1  3.8  1.6  0.2  0. ]\n",
      " [ 4.6  3.2  1.4  0.2  0. ]\n",
      " [ 5.3  3.7  1.5  0.2  0. ]\n",
      " [ 5.   3.3  1.4  0.2  0. ]\n",
      " [ 7.   3.2  4.7  1.4  1. ]\n",
      " [ 6.4  3.2  4.5  1.5  1. ]\n",
      " [ 6.9  3.1  4.9  1.5  1. ]\n",
      " [ 5.5  2.3  4.   1.3  1. ]\n",
      " [ 6.5  2.8  4.6  1.5  1. ]\n",
      " [ 5.7  2.8  4.5  1.3  1. ]\n",
      " [ 6.3  3.3  4.7  1.6  1. ]\n",
      " [ 4.9  2.4  3.3  1.   1. ]\n",
      " [ 6.6  2.9  4.6  1.3  1. ]\n",
      " [ 5.2  2.7  3.9  1.4  1. ]\n",
      " [ 5.   2.   3.5  1.   1. ]\n",
      " [ 5.9  3.   4.2  1.5  1. ]\n",
      " [ 6.   2.2  4.   1.   1. ]\n",
      " [ 6.1  2.9  4.7  1.4  1. ]\n",
      " [ 5.6  2.9  3.6  1.3  1. ]\n",
      " [ 6.7  3.1  4.4  1.4  1. ]\n",
      " [ 5.6  3.   4.5  1.5  1. ]\n",
      " [ 5.8  2.7  4.1  1.   1. ]\n",
      " [ 6.2  2.2  4.5  1.5  1. ]\n",
      " [ 5.6  2.5  3.9  1.1  1. ]\n",
      " [ 5.9  3.2  4.8  1.8  1. ]\n",
      " [ 6.1  2.8  4.   1.3  1. ]\n",
      " [ 6.3  2.5  4.9  1.5  1. ]\n",
      " [ 6.1  2.8  4.7  1.2  1. ]\n",
      " [ 6.4  2.9  4.3  1.3  1. ]\n",
      " [ 6.6  3.   4.4  1.4  1. ]\n",
      " [ 6.8  2.8  4.8  1.4  1. ]\n",
      " [ 6.7  3.   5.   1.7  1. ]\n",
      " [ 6.   2.9  4.5  1.5  1. ]\n",
      " [ 5.7  2.6  3.5  1.   1. ]\n",
      " [ 5.5  2.4  3.8  1.1  1. ]\n",
      " [ 5.5  2.4  3.7  1.   1. ]\n",
      " [ 5.8  2.7  3.9  1.2  1. ]\n",
      " [ 6.   2.7  5.1  1.6  1. ]\n",
      " [ 5.4  3.   4.5  1.5  1. ]\n",
      " [ 6.   3.4  4.5  1.6  1. ]\n",
      " [ 6.7  3.1  4.7  1.5  1. ]\n",
      " [ 6.3  2.3  4.4  1.3  1. ]\n",
      " [ 5.6  3.   4.1  1.3  1. ]\n",
      " [ 5.5  2.5  4.   1.3  1. ]\n",
      " [ 5.5  2.6  4.4  1.2  1. ]\n",
      " [ 6.1  3.   4.6  1.4  1. ]\n",
      " [ 5.8  2.6  4.   1.2  1. ]\n",
      " [ 5.   2.3  3.3  1.   1. ]\n",
      " [ 5.6  2.7  4.2  1.3  1. ]\n",
      " [ 5.7  3.   4.2  1.2  1. ]\n",
      " [ 5.7  2.9  4.2  1.3  1. ]\n",
      " [ 6.2  2.9  4.3  1.3  1. ]\n",
      " [ 5.1  2.5  3.   1.1  1. ]\n",
      " [ 5.7  2.8  4.1  1.3  1. ]\n",
      " [ 6.3  3.3  6.   2.5  2. ]\n",
      " [ 5.8  2.7  5.1  1.9  2. ]\n",
      " [ 7.1  3.   5.9  2.1  2. ]\n",
      " [ 6.3  2.9  5.6  1.8  2. ]\n",
      " [ 6.5  3.   5.8  2.2  2. ]\n",
      " [ 7.6  3.   6.6  2.1  2. ]\n",
      " [ 4.9  2.5  4.5  1.7  2. ]\n",
      " [ 7.3  2.9  6.3  1.8  2. ]\n",
      " [ 6.7  2.5  5.8  1.8  2. ]\n",
      " [ 7.2  3.6  6.1  2.5  2. ]\n",
      " [ 6.5  3.2  5.1  2.   2. ]\n",
      " [ 6.4  2.7  5.3  1.9  2. ]\n",
      " [ 6.8  3.   5.5  2.1  2. ]\n",
      " [ 5.7  2.5  5.   2.   2. ]\n",
      " [ 5.8  2.8  5.1  2.4  2. ]\n",
      " [ 6.4  3.2  5.3  2.3  2. ]\n",
      " [ 6.5  3.   5.5  1.8  2. ]\n",
      " [ 7.7  3.8  6.7  2.2  2. ]\n",
      " [ 7.7  2.6  6.9  2.3  2. ]\n",
      " [ 6.   2.2  5.   1.5  2. ]\n",
      " [ 6.9  3.2  5.7  2.3  2. ]\n",
      " [ 5.6  2.8  4.9  2.   2. ]\n",
      " [ 7.7  2.8  6.7  2.   2. ]\n",
      " [ 6.3  2.7  4.9  1.8  2. ]\n",
      " [ 6.7  3.3  5.7  2.1  2. ]\n",
      " [ 7.2  3.2  6.   1.8  2. ]\n",
      " [ 6.2  2.8  4.8  1.8  2. ]\n",
      " [ 6.1  3.   4.9  1.8  2. ]\n",
      " [ 6.4  2.8  5.6  2.1  2. ]\n",
      " [ 7.2  3.   5.8  1.6  2. ]\n",
      " [ 7.4  2.8  6.1  1.9  2. ]\n",
      " [ 7.9  3.8  6.4  2.   2. ]\n",
      " [ 6.4  2.8  5.6  2.2  2. ]\n",
      " [ 6.3  2.8  5.1  1.5  2. ]\n",
      " [ 6.1  2.6  5.6  1.4  2. ]\n",
      " [ 7.7  3.   6.1  2.3  2. ]\n",
      " [ 6.3  3.4  5.6  2.4  2. ]\n",
      " [ 6.4  3.1  5.5  1.8  2. ]\n",
      " [ 6.   3.   4.8  1.8  2. ]\n",
      " [ 6.9  3.1  5.4  2.1  2. ]\n",
      " [ 6.7  3.1  5.6  2.4  2. ]\n",
      " [ 6.9  3.1  5.1  2.3  2. ]\n",
      " [ 5.8  2.7  5.1  1.9  2. ]\n",
      " [ 6.8  3.2  5.9  2.3  2. ]\n",
      " [ 6.7  3.3  5.7  2.5  2. ]\n",
      " [ 6.7  3.   5.2  2.3  2. ]\n",
      " [ 6.3  2.5  5.   1.9  2. ]\n",
      " [ 6.5  3.   5.2  2.   2. ]\n",
      " [ 6.2  3.4  5.4  2.3  2. ]\n",
      " [ 5.9  3.   5.1  1.8  2. ]]\n"
     ]
    }
   ],
   "source": [
    "#測試用iris資料，作合併並且輸出csv，供pyspark使用\n",
    "from sklearn.datasets import load_iris\n",
    "iris = load_iris()\n",
    "data = iris.data\n",
    "print(data.shape)\n",
    "data = np.around(data, decimals = 1)\n",
    "\n",
    "#加了np.newaxis，會讓原本shape(,150)的矩陣，變為(1,150)這樣才可以轉置\n",
    "target_T = iris.target[np.newaxis].T\n",
    "target_T = np.around(target_T,decimals=0)\n",
    "# print(target_T)\n",
    "data_tar = np.concatenate((data,target_T),axis=1)\n",
    "print(data_tar)\n",
    "np.savetxt('iris.csv',data_tar,delimiter=',')"
   ]
  },
  {
   "cell_type": "markdown",
   "metadata": {},
   "source": [
    "# http://www.scipy-lectures.org/intro/numpy/array_object.html#numpy-reference-documentation "
   ]
  },
  {
   "cell_type": "code",
   "execution_count": 1,
   "metadata": {
    "collapsed": true
   },
   "outputs": [],
   "source": [
    "import numpy as np\n",
    "import matplotlib.pyplot as plt"
   ]
  },
  {
   "cell_type": "code",
   "execution_count": 12,
   "metadata": {},
   "outputs": [
    {
     "name": "stdout",
     "output_type": "stream",
     "text": [
      "維度: 3   shape: (2, 2, 1)\n",
      "[1 3 5 7]\n",
      "[ 0.   0.2  0.4  0.6  0.8  1. ]\n",
      "[[ 1.  1.  1.]\n",
      " [ 1.  1.  1.]\n",
      " [ 1.  1.  1.]]\n",
      "[[ 0.  0.]\n",
      " [ 0.  0.]]\n",
      "[[ 1.  0.  0.]\n",
      " [ 0.  1.  0.]\n",
      " [ 0.  0.  1.]]\n",
      "[[1 0 0 0]\n",
      " [0 2 0 0]\n",
      " [0 0 3 0]\n",
      " [0 0 0 4]]\n"
     ]
    }
   ],
   "source": [
    "b = np.array([[[0],[3]],[[6],[8]]])\n",
    "print(\"維度:\",b.ndim,\" \",\"shape:\",b.shape)\n",
    "b = np.arange(1,9,2)\n",
    "print(b)\n",
    "c = np.linspace(0, 1, 6)\n",
    "print(c)\n",
    "#parameter is a tuple\n",
    "a = np.ones((3, 3))\n",
    "print(a)\n",
    "b = np.zeros((2, 2))\n",
    "print(b)\n",
    "c = np.eye(3)\n",
    "print(c)\n",
    "d = np.diag(np.array([1, 2, 3, 4]))\n",
    "\n",
    "print(d)"
   ]
  },
  {
   "cell_type": "code",
   "execution_count": 31,
   "metadata": {},
   "outputs": [
    {
     "name": "stdout",
     "output_type": "stream",
     "text": [
      "[ 0.77997581  0.27259261  0.27646426  0.80187218]\n",
      "[ 0.47143516 -1.19097569  1.43270697 -0.3126519 ]\n",
      "[[ 0.]\n",
      " [ 0.]\n",
      " [ 0.]]\n"
     ]
    }
   ],
   "source": [
    "#uniform in 0~1\n",
    "a = np.random.rand(4) \n",
    "print(a)\n",
    "np.random.seed(1234)\n",
    "#normal   [ 0.47143516 -1.19097569  1.43270697 -0.3126519 ]\n",
    "b = np.random.randn(4)\n",
    "print(b)\n",
    "c = np.empty((3,1))\n",
    "print(c)"
   ]
  },
  {
   "cell_type": "code",
   "execution_count": 3,
   "metadata": {},
   "outputs": [
    {
     "data": {
      "text/plain": [
       "[<matplotlib.lines.Line2D at 0x177404d1588>]"
      ]
     },
     "execution_count": 3,
     "metadata": {},
     "output_type": "execute_result"
    },
    {
     "data": {
      "image/png": "[encoded data removed]",
      "text/plain": [
       "<matplotlib.figure.Figure at 0x177404d1780>"
      ]
     },
     "metadata": {},
     "output_type": "display_data"
    }
   ],
   "source": [
    "#加這行就不需要再用plt.show()\n",
    "%matplotlib inline\n",
    "#1D plotting\n",
    "x = np.linspace(0, 3, 20)\n",
    "y = np.linspace(0, 9, 20)\n",
    "#在同一個畫布上畫線圖和點圖\n",
    "plt.plot(x, y)  \n",
    "plt.plot(x,y,'o')\n"
   ]
  },
  {
   "cell_type": "code",
   "execution_count": 4,
   "metadata": {},
   "outputs": [
    {
     "data": {
      "text/plain": [
       "<matplotlib.colorbar.Colorbar at 0x1774094fe10>"
      ]
     },
     "execution_count": 4,
     "metadata": {},
     "output_type": "execute_result"
    },
    {
     "data": {
      "image/png": "[encoded data removed]",
      "text/plain": [
       "<matplotlib.figure.Figure at 0x177404dbb00>"
      ]
     },
     "metadata": {},
     "output_type": "display_data"
    }
   ],
   "source": [
    "%matplotlib inline\n",
    "#2D array like image\n",
    "image = np.random.rand(30, 30)\n",
    "plt.imshow(image, cmap=plt.cm.hot)\n",
    "plt.colorbar()"
   ]
  }
 ],
 "metadata": {
  "anaconda-cloud": {},
  "kernelspec": {
   "display_name": "Python 3",
   "language": "python",
   "name": "python3"
  },
  "language_info": {
   "codemirror_mode": {
    "name": "ipython",
    "version": 3
   },
   "file_extension": ".py",
   "mimetype": "text/x-python",
   "name": "python",
   "nbconvert_exporter": "python",
   "pygments_lexer": "ipython3",
   "version": "3.6.1"
  }
 },
 "nbformat": 4,
 "nbformat_minor": 1
}
