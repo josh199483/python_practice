{
 "cells": [
  {
   "cell_type": "code",
   "execution_count": 4,
   "metadata": {
    "collapsed": false
   },
   "outputs": [],
   "source": [
    "import requests,json\n",
    "cURL = \"https://graph.facebook.com/v2.8/me/feed?access_token=EAACEdEose0cBALAoJOCJR25Kdho468MwWbvFPvXIYgnPmkj86DQ3SdhjAcMRQZBYNaQgIVvsCLPaMZAxjQ0q5PmOJ98CdvlYpQqZAV4JZCRbnijzpshEYGQPk6LNGAFbZAu1NY9b0fxVOMPgRxH822X0JgCHv0szZAkTP8rsy107XKLsXHhNo10B76B0XAvsEZD\""
   ]
  },
  {
   "cell_type": "code",
   "execution_count": 5,
   "metadata": {
    "collapsed": false
   },
   "outputs": [
    {
     "data": {
      "text/plain": [
       "[{'created_time': '2017-01-27T15:29:53+0000',\n",
       "  'id': '744607788955466_1248804615202445',\n",
       "  'message': 'HAPPY NEW YEAR of ROOSTER!\\n\\nGREETING FROM  SOCAL'},\n",
       " {'created_time': '2016-06-17T20:01:24+0000',\n",
       "  'id': '670976276290609_1026688530719380',\n",
       "  'message': '或許是自己還沒要畢業\\n而且很多人也都還是在交大\\n\\n所以直到今天前\\n感覺沒那麼明顯吧\\n\\n從 賴博亞 的先行離去\\n到 陳惟恩 林卲威 也要畢業了\\n\\n突然發現\\n陪伴自己走過四年歲月的人\\n也要各自走向未來了\\n\\n感謝四年來\\n不管是歡樂還是痛苦\\n都有你們一起走過\\n\\n有空多回來\\n這裡永遠會有群db2等你們一起尻尻'},\n",
       " {'created_time': '2016-06-04T13:58:14+0000',\n",
       "  'id': '648105201931253_1064545173620585',\n",
       "  'story': '李昱瑭 added 8 new photos — with Tiffany Hsu and 2 others.'},\n",
       " {'created_time': '2016-06-04T12:38:40+0000',\n",
       "  'id': '744607788955466_1039632822786293',\n",
       "  'message': '都到了最後一刻還是...'},\n",
       " {'created_time': '2016-06-04T07:07:00+0000',\n",
       "  'id': '664997123557738_1045604502163663',\n",
       "  'story': '曾紹慈 added a new photo — with 陳惟恩.'},\n",
       " {'created_time': '2016-06-04T07:07:00+0000',\n",
       "  'id': '664997123557738_1045604458830334',\n",
       "  'story': '曾紹慈 added a new photo — with 陳惟恩.'},\n",
       " {'created_time': '2016-06-03T14:36:45+0000',\n",
       "  'id': '10203802220920816_10210074821411908',\n",
       "  'story': 'Rumi Lai added 3 new photos — with Cathy Chen and 陳惟恩.'},\n",
       " {'created_time': '2016-05-29T15:15:19+0000',\n",
       "  'id': '648105201931253_1060347067373729',\n",
       "  'story': '李昱瑭 added a new photo — with 陳惟恩.'},\n",
       " {'created_time': '2016-05-29T15:15:19+0000',\n",
       "  'id': '648105201931253_1060347044040398',\n",
       "  'story': '李昱瑭 added a new photo — with Tiffany Hsu and 陳惟恩.'},\n",
       " {'created_time': '2016-05-23T10:31:01+0000',\n",
       "  'id': '1296069963782516_1112951612094353',\n",
       "  'story': 'Peter  Chen shared a link — with Jillen Huang and 陳惟恩 in Linkou County.'},\n",
       " {'created_time': '2016-05-15T13:21:19+0000',\n",
       "  'id': '858619577487200_1327444533938033',\n",
       "  'message': '極速快轉一下今天的骨牌推倒，\\n負責打斷掉的骨牌的人打的好兇啊，\\n體育館內高壓力、高熱度、高臭度的兩天結束！！',\n",
       "  'story': '王得安 with 林卲威 and 12 others at 交大體育館.'},\n",
       " {'created_time': '2016-05-15T05:27:46+0000',\n",
       "  'id': '773615779328122_1181552188534477',\n",
       "  'story': '楊雅竹 added 5 new photos — with 林卲威 and 6 others.'},\n",
       " {'created_time': '2016-05-13T12:57:12+0000',\n",
       "  'id': '744607788955466_1026873657395543',\n",
       "  'message': '恩恩GO！'},\n",
       " {'created_time': '2016-05-10T03:12:43+0000',\n",
       "  'id': '744607788955466_1024711197611789',\n",
       "  'message': '每天看你發動態，我都好羨慕。你長得又好看，還用蘋果手機，又有錢，朋友也多，整天討論一些好像很厲害的東西。隨便拿個東西都頂我幾個月的生活費，我讀書少，又是鄉下來的，沒見過多少世面，所以我只能默默的看著你發，時不時點個讚，有時間自己也發發，這樣好像可以假裝和你們很熟，真的，心好累，好了不說了....'},\n",
       " {'created_time': '2016-05-08T00:10:37+0000',\n",
       "  'id': '744607788955466_1023425221073720',\n",
       "  'story': 'Michael Tsai and 19 others wrote on your Timeline.'},\n",
       " {'created_time': '2016-05-07T10:17:27+0000',\n",
       "  'id': '729053920471818_1088235567886983',\n",
       "  'message': '桌遊團好久沒玩「風聲」\\n這遊戲根本就是賣弄心機無誤啊⋯⋯',\n",
       "  'story': 'Neil Jiang with Youknowwhoami Chen and 6 others.'},\n",
       " {'created_time': '2016-04-14T05:19:08+0000',\n",
       "  'id': '744607788955466_1009501369132772',\n",
       "  'message': '雖然不是從kobe那個時代開始看籃球的，但還是從他身上學到許多，今天看他最後一戰得了60分(鐵28球~)超爽!!\\nKobe Bryant謝謝你^^\\nps 隔壁73勝好像有點少人看XD'},\n",
       " {'created_time': '2016-04-02T14:50:41+0000',\n",
       "  'id': '853092588039313_1286094781405756',\n",
       "  'message': '為了癡羅最愛的龍騎士跑來兒童樂園\\n麻雀 在這也可以玩到想吐我也是跪了\\n林豐 翹課跑回台灣應該標記你爸媽的\\n屎味 在旁邊顧著看妹\\n忘了標吳委諺跟妹子看電影偷跑\\n(那隻龍好重)',\n",
       "  'story': \"郭耀遠 with 羅羅皓 and 3 others at 臺北市立兒童新樂園 Taipei Children's Amusement Park.\"},\n",
       " {'created_time': '2016-03-22T09:48:52+0000',\n",
       "  'id': '648105201931253_1010184772389959',\n",
       "  'message': '大一之後貌似就沒有發過這樣的動態了\\n發個文以茲紀念',\n",
       "  'story': '李昱瑭 with 林卲威 and 3 others.'},\n",
       " {'created_time': '2015-12-26T09:04:05+0000',\n",
       "  'id': '664997123557738_953450971379017',\n",
       "  'message': '畢業專題 OVER！',\n",
       "  'story': '曾紹慈 with 陳郁夫 and 31 others.'},\n",
       " {'created_time': '2015-12-22T01:46:17+0000',\n",
       "  'id': '673671339360155_975366055857347',\n",
       "  'message': '我從10歲就是火影的狂粉QQQQQ\\n現在我21了，十年來，完結雖然很捨不得但沒有遺憾之下還願意出續集\\n超想要看這部拜託嗚嗚  兩位宅宅陳郁夫陳惟恩借tag TAT\\n\\n岸本：「我再也畫不出更好的漫畫了」\\n我人生也不會再出現第二個對我如此有重大意義的漫畫了T_T',\n",
       "  'story': \"Po-Chien Hao shared 曼迪's video.\"},\n",
       " {'created_time': '2015-12-17T20:13:15+0000',\n",
       "  'id': '670976276290609_924123780975856',\n",
       "  'message': 'thanks , my bro & 管二基友三人組\\n\\n排擠 陳惟恩',\n",
       "  'story': 'Archi Chou with 林卲威 and 3 others.'},\n",
       " {'created_time': '2015-11-29T14:21:12+0000',\n",
       "  'id': '673671339360155_964649430262343',\n",
       "  'story': 'Po-Chien Hao added 10 new photos — with 林卲威 and 31 others in Hsinchu, Taiwan.'},\n",
       " {'created_time': '2015-11-29T13:42:24+0000',\n",
       "  'id': '773615779328122_1074925585863805',\n",
       "  'story': '楊雅竹 added 3 new photos — with 蘇千珮 and 3 others.'},\n",
       " {'created_time': '2015-11-29T06:36:37+0000',\n",
       "  'id': '744607788955466_964516450275641',\n",
       "  'story': '陳惟恩 was tagged in a video.'}]"
      ]
     },
     "execution_count": 5,
     "metadata": {},
     "output_type": "execute_result"
    }
   ],
   "source": [
    "data = json.loads(requests.get(cURL).text)\n",
    "data['data']"
   ]
  },
  {
   "cell_type": "code",
   "execution_count": 8,
   "metadata": {
    "collapsed": false
   },
   "outputs": [
    {
     "name": "stdout",
     "output_type": "stream",
     "text": [
      "Collecting facebook-sdk\n",
      "  Downloading facebook-sdk-2.0.0.tar.gz\n",
      "Requirement already satisfied (use --upgrade to upgrade): requests in c:\\users\\big data\\anaconda3\\lib\\site-packages (from facebook-sdk)\n",
      "Building wheels for collected packages: facebook-sdk\n",
      "  Running setup.py bdist_wheel for facebook-sdk: started\n",
      "  Running setup.py bdist_wheel for facebook-sdk: finished with status 'done'\n",
      "  Stored in directory: C:\\Users\\BIG DATA\\AppData\\Local\\pip\\Cache\\wheels\\74\\8d\\c2\\632884cecf25d1a584677403dc4b149563e6336d2cd8d2834c\n",
      "Successfully built facebook-sdk\n",
      "Installing collected packages: facebook-sdk\n",
      "Successfully installed facebook-sdk-2.0.0\n"
     ]
    }
   ],
   "source": [
    "!pip install facebook-sdk"
   ]
  },
  {
   "cell_type": "code",
   "execution_count": 9,
   "metadata": {
    "collapsed": true
   },
   "outputs": [],
   "source": [
    "import facebook"
   ]
  },
  {
   "cell_type": "code",
   "execution_count": 11,
   "metadata": {
    "collapsed": false,
    "scrolled": true
   },
   "outputs": [
    {
     "name": "stdout",
     "output_type": "stream",
     "text": [
      "或許是自己還沒要畢業\n",
      "而且很多人也都還是在交大\n",
      "\n",
      "所以直到今天前\n",
      "感覺沒那麼明顯吧\n",
      "\n",
      "從 賴博亞 的先行離去\n",
      "到 陳惟恩 林卲威 也要畢業了\n",
      "\n",
      "突然發現\n",
      "陪伴自己走過四年歲月的人\n",
      "也要各自走向未來了\n",
      "\n",
      "感謝四年來\n",
      "不管是歡樂還是痛苦\n",
      "都有你們一起走過\n",
      "\n",
      "有空多回來\n",
      "這裡永遠會有群db2等你們一起尻尻\n"
     ]
    }
   ],
   "source": [
    "token = \"EAACEdEose0cBALAoJOCJR25Kdho468MwWbvFPvXIYgnPmkj86DQ3SdhjAcMRQZBYNaQgIVvsCLPaMZAxjQ0q5PmOJ98CdvlYpQqZAV4JZCRbnijzpshEYGQPk6LNGAFbZAu1NY9b0fxVOMPgRxH822X0JgCHv0szZAkTP8rsy107XKLsXHhNo10B76B0XAvsEZD\"\n",
    "graph = facebook.GraphAPI(access_token=token,version = '2.7')\n",
    "post = graph.get_object(id=\"670976276290609_1026688530719380\")\n",
    "print(post['message'])\n"
   ]
  },
  {
   "cell_type": "code",
   "execution_count": 2,
   "metadata": {
    "collapsed": false
   },
   "outputs": [
    {
     "name": "stdout",
     "output_type": "stream",
     "text": [
      "18.51851851851852\n",
      "chenchun\n"
     ]
    }
   ],
   "source": [
    "a=60/1.8/1.8\n",
    "print(a)\n",
    "if a<18.5:\n",
    "    print(\"sho\")\n",
    "elif 18.5<=a<24:\n",
    "    print(\"chenchun\")\n",
    "else:\n",
    "    print(\"kuopun\")\n",
    "    "
   ]
  }
 ],
 "metadata": {
  "anaconda-cloud": {},
  "kernelspec": {
   "display_name": "Python [conda root]",
   "language": "python",
   "name": "conda-root-py"
  },
  "language_info": {
   "codemirror_mode": {
    "name": "ipython",
    "version": 3
   },
   "file_extension": ".py",
   "mimetype": "text/x-python",
   "name": "python",
   "nbconvert_exporter": "python",
   "pygments_lexer": "ipython3",
   "version": "3.5.2"
  }
 },
 "nbformat": 4,
 "nbformat_minor": 1
}
