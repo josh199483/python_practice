{
 "cells": [
  {
   "cell_type": "markdown",
   "metadata": {},
   "source": [
    "# Keyboard Row\n"
   ]
  },
  {
   "cell_type": "code",
   "execution_count": 4,
   "metadata": {
    "collapsed": true
   },
   "outputs": [],
   "source": [
    "# 隨意輸入字串list，回傳可在同一排鍵盤輸入的字串\n",
    "class Solution(object):\n",
    "    def findWords(self, words):\n",
    "        \"\"\"\n",
    "        :type words: List[str]\n",
    "        :rtype: List[str]\n",
    "        \"\"\"\n",
    "        first = [\"q\",\"w\",\"e\",\"r\",\"t\",\"y\",\"u\",\"i\",\"o\",\"p\"]\n",
    "        second = [\"a\",\"s\",\"d\",\"f\",\"g\",\"h\",\"j\",\"k\",\"l\"]\n",
    "        third = [\"z\",\"x\",\"c\",\"v\",\"b\",\"n\",\"m\"]\n",
    "        answer = []\n",
    "        for word in words:\n",
    "            word_list = [i for i in word.lower()]\n",
    "            word_set = set(word_list)\n",
    "            f = word_set.intersection(set(first))\n",
    "            s = word_set.intersection(set(second))\n",
    "            t = word_set.intersection(set(third))\n",
    "            if len(f)==len(word_set):\n",
    "                answer.append(word)\n",
    "            elif len(s)==len(word_set):\n",
    "                answer.append(word)\n",
    "            elif len(t)==len(word_set):\n",
    "                answer.append(word)\n",
    "        return answer      "
   ]
  },
  {
   "cell_type": "code",
   "execution_count": 5,
   "metadata": {},
   "outputs": [
    {
     "data": {
      "text/plain": [
       "['sdfs', 'zcv']"
      ]
     },
     "execution_count": 5,
     "metadata": {},
     "output_type": "execute_result"
    }
   ],
   "source": [
    "a = Solution()\n",
    "a.findWords([\"sdfs\",\"regbgf\",\"zcv\"])"
   ]
  },
  {
   "cell_type": "code",
   "execution_count": 10,
   "metadata": {},
   "outputs": [
    {
     "name": "stdout",
     "output_type": "stream",
     "text": [
      "Figure(id='82cb05d0-bae6-4f92-8744-1bbaccf171cb', ...)\n",
      "<class 'NoneType'>\n"
     ]
    }
   ],
   "source": [
    "import numpy as np\n",
    "\n",
    "from bokeh.plotting import figure, output_file, show\n",
    "\n",
    "# prepare some data\n",
    "N = 4000\n",
    "x = np.random.random(size=N) * 100\n",
    "y = np.random.random(size=N) * 100\n",
    "radii = np.random.random(size=N) * 1.5\n",
    "colors = [\n",
    "    \"#%02x%02x%02x\" % (int(r), int(g), 150) for r, g in zip(50+2*x, 30+2*y)\n",
    "]\n",
    "\n",
    "# output to static HTML file (with CDN resources)\n",
    "output_file(\"color_scatter.html\", title=\"color_scatter.py example\", mode=\"cdn\")\n",
    "\n",
    "TOOLS=\"resize,crosshair,pan,wheel_zoom,box_zoom,reset,box_select,lasso_select\"\n",
    "\n",
    "# create a new plot with the tools above, and explicit ranges\n",
    "p = figure(tools=TOOLS, x_range=(0,100), y_range=(0,100))\n",
    "\n",
    "# add a circle renderer with vectorized colors and sizes\n",
    "p.circle(x,y, radius=radii, fill_color=colors, fill_alpha=0.6, line_color=None)\n",
    "print(p)\n",
    "print(type(show(p)))\n"
   ]
  },
  {
   "cell_type": "code",
   "execution_count": 22,
   "metadata": {},
   "outputs": [
    {
     "name": "stdout",
     "output_type": "stream",
     "text": [
      "[1 2 3]\n",
      "<class 'numpy.ndarray'>\n",
      "[ 0.58962694  0.88688389  0.2182069   0.84468563  0.10377098  0.51066126\n",
      "  0.76171223  0.6087969   0.65407375  0.40894085]\n"
     ]
    }
   ],
   "source": [
    "b= [1,2,3]\n",
    "np.asarray(b)\n",
    "c = np.array(b)\n",
    "print(c)\n",
    "a = np.arange(10)\n",
    "print(type(a))\n",
    "s = np.random.random(size=10)\n",
    "print(s)"
   ]
  }
 ],
 "metadata": {
  "kernelspec": {
   "display_name": "Python 3",
   "language": "python",
   "name": "python3"
  },
  "language_info": {
   "codemirror_mode": {
    "name": "ipython",
    "version": 3
   },
   "file_extension": ".py",
   "mimetype": "text/x-python",
   "name": "python",
   "nbconvert_exporter": "python",
   "pygments_lexer": "ipython3",
   "version": "3.6.1"
  }
 },
 "nbformat": 4,
 "nbformat_minor": 2
}
