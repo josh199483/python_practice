{
 "cells": [
  {
   "cell_type": "code",
   "execution_count": 5,
   "metadata": {},
   "outputs": [
    {
     "name": "stdout",
     "output_type": "stream",
     "text": [
      "Collecting cassandra-driver\n",
      "  Using cached cassandra-driver-3.10.tar.gz\n",
      "Requirement already satisfied: six>=1.9 in c:\\users\\joshua.chen\\appdata\\local\\continuum\\anaconda3\\lib\\site-packages (from cassandra-driver)\n",
      "Skipping bdist_wheel for cassandra-driver, due to binaries being disabled for it.\n",
      "Installing collected packages: cassandra-driver\n",
      "  Running setup.py install for cassandra-driver: started\n",
      "    Running setup.py install for cassandra-driver: finished with status 'done'\n",
      "Successfully installed cassandra-driver-3.10\n"
     ]
    },
    {
     "name": "stderr",
     "output_type": "stream",
     "text": [
      "C:\\Users\\joshua.chen\\AppData\\Local\\Continuum\\Anaconda3\\lib\\site-packages\\pip\\commands\\install.py:194: UserWarning: Disabling all use of wheels due to the use of --build-options / --global-options / --install-options.\n",
      "  cmdoptions.check_install_build_global(options)\n"
     ]
    }
   ],
   "source": [
    "!pip install cassandra-driver --install-option=\"--no-cython\""
   ]
  },
  {
   "cell_type": "code",
   "execution_count": 2,
   "metadata": {
    "collapsed": true
   },
   "outputs": [],
   "source": [
    "#連線到demo keyspace\n",
    "from cassandra.cluster import Cluster\n",
    "cluster = Cluster()\n",
    "session = cluster.connect(\"demo\")"
   ]
  },
  {
   "cell_type": "code",
   "execution_count": 36,
   "metadata": {
    "scrolled": true
   },
   "outputs": [
    {
     "ename": "InvalidRequest",
     "evalue": "Error from server: code=2200 [Invalid query] message=\"Keyspace 'test' does not exist\"",
     "output_type": "error",
     "traceback": [
      "\u001b[1;31m---------------------------------------------------------------------------\u001b[0m",
      "\u001b[1;31mInvalidRequest\u001b[0m                            Traceback (most recent call last)",
      "\u001b[1;32m<ipython-input-36-7ec3dc25853c>\u001b[0m in \u001b[0;36m<module>\u001b[1;34m()\u001b[0m\n\u001b[0;32m      1\u001b[0m \u001b[1;31m#切換到其他keyspace\u001b[0m\u001b[1;33m\u001b[0m\u001b[1;33m\u001b[0m\u001b[0m\n\u001b[1;32m----> 2\u001b[1;33m \u001b[0msession\u001b[0m\u001b[1;33m.\u001b[0m\u001b[0mset_keyspace\u001b[0m\u001b[1;33m(\u001b[0m\u001b[1;34m\"test\"\u001b[0m\u001b[1;33m)\u001b[0m\u001b[1;33m\u001b[0m\u001b[0m\n\u001b[0m",
      "\u001b[1;32mC:\\Users\\joshua.chen\\AppData\\Local\\Continuum\\Anaconda3\\lib\\site-packages\\cassandra\\cluster.py\u001b[0m in \u001b[0;36mset_keyspace\u001b[1;34m(self, keyspace)\u001b[0m\n\u001b[0;32m   2428\u001b[0m         \u001b[0mThis\u001b[0m \u001b[0moperation\u001b[0m \u001b[0mblocks\u001b[0m \u001b[0muntil\u001b[0m \u001b[0mcomplete\u001b[0m\u001b[1;33m.\u001b[0m\u001b[1;33m\u001b[0m\u001b[0m\n\u001b[0;32m   2429\u001b[0m         \"\"\"\n\u001b[1;32m-> 2430\u001b[1;33m         \u001b[0mself\u001b[0m\u001b[1;33m.\u001b[0m\u001b[0mexecute\u001b[0m\u001b[1;33m(\u001b[0m\u001b[1;34m'USE %s'\u001b[0m \u001b[1;33m%\u001b[0m \u001b[1;33m(\u001b[0m\u001b[0mprotect_name\u001b[0m\u001b[1;33m(\u001b[0m\u001b[0mkeyspace\u001b[0m\u001b[1;33m)\u001b[0m\u001b[1;33m,\u001b[0m\u001b[1;33m)\u001b[0m\u001b[1;33m)\u001b[0m\u001b[1;33m\u001b[0m\u001b[0m\n\u001b[0m\u001b[0;32m   2431\u001b[0m \u001b[1;33m\u001b[0m\u001b[0m\n\u001b[0;32m   2432\u001b[0m     \u001b[1;32mdef\u001b[0m \u001b[0m_set_keyspace_for_all_pools\u001b[0m\u001b[1;33m(\u001b[0m\u001b[0mself\u001b[0m\u001b[1;33m,\u001b[0m \u001b[0mkeyspace\u001b[0m\u001b[1;33m,\u001b[0m \u001b[0mcallback\u001b[0m\u001b[1;33m)\u001b[0m\u001b[1;33m:\u001b[0m\u001b[1;33m\u001b[0m\u001b[0m\n",
      "\u001b[1;32mC:\\Users\\joshua.chen\\AppData\\Local\\Continuum\\Anaconda3\\lib\\site-packages\\cassandra\\cluster.py\u001b[0m in \u001b[0;36mexecute\u001b[1;34m(self, query, parameters, timeout, trace, custom_payload, execution_profile, paging_state)\u001b[0m\n\u001b[0;32m   2014\u001b[0m         \u001b[0;31m`\u001b[0m\u001b[0mpaging_state\u001b[0m\u001b[0;31m`\u001b[0m \u001b[1;32mis\u001b[0m \u001b[0man\u001b[0m \u001b[0moptional\u001b[0m \u001b[0mpaging\u001b[0m \u001b[0mstate\u001b[0m\u001b[1;33m,\u001b[0m \u001b[0mreused\u001b[0m \u001b[1;32mfrom\u001b[0m \u001b[0ma\u001b[0m \u001b[0mprevious\u001b[0m \u001b[1;33m:\u001b[0m\u001b[1;32mclass\u001b[0m\u001b[1;33m:\u001b[0m\u001b[0;31m`\u001b[0m\u001b[0mResultSet\u001b[0m\u001b[0;31m`\u001b[0m\u001b[1;33m.\u001b[0m\u001b[1;33m\u001b[0m\u001b[0m\n\u001b[0;32m   2015\u001b[0m         \"\"\"\n\u001b[1;32m-> 2016\u001b[1;33m         \u001b[1;32mreturn\u001b[0m \u001b[0mself\u001b[0m\u001b[1;33m.\u001b[0m\u001b[0mexecute_async\u001b[0m\u001b[1;33m(\u001b[0m\u001b[0mquery\u001b[0m\u001b[1;33m,\u001b[0m \u001b[0mparameters\u001b[0m\u001b[1;33m,\u001b[0m \u001b[0mtrace\u001b[0m\u001b[1;33m,\u001b[0m \u001b[0mcustom_payload\u001b[0m\u001b[1;33m,\u001b[0m \u001b[0mtimeout\u001b[0m\u001b[1;33m,\u001b[0m \u001b[0mexecution_profile\u001b[0m\u001b[1;33m,\u001b[0m \u001b[0mpaging_state\u001b[0m\u001b[1;33m)\u001b[0m\u001b[1;33m.\u001b[0m\u001b[0mresult\u001b[0m\u001b[1;33m(\u001b[0m\u001b[1;33m)\u001b[0m\u001b[1;33m\u001b[0m\u001b[0m\n\u001b[0m\u001b[0;32m   2017\u001b[0m \u001b[1;33m\u001b[0m\u001b[0m\n\u001b[0;32m   2018\u001b[0m     \u001b[1;32mdef\u001b[0m \u001b[0mexecute_async\u001b[0m\u001b[1;33m(\u001b[0m\u001b[0mself\u001b[0m\u001b[1;33m,\u001b[0m \u001b[0mquery\u001b[0m\u001b[1;33m,\u001b[0m \u001b[0mparameters\u001b[0m\u001b[1;33m=\u001b[0m\u001b[1;32mNone\u001b[0m\u001b[1;33m,\u001b[0m \u001b[0mtrace\u001b[0m\u001b[1;33m=\u001b[0m\u001b[1;32mFalse\u001b[0m\u001b[1;33m,\u001b[0m \u001b[0mcustom_payload\u001b[0m\u001b[1;33m=\u001b[0m\u001b[1;32mNone\u001b[0m\u001b[1;33m,\u001b[0m \u001b[0mtimeout\u001b[0m\u001b[1;33m=\u001b[0m\u001b[0m_NOT_SET\u001b[0m\u001b[1;33m,\u001b[0m \u001b[0mexecution_profile\u001b[0m\u001b[1;33m=\u001b[0m\u001b[0mEXEC_PROFILE_DEFAULT\u001b[0m\u001b[1;33m,\u001b[0m \u001b[0mpaging_state\u001b[0m\u001b[1;33m=\u001b[0m\u001b[1;32mNone\u001b[0m\u001b[1;33m)\u001b[0m\u001b[1;33m:\u001b[0m\u001b[1;33m\u001b[0m\u001b[0m\n",
      "\u001b[1;32mC:\\Users\\joshua.chen\\AppData\\Local\\Continuum\\Anaconda3\\lib\\site-packages\\cassandra\\cluster.py\u001b[0m in \u001b[0;36mresult\u001b[1;34m(self)\u001b[0m\n\u001b[0;32m   3824\u001b[0m             \u001b[1;32mreturn\u001b[0m \u001b[0mResultSet\u001b[0m\u001b[1;33m(\u001b[0m\u001b[0mself\u001b[0m\u001b[1;33m,\u001b[0m \u001b[0mself\u001b[0m\u001b[1;33m.\u001b[0m\u001b[0m_final_result\u001b[0m\u001b[1;33m)\u001b[0m\u001b[1;33m\u001b[0m\u001b[0m\n\u001b[0;32m   3825\u001b[0m         \u001b[1;32melse\u001b[0m\u001b[1;33m:\u001b[0m\u001b[1;33m\u001b[0m\u001b[0m\n\u001b[1;32m-> 3826\u001b[1;33m             \u001b[1;32mraise\u001b[0m \u001b[0mself\u001b[0m\u001b[1;33m.\u001b[0m\u001b[0m_final_exception\u001b[0m\u001b[1;33m\u001b[0m\u001b[0m\n\u001b[0m\u001b[0;32m   3827\u001b[0m \u001b[1;33m\u001b[0m\u001b[0m\n\u001b[0;32m   3828\u001b[0m     \u001b[1;32mdef\u001b[0m \u001b[0mget_query_trace_ids\u001b[0m\u001b[1;33m(\u001b[0m\u001b[0mself\u001b[0m\u001b[1;33m)\u001b[0m\u001b[1;33m:\u001b[0m\u001b[1;33m\u001b[0m\u001b[0m\n",
      "\u001b[1;31mInvalidRequest\u001b[0m: Error from server: code=2200 [Invalid query] message=\"Keyspace 'test' does not exist\""
     ]
    }
   ],
   "source": [
    "#切換到其他keyspace\n",
    "session.set_keyspace(\"test\")\n"
   ]
  },
  {
   "cell_type": "code",
   "execution_count": 30,
   "metadata": {},
   "outputs": [
    {
     "data": {
      "text/plain": [
       "<cassandra.cluster.ResultSet at 0x1e5394de4a8>"
      ]
     },
     "execution_count": 30,
     "metadata": {},
     "output_type": "execute_result"
    }
   ],
   "source": [
    "#create table\n",
    "session.execute(\"create table user (name text,age int,user_id int primary key)\")"
   ]
  },
  {
   "cell_type": "code",
   "execution_count": 35,
   "metadata": {},
   "outputs": [
    {
     "name": "stdout",
     "output_type": "stream",
     "text": [
      "[Row(user_id=1, age=22, name='josh')]\n"
     ]
    }
   ],
   "source": [
    "#insert data and query\n",
    "session.execute(\"INSERT INTO user (name, age, user_id) values (%s,%s,%s)\",(\"josh\",22,1))\n",
    "res = session.execute(\"select * from user\")\n",
    "print(res[:])"
   ]
  },
  {
   "cell_type": "code",
   "execution_count": 40,
   "metadata": {
    "collapsed": true
   },
   "outputs": [],
   "source": [
    "#insert many data \n",
    "import random \n",
    "nameList = [\"joshua\",\"michael\",\"howard\"]\n",
    "\n",
    "for i in range(50):\n",
    "    age = random.randint(20,50)\n",
    "    session.execute(\"insert into user (name, age, user_id) values (%s,%s,%s)\",(random.choice(nameList),age,i))"
   ]
  },
  {
   "cell_type": "code",
   "execution_count": 47,
   "metadata": {
    "scrolled": true
   },
   "outputs": [
    {
     "name": "stdout",
     "output_type": "stream",
     "text": [
      "23 45 michael\n",
      "33 50 howard\n",
      "5 32 michael\n",
      "28 30 michael\n",
      "42 40 joshua\n",
      "49 44 michael\n",
      "10 42 howard\n",
      "16 33 joshua\n",
      "13 39 michael\n",
      "30 25 michael\n",
      "11 42 joshua\n",
      "1 41 michael\n",
      "19 40 michael\n",
      "46 49 joshua\n",
      "43 28 howard\n",
      "8 42 joshua\n",
      "0 20 michael\n",
      "2 47 howard\n",
      "45 26 joshua\n",
      "4 40 howard\n",
      "18 35 michael\n",
      "47 46 joshua\n",
      "44 27 michael\n",
      "15 42 joshua\n",
      "22 26 joshua\n",
      "27 32 michael\n",
      "20 42 joshua\n",
      "7 46 michael\n",
      "36 24 michael\n",
      "40 44 howard\n",
      "38 40 howard\n",
      "39 38 michael\n",
      "6 33 joshua\n",
      "29 34 joshua\n",
      "37 49 joshua\n",
      "9 20 joshua\n",
      "14 40 michael\n",
      "26 20 howard\n",
      "21 29 howard\n",
      "17 31 michael\n",
      "35 30 joshua\n",
      "31 40 howard\n",
      "48 31 howard\n",
      "24 23 howard\n",
      "32 35 howard\n",
      "41 24 michael\n",
      "25 45 joshua\n",
      "34 50 michael\n",
      "12 30 joshua\n",
      "3 44 howard\n"
     ]
    }
   ],
   "source": [
    "res1 = session.execute(\"select * from user\")\n",
    "# for r in res1:\n",
    "#     print(r.user_id,r.name,r.age)\n",
    "for r in res1:\n",
    "    print(r[0],r[1],r[2])"
   ]
  },
  {
   "cell_type": "markdown",
   "metadata": {},
   "source": [
    "# 修改json檔變成txt檔"
   ]
  },
  {
   "cell_type": "markdown",
   "metadata": {},
   "source": [
    "# 全檔一起改"
   ]
  },
  {
   "cell_type": "code",
   "execution_count": 38,
   "metadata": {},
   "outputs": [
    {
     "name": "stdout",
     "output_type": "stream",
     "text": [
      "['AF900downtime.json', 'AF900hourtarget.json', 'AF900movetarget.json', 'AF900tacttime.json', 'AF900totalmove.json', 'AF900usereffi.json', 'AF900WIP.json', 'avgdowntime.json', 'BF220downtime.json', 'BF220movetarget.json', 'BF220totalmove.json', 'BF220WIP.json', 'BF400downtime.json', 'BF400hourtarget.json', 'BF400movetarget.json', 'BF400WIP.json', 'joint1ec.json', 'joint1temp.json', 'joint1v.json', 'joint1vel.json', 'joint2ec.json', 'joint2temp.json', 'joint2v.json', 'joint2vel.json', 'joint3ec.json', 'joint3temp.json', 'joint3v.json', 'joint3vel.json', 'joint4ec.json', 'joint4temp.json', 'joint4v.json', 'joint4vel.json', 'joint5ec.json', 'joint5temp.json', 'joint5v.json', 'joint5vel.json', 'joint6ec.json', 'joint6temp.json', 'joint6v.json', 'joint6vel.json', 'joint7v.json', 'move.json', 'overview2.json', 'sensor1tacttime.json', 'sensor1totalmove.json', 'sensor2tacttime.json', 'sensor2totalmove.json', 'sensor3tacttime.json', 'sensor3totalmove.json', 'smteffi.json', 'smthourtarget.json', 'smtmove.json', 'smtmovetarget.json', 'smtOEE.json', 'SMTquality.json', 'smtSummary.json', 'smttact.json', 'smtuptime.json', 'smtutil.json', 'totalwip.json']\n"
     ]
    }
   ],
   "source": [
    "#全檔一起改\n",
    "import os\n",
    "cur_path=os.path.dirname('json/')\n",
    "file_list = os.listdir(cur_path)\n",
    "print(file_list)\n",
    "def load_json(file):\n",
    "    with open(file,\"r\",encoding=\"utf-8\")as f:\n",
    "        j = json.loads(f.read())\n",
    "    return j    \n",
    "def jsonToText(json):\n",
    "    total_str=\"\"\n",
    "    tuple_list = [(k,v)for k,v in json.items()]\n",
    "    for t in tuple_list:\n",
    "        total_str+=t[0]+\"\\t\"+str(t[1])+\"\\n\"\n",
    "    return total_str    \n",
    "\n",
    "\n",
    "for file in file_list:\n",
    "    if file.endswith('.json'):\n",
    "        json_file = load_json(\"./json/\"+file)\n",
    "        text = jsonToText(json_file)\n",
    "        with open(\"./json/\"+file.replace(\".json\",\".txt\"),\"w\",encoding=\"utf-8\")as f:\n",
    "            f.write(text)\n",
    "        \n",
    "            \n",
    "        \n",
    "# sample=os.walk(cur_path)\n",
    "# for dirname,subdir,files in sample:\n",
    "#     print('路徑:',dirname)\n",
    "#     print('目錄:',subdir)\n",
    "#     print('檔案',files)\n",
    "    "
   ]
  },
  {
   "cell_type": "code",
   "execution_count": 32,
   "metadata": {
    "collapsed": true,
    "scrolled": true
   },
   "outputs": [],
   "source": [
    "import json\n",
    "import os\n",
    "from types import *\n",
    "# a=os.getcwd()\n",
    "# print(a)\n",
    "# os.path.exists(\"*.json\")\n",
    "# session.execute(\"create table testData (time text primary key,data float)\")\n",
    "with open(\"./json/AF900downtime.json\",\"r\",encoding= \"utf-8\") as f:\n",
    "    b = json.loads(f.read())\n",
    "a=[(k,v) for k,v in b.items()]\n",
    "\n",
    "with open(\"./json/AF900downtime.txt\",\"w\",encoding=\"utf-8\") as i:\n",
    "    for c in a:\n",
    "        i.write(c[0]+\"\\t\"+str(c[1])+\"\\n\")\n",
    "    \n",
    "# for i in b:\n",
    "   \n",
    "#     print(i,type(b[i]))\n",
    "#     session.execute(\"insert into testData (time,data) values(%s,%s)\",(i,b[i]))"
   ]
  },
  {
   "cell_type": "markdown",
   "metadata": {},
   "source": [
    "# 針對單一檔案修改"
   ]
  },
  {
   "cell_type": "code",
   "execution_count": null,
   "metadata": {
    "collapsed": true
   },
   "outputs": [],
   "source": [
    "#針對單一檔案修改\n",
    "import json\n",
    "import os\n",
    "from types import *\n",
    "with open(\"./json/AF900tacttime.json\",\"r\",encoding= \"utf-8\") as f:\n",
    "    b = json.loads(f.read())\n",
    "a=[(k,v) for k,v in b.items()]    \n",
    "with open(\"./json/AF900tacttime.txt\",\"w\",encoding=\"utf-8\") as i:\n",
    "    for c in a:\n",
    "        i.write(c[0]+\"\\t\"+str(c[1])+\"\\n\")"
   ]
  },
  {
   "cell_type": "code",
   "execution_count": 34,
   "metadata": {
    "scrolled": true
   },
   "outputs": [
    {
     "name": "stdout",
     "output_type": "stream",
     "text": [
      "{'SMT': {'move': 348, 'wip': 0}, 'BF220': {'move': 298, 'wip': 35}, 'BF400': {'move': 333, 'wip': 67}, 'AF900': {'move': 56, 'wip': 7}}\n",
      "13:30\t348\t0\t298\t35\t333\t67\t56\t7\n",
      "10:30\t158\t0\t169\t30\t177\t61\t26\t1\n",
      "11:20\t237\t0\t224\t39\t255\t52\t40\t10\n",
      "12:40\t282\t0\t267\t32\t300\t52\t47\t3\n",
      "20:00\t698\t0\t631\t39\t602\t56\t127\t4\n",
      "15:10\t494\t0\t394\t39\t337\t58\t82\t6\n",
      "10:50\t176\t0\t193\t32\t207\t66\t32\t2\n",
      "23:40\t698\t0\t631\t33\t602\t61\t127\t2\n",
      "19:40\t698\t0\t631\t35\t594\t61\t124\t10\n",
      "09:00\t25\t0\t75\t39\t103\t66\t11\t7\n",
      "18:40\t698\t0\t583\t34\t564\t69\t113\t9\n",
      "11:30\t259\t0\t231\t31\t276\t57\t44\t4\n",
      "15:20\t515\t0\t406\t37\t337\t56\t84\t9\n",
      "20:10\t698\t0\t631\t34\t602\t69\t127\t5\n",
      "13:00\t291\t0\t267\t31\t315\t50\t48\t10\n",
      "23:30\t698\t0\t631\t39\t602\t53\t127\t10\n",
      "10:40\t166\t0\t181\t30\t190\t53\t29\t8\n",
      "17:40\t698\t0\t536\t33\t499\t64\t105\t1\n",
      "12:30\t282\t0\t267\t36\t300\t53\t47\t4\n",
      "19:50\t698\t0\t631\t38\t602\t52\t126\t8\n",
      "14:10\t395\t0\t341\t31\t337\t56\t68\t5\n",
      "08:40\t0\t0\t56\t36\t62\t67\t6\t5\n",
      "16:30\t643\t0\t485\t31\t427\t59\t99\t8\n",
      "13:10\t305\t0\t279\t34\t331\t53\t50\t5\n",
      "20:20\t698\t0\t631\t35\t602\t51\t127\t10\n",
      "17:50\t698\t0\t536\t33\t499\t53\t105\t10\n",
      "23:20\t698\t0\t631\t37\t602\t64\t127\t10\n",
      "11:40\t280\t0\t243\t37\t284\t54\t45\t9\n",
      "22:40\t698\t0\t631\t31\t602\t64\t127\t8\n",
      "12:20\t282\t0\t267\t31\t300\t54\t47\t1\n",
      "16:10\t609\t0\t466\t36\t389\t53\t95\t3\n",
      "21:10\t698\t0\t631\t32\t602\t63\t127\t5\n",
      "14:00\t387\t0\t329\t38\t337\t62\t66\t9\n",
      "08:50\t13\t0\t67\t35\t82\t54\t9\t10\n",
      "22:50\t698\t0\t631\t39\t602\t53\t127\t9\n",
      "11:50\t282\t0\t255\t39\t300\t58\t47\t6\n",
      "09:50\t122\t0\t130\t39\t161\t58\t21\t5\n",
      "16:00\t589\t0\t454\t37\t372\t59\t92\t3\n",
      "12:10\t282\t0\t267\t34\t300\t68\t47\t6\n",
      "23:10\t698\t0\t631\t32\t602\t64\t127\t9\n",
      "21:00\t698\t0\t631\t34\t602\t54\t127\t10\n",
      "17:20\t698\t0\t512\t37\t499\t66\t105\t4\n",
      "08:20\t0\t0\t37\t32\t18\t65\t1\t6\n",
      "14:30\t427\t0\t360\t35\t337\t62\t74\t7\n",
      "15:30\t533\t0\t418\t34\t337\t51\t85\t1\n",
      "18:10\t698\t0\t556\t34\t516\t63\t106\t6\n",
      "10:20\t142\t0\t157\t39\t166\t64\t24\t3\n",
      "19:00\t698\t0\t607\t31\t581\t63\t116\t7\n",
      "12:00\t282\t0\t267\t39\t300\t63\t47\t10\n",
      "09:40\t104\t0\t118\t31\t161\t50\t17\t10\n",
      "23:00\t698\t0\t631\t33\t602\t64\t127\t8\n",
      "22:20\t698\t0\t631\t31\t602\t65\t127\t1\n",
      "17:30\t698\t0\t524\t37\t499\t58\t105\t5\n",
      "14:20\t403\t0\t353\t35\t337\t52\t70\t5\n",
      "08:30\t0\t0\t44\t38\t39\t66\t4\t10\n",
      "10:10\t138\t0\t145\t34\t161\t58\t23\t3\n",
      "21:30\t698\t0\t631\t30\t602\t58\t127\t3\n",
      "15:40\t552\t0\t430\t35\t341\t53\t88\t10\n",
      "20:30\t698\t0\t631\t34\t602\t57\t127\t10\n",
      "18:00\t698\t0\t548\t39\t502\t50\t105\t7\n",
      "07:50\t0\t0\t7\t31\t0\t68\t0\t4\n",
      "19:10\t698\t0\t619\t33\t581\t55\t117\t4\n",
      "08:00\t0\t0\t18\t30\t0\t65\t0\t10\n",
      "13:40\t367\t0\t305\t38\t333\t66\t59\t10\n",
      "17:00\t698\t0\t497\t36\t470\t54\t104\t5\n",
      "09:30\t81\t0\t106\t34\t161\t59\t16\t4\n",
      "22:30\t698\t0\t631\t31\t602\t58\t127\t3\n",
      "21:20\t698\t0\t631\t36\t602\t55\t127\t4\n",
      "10:00\t135\t0\t138\t37\t161\t67\t23\t5\n",
      "20:40\t698\t0\t631\t34\t602\t67\t127\t9\n",
      "15:50\t569\t0\t442\t37\t353\t54\t91\t8\n",
      "18:30\t698\t0\t576\t32\t547\t64\t109\t6\n",
      "14:50\t468\t0\t375\t33\t337\t53\t79\t8\n",
      "13:50\t376\t0\t317\t33\t333\t59\t62\t1\n",
      "19:20\t698\t0\t631\t38\t581\t58\t120\t10\n",
      "08:10\t0\t0\t30\t30\t8\t59\t0\t9\n",
      "11:00\t198\t0\t205\t36\t223\t68\t36\t3\n",
      "22:00\t698\t0\t631\t35\t602\t65\t127\t4\n",
      "09:20\t62\t0\t98\t35\t146\t60\t15\t9\n",
      "16:50\t676\t0\t497\t31\t453\t55\t103\t5\n",
      "17:10\t698\t0\t505\t39\t486\t67\t105\t10\n",
      "20:50\t698\t0\t631\t33\t602\t68\t127\t7\n",
      "18:20\t698\t0\t564\t33\t531\t63\t107\t3\n",
      "21:50\t698\t0\t631\t33\t602\t52\t127\t6\n",
      "14:40\t447\t0\t367\t37\t337\t54\t76\t5\n",
      "13:20\t327\t0\t286\t36\t332\t64\t53\t10\n",
      "19:30\t698\t0\t631\t32\t584\t55\t123\t10\n",
      "15:00\t491\t0\t387\t39\t337\t55\t82\t5\n",
      "12:50\t282\t0\t267\t37\t300\t67\t47\t10\n",
      "16:40\t654\t0\t497\t35\t443\t65\t102\t5\n",
      "11:10\t215\t0\t217\t34\t241\t60\t39\t6\n",
      "09:10\t42\t0\t87\t38\t123\t51\t12\t5\n",
      "23:50\t698\t0\t631\t31\t602\t52\t127\t10\n",
      "22:10\t698\t0\t631\t31\t602\t53\t127\t6\n",
      "16:20\t621\t0\t473\t38\t406\t64\t97\t1\n",
      "18:50\t698\t0\t595\t31\t581\t59\t115\t8\n",
      "21:40\t698\t0\t631\t39\t602\t59\t127\t6\n"
     ]
    }
   ],
   "source": [
    "with open(\"./json/overview2.json\",\"r\",encoding= \"utf-8\") as f:\n",
    "    b = json.loads(f.read())\n",
    "print(b['13:30'])\n",
    "str_list = []\n",
    "time_keys = list(b.keys())\n",
    "for time in time_keys:\n",
    "    all_str=\"\"\n",
    "    equ_keys = list(b[time].keys())\n",
    "    \n",
    "    all_str = time+'\\t'+str(b[time][equ_keys[0]]['move'])+'\\t'+str(b[time][equ_keys[0]]['wip'])+'\\t'+str(b[time][equ_keys[1]]['move'])+'\\t'+str(b[time][equ_keys[1]]['wip'])+'\\t'+str(b[time][equ_keys[2]]['move'])+'\\t'+str(b[time][equ_keys[2]]['wip'])+'\\t'+str(b[time][equ_keys[3]]['move'])+'\\t'+str(b[time][equ_keys[3]]['wip'])\n",
    "    str_list.append(all_str)\n",
    "    \n",
    "print('\\n'.join(str_list))\n",
    "with open(\"./json/overview2.txt\",\"w\",encoding=\"utf-8\") as i:\n",
    "    i.write('\\n'.join(str_list))\n"
   ]
  },
  {
   "cell_type": "code",
   "execution_count": 46,
   "metadata": {
    "scrolled": true
   },
   "outputs": [
    {
     "name": "stdout",
     "output_type": "stream",
     "text": [
      "{'2017-05-17': {'M5': '70.81', 'M4': '44.13', 'M1': '43.01', 'M3': '42.98', 'M2': '49.42'}, '2017-05-18': {'M5': '59.58', 'M4': '58.30', 'M1': '60.83', 'M3': '64.47', 'M2': '61.33'}, '2017-05-19': {'M5': '55.61', 'M4': '40.63', 'M1': '36.17', 'M3': '47.23', 'M2': '43.54'}, '2017-05-23': {'M5': '52.88', 'M4': '62.85', 'M1': '44.92', 'M3': '47.43', 'M2': '45.04'}, '2017-05-22': {'M5': '17.71', 'M4': '16.52', 'M1': '16.65', 'M3': '16.23', 'M2': '19.30'}, '2017-05-21': {'M5': '54.17', 'M4': '39.07', 'M1': '38.53', 'M3': '37.42', 'M2': '35.66'}, '2017-05-20': {'M5': '75.46', 'M4': '61.13', 'M1': '51.78', 'M3': '69.96', 'M2': '62.77'}}\n",
      "2017-05-17\t43.01\t49.42\t42.98\t44.13\t70.81\n",
      "2017-05-18\t60.83\t61.33\t64.47\t58.30\t59.58\n",
      "2017-05-19\t36.17\t43.54\t47.23\t40.63\t55.61\n",
      "2017-05-23\t44.92\t45.04\t47.43\t62.85\t52.88\n",
      "2017-05-22\t16.65\t19.30\t16.23\t16.52\t17.71\n",
      "2017-05-21\t38.53\t35.66\t37.42\t39.07\t54.17\n",
      "2017-05-20\t51.78\t62.77\t69.96\t61.13\t75.46\n"
     ]
    }
   ],
   "source": [
    "with open(\"./json/smtutil.json\",\"r\",encoding= \"utf-8\") as f:\n",
    "    b = json.loads(f.read())\n",
    "print(b) \n",
    "str_list = []\n",
    "date_keys = list(b.keys())\n",
    "for date in date_keys:\n",
    "    all_str=\"\"\n",
    "#     print(date,b[date]['M1'],b[date]['M2'],b[date]['M3'],b[date]['M4'],b[date]['M5'])\n",
    "    all_str = date+'\\t'+b[date]['M1']+'\\t'+b[date]['M2']+'\\t'+b[date]['M3']+'\\t'+b[date]['M4']+'\\t'+b[date]['M5']\n",
    "    str_list.append(all_str)\n",
    "print('\\n'.join(str_list)) \n",
    "with open(\"./json/smtutil.txt\",\"w\",encoding=\"utf-8\") as i:\n",
    "    i.write('\\n'.join(str_list))"
   ]
  },
  {
   "cell_type": "code",
   "execution_count": 50,
   "metadata": {},
   "outputs": [
    {
     "name": "stdout",
     "output_type": "stream",
     "text": [
      "07:50\t100.000\t0\t28146\t8.08\t07:49:06\n",
      "08:00\t100.000\t0\t28695\t17.23\t07:58:15\n",
      "08:10\t100.000\t0\t29368\t28.45\t08:09:28\n",
      "08:20\t100.000\t0\t29857\t36.6\t08:17:37\n",
      "08:30\t100.000\t0\t30530\t47.82\t08:28:50\n",
      "08:40\t100.000\t0\t31080\t56.62\t08:38:00\n",
      "08:50\t99.980\t13\t31753\t57.03\t08:49:13\n",
      "09:00\t99.980\t25\t32304\t57.03\t08:58:24\n",
      "09:10\t99.970\t42\t32977\t58.22\t09:09:37\n",
      "09:20\t99.980\t62\t33527\t58.22\t09:18:47\n",
      "09:30\t99.980\t81\t34078\t58.22\t09:27:58\n",
      "09:40\t99.980\t104\t34750\t58.22\t09:39:10\n",
      "09:50\t99.990\t122\t35240\t58.22\t09:47:20\n",
      "10:00\t99.990\t135\t35913\t58.22\t09:58:33\n",
      "10:10\t99.990\t138\t36584\t58.22\t10:09:44\n",
      "10:20\t99.990\t142\t37147\t58.22\t10:19:07\n",
      "10:30\t99.990\t158\t37697\t58.22\t10:28:17\n",
      "10:40\t99.990\t166\t38370\t64.7\t10:39:30\n",
      "10:50\t99.990\t176\t38921\t64.7\t10:48:41\n",
      "11:00\t99.980\t198\t39594\t64.7\t10:59:54\n",
      "11:10\t99.990\t215\t40083\t65.18\t11:08:03\n",
      "11:20\t99.970\t237\t40756\t66.07\t11:19:16\n",
      "11:30\t99.980\t259\t41318\t66.07\t11:28:38\n",
      "11:40\t99.980\t280\t41991\t66.78\t11:39:51\n",
      "11:50\t99.980\t282\t42542\t66.78\t11:49:02\n",
      "12:00\t99.980\t282\t43092\t66.78\t11:58:12\n",
      "12:10\t99.980\t282\t43765\t66.78\t12:09:25\n",
      "12:20\t99.980\t282\t44316\t66.78\t12:18:36\n",
      "12:30\t99.980\t282\t44989\t66.78\t12:29:49\n",
      "12:40\t99.980\t282\t45477\t66.78\t12:37:57\n",
      "12:50\t99.980\t282\t46101\t66.78\t12:48:21\n",
      "13:00\t99.980\t291\t46774\t66.78\t12:59:34\n",
      "13:10\t99.980\t305\t47324\t66.78\t13:08:44\n",
      "13:20\t99.980\t327\t47997\t66.78\t13:19:57\n",
      "13:30\t99.980\t348\t48548\t66.78\t13:29:08\n",
      "13:40\t99.980\t367\t49098\t67.07\t13:38:18\n",
      "13:50\t99.970\t376\t49771\t70.93\t13:49:31\n",
      "14:00\t99.970\t387\t50334\t70.93\t13:58:54\n",
      "14:10\t98.317\t395\t50970\t75.63000000000001\t14:09:30\n",
      "14:20\t99.096\t403\t51520\t78.83000000000001\t14:18:40\n",
      "14:30\t99.646\t427\t52193\t78.83000000000001\t14:29:53\n",
      "14:40\t99.760\t447\t52744\t79.11000000000001\t14:39:04\n",
      "14:50\t99.787\t468\t53294\t79.11000000000001\t14:48:14\n",
      "15:00\t99.833\t491\t53967\t79.7\t14:59:27\n",
      "15:10\t99.836\t494\t54517\t79.7\t15:08:37\n",
      "15:20\t99.867\t515\t55190\t79.7\t15:19:50\n",
      "15:30\t99.880\t533\t55679\t79.7\t15:27:59\n",
      "15:40\t99.900\t552\t56353\t82.16000000000001\t15:39:13\n",
      "15:50\t99.907\t569\t56903\t82.16000000000001\t15:48:23\n",
      "16:00\t99.915\t589\t57576\t83.30000000000001\t15:59:36\n",
      "16:10\t99.921\t609\t58127\t83.30000000000001\t16:08:47\n",
      "16:20\t99.924\t621\t58678\t83.30000000000001\t16:17:58\n",
      "16:30\t99.928\t643\t59363\t83.30000000000001\t16:29:23\n",
      "16:40\t99.911\t654\t59853\t85.38000000000001\t16:37:33\n",
      "16:50\t99.914\t676\t60526\t86.58000000000001\t16:48:46\n",
      "17:00\t99.928\t698\t61199\t86.58000000000001\t16:59:59\n",
      "17:10\t99.928\t698\t61199\t86.58000000000001\t16:59:59\n",
      "17:20\t99.928\t698\t61199\t86.58000000000001\t16:59:59\n",
      "17:30\t99.928\t698\t61199\t86.58000000000001\t16:59:59\n",
      "17:40\t99.928\t698\t61199\t86.58000000000001\t16:59:59\n",
      "17:50\t99.928\t698\t61199\t86.58000000000001\t16:59:59\n",
      "18:00\t99.928\t698\t61199\t86.58000000000001\t16:59:59\n",
      "18:10\t99.928\t698\t61199\t86.58000000000001\t16:59:59\n",
      "18:20\t99.928\t698\t61199\t86.58000000000001\t16:59:59\n",
      "18:30\t99.928\t698\t61199\t86.58000000000001\t16:59:59\n",
      "18:40\t99.928\t698\t61199\t86.58000000000001\t16:59:59\n",
      "18:50\t99.928\t698\t61199\t86.58000000000001\t16:59:59\n",
      "19:00\t99.928\t698\t61199\t86.58000000000001\t16:59:59\n",
      "19:10\t99.928\t698\t61199\t86.58000000000001\t16:59:59\n",
      "19:20\t99.928\t698\t61199\t86.58000000000001\t16:59:59\n",
      "19:30\t99.928\t698\t61199\t86.58000000000001\t16:59:59\n",
      "19:40\t99.928\t698\t61199\t86.58000000000001\t16:59:59\n",
      "19:50\t99.928\t698\t61199\t86.58000000000001\t16:59:59\n",
      "20:00\t99.928\t698\t61199\t86.58000000000001\t16:59:59\n",
      "20:10\t99.928\t698\t61199\t86.58000000000001\t16:59:59\n",
      "20:20\t99.928\t698\t61199\t86.58000000000001\t16:59:59\n",
      "20:30\t99.928\t698\t61199\t86.58000000000001\t16:59:59\n",
      "20:40\t99.928\t698\t61199\t86.58000000000001\t16:59:59\n",
      "20:50\t99.928\t698\t61199\t86.58000000000001\t16:59:59\n",
      "21:00\t99.928\t698\t61199\t86.58000000000001\t16:59:59\n",
      "21:10\t99.928\t698\t61199\t86.58000000000001\t16:59:59\n",
      "21:20\t99.928\t698\t61199\t86.58000000000001\t16:59:59\n",
      "21:30\t99.928\t698\t61199\t86.58000000000001\t16:59:59\n",
      "21:40\t99.928\t698\t61199\t86.58000000000001\t16:59:59\n",
      "21:50\t99.928\t698\t61199\t86.58000000000001\t16:59:59\n",
      "22:00\t99.928\t698\t61199\t86.58000000000001\t16:59:59\n",
      "22:10\t99.928\t698\t61199\t86.58000000000001\t16:59:59\n",
      "22:20\t99.928\t698\t61199\t86.58000000000001\t16:59:59\n",
      "22:30\t99.928\t698\t61199\t86.58000000000001\t16:59:59\n",
      "22:40\t99.928\t698\t61199\t86.58000000000001\t16:59:59\n",
      "22:50\t99.928\t698\t61199\t86.58000000000001\t16:59:59\n",
      "23:00\t99.928\t698\t61199\t86.58000000000001\t16:59:59\n",
      "23:10\t99.928\t698\t61199\t86.58000000000001\t16:59:59\n",
      "23:20\t99.928\t698\t61199\t86.58000000000001\t16:59:59\n",
      "23:30\t99.928\t698\t61199\t86.58000000000001\t16:59:59\n",
      "23:40\t99.928\t698\t61199\t86.58000000000001\t16:59:59\n",
      "23:50\t99.928\t698\t61199\t86.58000000000001\t16:59:59\n"
     ]
    }
   ],
   "source": [
    "with open(\"./json/smtSummary.json\",\"r\",encoding= \"utf-8\") as f:\n",
    "    b = json.loads(f.read())\n",
    "str_list = []\n",
    "time_keys = list(b.keys())\n",
    "for time in time_keys:\n",
    "    all_str=\"\"\n",
    "#     print(time,b[time]['CompChuck'],b[time]['move'],b[time]['sec'],b[time]['stoptime'],b[time]['time'])\n",
    "    all_str = time+'\\t'+b[time]['CompChuck']+'\\t'+str(b[time]['move'])+'\\t'+str(b[time]['sec'])+'\\t'+str(b[time]['stoptime'])+'\\t'+b[time]['time']\n",
    "    str_list.append(all_str)\n",
    "print('\\n'.join(str_list)) \n",
    "with open(\"./json/smtSummary.txt\",\"w\",encoding=\"utf-8\") as i:\n",
    "    i.write('\\n'.join(str_list))"
   ]
  }
 ],
 "metadata": {
  "kernelspec": {
   "display_name": "Python 3",
   "language": "python",
   "name": "python3"
  },
  "language_info": {
   "codemirror_mode": {
    "name": "ipython",
    "version": 3
   },
   "file_extension": ".py",
   "mimetype": "text/x-python",
   "name": "python",
   "nbconvert_exporter": "python",
   "pygments_lexer": "ipython3",
   "version": "3.6.1"
  }
 },
 "nbformat": 4,
 "nbformat_minor": 2
}
